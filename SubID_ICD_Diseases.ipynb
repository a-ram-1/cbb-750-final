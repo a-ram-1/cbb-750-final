{
  "nbformat": 4,
  "nbformat_minor": 0,
  "metadata": {
    "colab": {
      "name": "SubID_ICD_Diseases.ipynb",
      "provenance": [],
      "collapsed_sections": []
    },
    "kernelspec": {
      "display_name": "Python 3",
      "name": "python3"
    },
    "language_info": {
      "name": "python"
    }
  },
  "cells": [
    {
      "cell_type": "markdown",
      "metadata": {
        "id": "04eD-m9MC0Su"
      },
      "source": [
        "# Sorting SubjectIDs for Cardiomyopathy and Coronary artery disease (CAD) patients\n",
        "\n",
        "\n",
        "### Inputs: \n",
        "\n",
        "* **D_ICD_DIAGNOSES.csv** : ICD-9 codes for diagnoses\n",
        "* **DIAGNOSES_ICD.csv** : ICD-9 diagnoses for patients\n",
        "* **SubjectsWithNotes.csv** created by Sarah: Unique SubjectIDs for all patients with associated note data in NOTEEVENTS\n",
        "\n",
        "### Outputs: \n",
        "\n",
        "* **SubID_ICD_Disease.csv**: Unique SubjectIDs for Cardiomyopathy and CAD patients sorted from \"SubjectsWithNotes.csv\""
      ]
    },
    {
      "cell_type": "markdown",
      "metadata": {
        "id": "pc-tBUI-ENE8"
      },
      "source": [
        "## Mount drive and import the necessary library"
      ]
    },
    {
      "cell_type": "code",
      "metadata": {
        "colab": {
          "base_uri": "https://localhost:8080/"
        },
        "id": "Ley90p6oxjbr",
        "outputId": "95cb19a2-5b31-43d8-ba53-00bcff9ce1c0"
      },
      "source": [
        "from google.colab import drive\n",
        "drive.mount('/content/drive')\n",
        "\n",
        "import pandas as pd"
      ],
      "execution_count": null,
      "outputs": [
        {
          "output_type": "stream",
          "text": [
            "Go to this URL in a browser: https://accounts.google.com/o/oauth2/auth?client_id=947318989803-6bn6qk8qdgf4n4g3pfee6491hc0brc4i.apps.googleusercontent.com&redirect_uri=urn%3aietf%3awg%3aoauth%3a2.0%3aoob&scope=email%20https%3a%2f%2fwww.googleapis.com%2fauth%2fdocs.test%20https%3a%2f%2fwww.googleapis.com%2fauth%2fdrive%20https%3a%2f%2fwww.googleapis.com%2fauth%2fdrive.photos.readonly%20https%3a%2f%2fwww.googleapis.com%2fauth%2fpeopleapi.readonly%20https%3a%2f%2fwww.googleapis.com%2fauth%2fdrive.activity.readonly%20https%3a%2f%2fwww.googleapis.com%2fauth%2fexperimentsandconfigs%20https%3a%2f%2fwww.googleapis.com%2fauth%2fphotos.native&response_type=code\n",
            "\n",
            "Enter your authorization code:\n",
            "4/1AY0e-g7Mo9_7f4289tUi-aoj4apzC36mVN5irASwhPsDPwp3JMXdUth42ak\n",
            "Mounted at /content/drive\n",
            "Drive already mounted at /content/drive; to attempt to forcibly remount, call drive.mount(\"/content/drive\", force_remount=True).\n"
          ],
          "name": "stdout"
        }
      ]
    },
    {
      "cell_type": "markdown",
      "metadata": {
        "id": "oxiJXNJpDCYO"
      },
      "source": [
        "## D_ICD_Diagnoses data from MIMIC III\n",
        " ### This table defines ICD-9 codes for diagnoses. We use this data to find the ICD-9 codes associated with the diseases (Cardiomyopathy and CAD) we are interested in."
      ]
    },
    {
      "cell_type": "markdown",
      "metadata": {
        "id": "9nvvDKr5Fvuw"
      },
      "source": [
        "Import ICD_Diagnoses csv file from our Google drive"
      ]
    },
    {
      "cell_type": "code",
      "metadata": {
        "colab": {
          "base_uri": "https://localhost:8080/",
          "height": 424
        },
        "id": "Ww6J_Jr1zAnR",
        "outputId": "45e53cc1-a979-40b8-c39b-7352c98149c9"
      },
      "source": [
        "ICD_D = pd.read_csv('/content/drive/MyDrive/cbb 750 final/mimic/D_ICD_DIAGNOSES.csv')\n",
        "ICD_D"
      ],
      "execution_count": null,
      "outputs": [
        {
          "output_type": "execute_result",
          "data": {
            "text/html": [
              "<div>\n",
              "<style scoped>\n",
              "    .dataframe tbody tr th:only-of-type {\n",
              "        vertical-align: middle;\n",
              "    }\n",
              "\n",
              "    .dataframe tbody tr th {\n",
              "        vertical-align: top;\n",
              "    }\n",
              "\n",
              "    .dataframe thead th {\n",
              "        text-align: right;\n",
              "    }\n",
              "</style>\n",
              "<table border=\"1\" class=\"dataframe\">\n",
              "  <thead>\n",
              "    <tr style=\"text-align: right;\">\n",
              "      <th></th>\n",
              "      <th>ROW_ID</th>\n",
              "      <th>ICD9_CODE</th>\n",
              "      <th>SHORT_TITLE</th>\n",
              "      <th>LONG_TITLE</th>\n",
              "    </tr>\n",
              "  </thead>\n",
              "  <tbody>\n",
              "    <tr>\n",
              "      <th>0</th>\n",
              "      <td>174</td>\n",
              "      <td>01166</td>\n",
              "      <td>TB pneumonia-oth test</td>\n",
              "      <td>Tuberculous pneumonia [any form], tubercle bac...</td>\n",
              "    </tr>\n",
              "    <tr>\n",
              "      <th>1</th>\n",
              "      <td>175</td>\n",
              "      <td>01170</td>\n",
              "      <td>TB pneumothorax-unspec</td>\n",
              "      <td>Tuberculous pneumothorax, unspecified</td>\n",
              "    </tr>\n",
              "    <tr>\n",
              "      <th>2</th>\n",
              "      <td>176</td>\n",
              "      <td>01171</td>\n",
              "      <td>TB pneumothorax-no exam</td>\n",
              "      <td>Tuberculous pneumothorax, bacteriological or h...</td>\n",
              "    </tr>\n",
              "    <tr>\n",
              "      <th>3</th>\n",
              "      <td>177</td>\n",
              "      <td>01172</td>\n",
              "      <td>TB pneumothorx-exam unkn</td>\n",
              "      <td>Tuberculous pneumothorax, bacteriological or h...</td>\n",
              "    </tr>\n",
              "    <tr>\n",
              "      <th>4</th>\n",
              "      <td>178</td>\n",
              "      <td>01173</td>\n",
              "      <td>TB pneumothorax-micro dx</td>\n",
              "      <td>Tuberculous pneumothorax, tubercle bacilli fou...</td>\n",
              "    </tr>\n",
              "    <tr>\n",
              "      <th>...</th>\n",
              "      <td>...</td>\n",
              "      <td>...</td>\n",
              "      <td>...</td>\n",
              "      <td>...</td>\n",
              "    </tr>\n",
              "    <tr>\n",
              "      <th>14562</th>\n",
              "      <td>14432</td>\n",
              "      <td>V7399</td>\n",
              "      <td>Scrn unspcf viral dis</td>\n",
              "      <td>Special screening examination for unspecified ...</td>\n",
              "    </tr>\n",
              "    <tr>\n",
              "      <th>14563</th>\n",
              "      <td>14433</td>\n",
              "      <td>V740</td>\n",
              "      <td>Screening for cholera</td>\n",
              "      <td>Screening examination for cholera</td>\n",
              "    </tr>\n",
              "    <tr>\n",
              "      <th>14564</th>\n",
              "      <td>14434</td>\n",
              "      <td>V741</td>\n",
              "      <td>Screening-pulmonary TB</td>\n",
              "      <td>Screening examination for pulmonary tuberculosis</td>\n",
              "    </tr>\n",
              "    <tr>\n",
              "      <th>14565</th>\n",
              "      <td>14435</td>\n",
              "      <td>V742</td>\n",
              "      <td>Screening for leprosy</td>\n",
              "      <td>Screening examination for leprosy (Hansen's di...</td>\n",
              "    </tr>\n",
              "    <tr>\n",
              "      <th>14566</th>\n",
              "      <td>14436</td>\n",
              "      <td>V743</td>\n",
              "      <td>Screening for diphtheria</td>\n",
              "      <td>Screening examination for diphtheria</td>\n",
              "    </tr>\n",
              "  </tbody>\n",
              "</table>\n",
              "<p>14567 rows × 4 columns</p>\n",
              "</div>"
            ],
            "text/plain": [
              "       ROW_ID  ...                                         LONG_TITLE\n",
              "0         174  ...  Tuberculous pneumonia [any form], tubercle bac...\n",
              "1         175  ...              Tuberculous pneumothorax, unspecified\n",
              "2         176  ...  Tuberculous pneumothorax, bacteriological or h...\n",
              "3         177  ...  Tuberculous pneumothorax, bacteriological or h...\n",
              "4         178  ...  Tuberculous pneumothorax, tubercle bacilli fou...\n",
              "...       ...  ...                                                ...\n",
              "14562   14432  ...  Special screening examination for unspecified ...\n",
              "14563   14433  ...                  Screening examination for cholera\n",
              "14564   14434  ...   Screening examination for pulmonary tuberculosis\n",
              "14565   14435  ...  Screening examination for leprosy (Hansen's di...\n",
              "14566   14436  ...               Screening examination for diphtheria\n",
              "\n",
              "[14567 rows x 4 columns]"
            ]
          },
          "metadata": {
            "tags": []
          },
          "execution_count": 3
        }
      ]
    },
    {
      "cell_type": "markdown",
      "metadata": {
        "id": "1lpfOxfdDMc6"
      },
      "source": [
        "Obtain rows only related to **'Cardiomyopathy'** from dataframe(*ICD_D*) above by sorting the rows containing *'cardiomyopath'* in 'LONG_TITLE' column because cardiomyopathy disease describes with 'cardiomyopathy' or 'cardiomyopathies'. "
      ]
    },
    {
      "cell_type": "code",
      "metadata": {
        "colab": {
          "base_uri": "https://localhost:8080/",
          "height": 426
        },
        "id": "gYc5NrSX2FZA",
        "outputId": "fa398c67-6111-498b-bdb5-de0934ce0b0d"
      },
      "source": [
        "Disease1 = ICD_D[ICD_D['LONG_TITLE'].str.contains(\"cardiomyopath\")]\n",
        "Disease1"
      ],
      "execution_count": null,
      "outputs": [
        {
          "output_type": "execute_result",
          "data": {
            "text/html": [
              "<div>\n",
              "<style scoped>\n",
              "    .dataframe tbody tr th:only-of-type {\n",
              "        vertical-align: middle;\n",
              "    }\n",
              "\n",
              "    .dataframe tbody tr th {\n",
              "        vertical-align: top;\n",
              "    }\n",
              "\n",
              "    .dataframe thead th {\n",
              "        text-align: right;\n",
              "    }\n",
              "</style>\n",
              "<table border=\"1\" class=\"dataframe\">\n",
              "  <thead>\n",
              "    <tr style=\"text-align: right;\">\n",
              "      <th></th>\n",
              "      <th>ROW_ID</th>\n",
              "      <th>ICD9_CODE</th>\n",
              "      <th>SHORT_TITLE</th>\n",
              "      <th>LONG_TITLE</th>\n",
              "    </tr>\n",
              "  </thead>\n",
              "  <tbody>\n",
              "    <tr>\n",
              "      <th>4430</th>\n",
              "      <td>4431</td>\n",
              "      <td>42511</td>\n",
              "      <td>Hyprtrophc obst cardiomy</td>\n",
              "      <td>Hypertrophic obstructive cardiomyopathy</td>\n",
              "    </tr>\n",
              "    <tr>\n",
              "      <th>4431</th>\n",
              "      <td>4432</td>\n",
              "      <td>42518</td>\n",
              "      <td>Oth hyprtrophic cardiomy</td>\n",
              "      <td>Other hypertrophic cardiomyopathy</td>\n",
              "    </tr>\n",
              "    <tr>\n",
              "      <th>4432</th>\n",
              "      <td>4433</td>\n",
              "      <td>4252</td>\n",
              "      <td>Obsc afric cardiomyopath</td>\n",
              "      <td>Obscure cardiomyopathy of Africa</td>\n",
              "    </tr>\n",
              "    <tr>\n",
              "      <th>4434</th>\n",
              "      <td>4435</td>\n",
              "      <td>4254</td>\n",
              "      <td>Prim cardiomyopathy NEC</td>\n",
              "      <td>Other primary cardiomyopathies</td>\n",
              "    </tr>\n",
              "    <tr>\n",
              "      <th>4435</th>\n",
              "      <td>4436</td>\n",
              "      <td>4255</td>\n",
              "      <td>Alcoholic cardiomyopathy</td>\n",
              "      <td>Alcoholic cardiomyopathy</td>\n",
              "    </tr>\n",
              "    <tr>\n",
              "      <th>4436</th>\n",
              "      <td>4437</td>\n",
              "      <td>4257</td>\n",
              "      <td>Metabolic cardiomyopathy</td>\n",
              "      <td>Nutritional and metabolic cardiomyopathy</td>\n",
              "    </tr>\n",
              "    <tr>\n",
              "      <th>4438</th>\n",
              "      <td>4439</td>\n",
              "      <td>4259</td>\n",
              "      <td>Second cardiomyopath NOS</td>\n",
              "      <td>Secondary cardiomyopathy, unspecified</td>\n",
              "    </tr>\n",
              "    <tr>\n",
              "      <th>12531</th>\n",
              "      <td>10606</td>\n",
              "      <td>67450</td>\n",
              "      <td>Peripart cardiomy-unspec</td>\n",
              "      <td>Peripartum cardiomyopathy, unspecified as to e...</td>\n",
              "    </tr>\n",
              "    <tr>\n",
              "      <th>12532</th>\n",
              "      <td>10607</td>\n",
              "      <td>67451</td>\n",
              "      <td>Peripartum cardiomy-del</td>\n",
              "      <td>Peripartum cardiomyopathy, delivered, with or ...</td>\n",
              "    </tr>\n",
              "    <tr>\n",
              "      <th>12533</th>\n",
              "      <td>10608</td>\n",
              "      <td>67452</td>\n",
              "      <td>Peripart card del w p/p</td>\n",
              "      <td>Peripartum cardiomyopathy, delivered, with men...</td>\n",
              "    </tr>\n",
              "    <tr>\n",
              "      <th>12534</th>\n",
              "      <td>10609</td>\n",
              "      <td>67453</td>\n",
              "      <td>Peripartum card-antepart</td>\n",
              "      <td>Peripartum cardiomyopathy, antepartum conditio...</td>\n",
              "    </tr>\n",
              "    <tr>\n",
              "      <th>12535</th>\n",
              "      <td>10610</td>\n",
              "      <td>67454</td>\n",
              "      <td>Peripartum card-postpart</td>\n",
              "      <td>Peripartum cardiomyopathy, postpartum conditio...</td>\n",
              "    </tr>\n",
              "  </tbody>\n",
              "</table>\n",
              "</div>"
            ],
            "text/plain": [
              "       ROW_ID  ...                                         LONG_TITLE\n",
              "4430     4431  ...            Hypertrophic obstructive cardiomyopathy\n",
              "4431     4432  ...                  Other hypertrophic cardiomyopathy\n",
              "4432     4433  ...                   Obscure cardiomyopathy of Africa\n",
              "4434     4435  ...                     Other primary cardiomyopathies\n",
              "4435     4436  ...                           Alcoholic cardiomyopathy\n",
              "4436     4437  ...           Nutritional and metabolic cardiomyopathy\n",
              "4438     4439  ...              Secondary cardiomyopathy, unspecified\n",
              "12531   10606  ...  Peripartum cardiomyopathy, unspecified as to e...\n",
              "12532   10607  ...  Peripartum cardiomyopathy, delivered, with or ...\n",
              "12533   10608  ...  Peripartum cardiomyopathy, delivered, with men...\n",
              "12534   10609  ...  Peripartum cardiomyopathy, antepartum conditio...\n",
              "12535   10610  ...  Peripartum cardiomyopathy, postpartum conditio...\n",
              "\n",
              "[12 rows x 4 columns]"
            ]
          },
          "metadata": {
            "tags": []
          },
          "execution_count": 4
        }
      ]
    },
    {
      "cell_type": "markdown",
      "metadata": {
        "id": "rR3H2FfvMeEr"
      },
      "source": [
        "Obtain rows only related to **'Coronary artery disease(CAD)'** from dataframe(*ICD_D*) above by sorting the rows containing *'atherosclerosis'* in 'LONG_TITLE' column because CAD is mainly caused by atherosclerosis. When sorted with 'coronary artery' or 'CAD', there were no data enough. "
      ]
    },
    {
      "cell_type": "code",
      "metadata": {
        "colab": {
          "base_uri": "https://localhost:8080/",
          "height": 457
        },
        "id": "A0ytpu7I8bC_",
        "outputId": "10449fd6-becf-4102-a625-c3449d4f212f"
      },
      "source": [
        "Disease2 = ICD_D[ICD_D['LONG_TITLE'].str.contains(\"atherosclerosis\")]\n",
        "Disease2"
      ],
      "execution_count": null,
      "outputs": [
        {
          "output_type": "execute_result",
          "data": {
            "text/html": [
              "<div>\n",
              "<style scoped>\n",
              "    .dataframe tbody tr th:only-of-type {\n",
              "        vertical-align: middle;\n",
              "    }\n",
              "\n",
              "    .dataframe tbody tr th {\n",
              "        vertical-align: top;\n",
              "    }\n",
              "\n",
              "    .dataframe thead th {\n",
              "        text-align: right;\n",
              "    }\n",
              "</style>\n",
              "<table border=\"1\" class=\"dataframe\">\n",
              "  <thead>\n",
              "    <tr style=\"text-align: right;\">\n",
              "      <th></th>\n",
              "      <th>ROW_ID</th>\n",
              "      <th>ICD9_CODE</th>\n",
              "      <th>SHORT_TITLE</th>\n",
              "      <th>LONG_TITLE</th>\n",
              "    </tr>\n",
              "  </thead>\n",
              "  <tbody>\n",
              "    <tr>\n",
              "      <th>4204</th>\n",
              "      <td>4205</td>\n",
              "      <td>44029</td>\n",
              "      <td>Athrsc extrm ntv art oth</td>\n",
              "      <td>Other atherosclerosis of native arteries of th...</td>\n",
              "    </tr>\n",
              "    <tr>\n",
              "      <th>4210</th>\n",
              "      <td>4211</td>\n",
              "      <td>4409</td>\n",
              "      <td>Atherosclerosis NOS</td>\n",
              "      <td>Generalized and unspecified atherosclerosis</td>\n",
              "    </tr>\n",
              "    <tr>\n",
              "      <th>4372</th>\n",
              "      <td>4373</td>\n",
              "      <td>41400</td>\n",
              "      <td>Cor ath unsp vsl ntv/gft</td>\n",
              "      <td>Coronary atherosclerosis of unspecified type o...</td>\n",
              "    </tr>\n",
              "    <tr>\n",
              "      <th>4373</th>\n",
              "      <td>4374</td>\n",
              "      <td>41401</td>\n",
              "      <td>Crnry athrscl natve vssl</td>\n",
              "      <td>Coronary atherosclerosis of native coronary ar...</td>\n",
              "    </tr>\n",
              "    <tr>\n",
              "      <th>4374</th>\n",
              "      <td>4375</td>\n",
              "      <td>41402</td>\n",
              "      <td>Crn ath atlg vn bps grft</td>\n",
              "      <td>Coronary atherosclerosis of autologous vein by...</td>\n",
              "    </tr>\n",
              "    <tr>\n",
              "      <th>4375</th>\n",
              "      <td>4376</td>\n",
              "      <td>41403</td>\n",
              "      <td>Crn ath nonatlg blg grft</td>\n",
              "      <td>Coronary atherosclerosis of nonautologous biol...</td>\n",
              "    </tr>\n",
              "    <tr>\n",
              "      <th>4376</th>\n",
              "      <td>4377</td>\n",
              "      <td>41404</td>\n",
              "      <td>Cor ath artry bypas grft</td>\n",
              "      <td>Coronary atherosclerosis of artery bypass graft</td>\n",
              "    </tr>\n",
              "    <tr>\n",
              "      <th>4377</th>\n",
              "      <td>4378</td>\n",
              "      <td>41405</td>\n",
              "      <td>Cor ath bypass graft NOS</td>\n",
              "      <td>Coronary atherosclerosis of unspecified bypass...</td>\n",
              "    </tr>\n",
              "    <tr>\n",
              "      <th>4378</th>\n",
              "      <td>4379</td>\n",
              "      <td>41406</td>\n",
              "      <td>Cor ath natv art tp hrt</td>\n",
              "      <td>Coronary atherosclerosis of native coronary ar...</td>\n",
              "    </tr>\n",
              "    <tr>\n",
              "      <th>4379</th>\n",
              "      <td>4380</td>\n",
              "      <td>41407</td>\n",
              "      <td>Cor ath bps graft tp hrt</td>\n",
              "      <td>Coronary atherosclerosis of bypass graft (arte...</td>\n",
              "    </tr>\n",
              "    <tr>\n",
              "      <th>4385</th>\n",
              "      <td>4386</td>\n",
              "      <td>4143</td>\n",
              "      <td>Cor ath d/t lpd rch plaq</td>\n",
              "      <td>Coronary atherosclerosis due to lipid rich plaque</td>\n",
              "    </tr>\n",
              "    <tr>\n",
              "      <th>4386</th>\n",
              "      <td>4387</td>\n",
              "      <td>4144</td>\n",
              "      <td>Cor ath d/t calc cor lsn</td>\n",
              "      <td>Coronary atherosclerosis due to calcified coro...</td>\n",
              "    </tr>\n",
              "    <tr>\n",
              "      <th>5332</th>\n",
              "      <td>5061</td>\n",
              "      <td>4370</td>\n",
              "      <td>Cerebral atherosclerosis</td>\n",
              "      <td>Cerebral atherosclerosis</td>\n",
              "    </tr>\n",
              "  </tbody>\n",
              "</table>\n",
              "</div>"
            ],
            "text/plain": [
              "      ROW_ID  ...                                         LONG_TITLE\n",
              "4204    4205  ...  Other atherosclerosis of native arteries of th...\n",
              "4210    4211  ...        Generalized and unspecified atherosclerosis\n",
              "4372    4373  ...  Coronary atherosclerosis of unspecified type o...\n",
              "4373    4374  ...  Coronary atherosclerosis of native coronary ar...\n",
              "4374    4375  ...  Coronary atherosclerosis of autologous vein by...\n",
              "4375    4376  ...  Coronary atherosclerosis of nonautologous biol...\n",
              "4376    4377  ...    Coronary atherosclerosis of artery bypass graft\n",
              "4377    4378  ...  Coronary atherosclerosis of unspecified bypass...\n",
              "4378    4379  ...  Coronary atherosclerosis of native coronary ar...\n",
              "4379    4380  ...  Coronary atherosclerosis of bypass graft (arte...\n",
              "4385    4386  ...  Coronary atherosclerosis due to lipid rich plaque\n",
              "4386    4387  ...  Coronary atherosclerosis due to calcified coro...\n",
              "5332    5061  ...                           Cerebral atherosclerosis\n",
              "\n",
              "[13 rows x 4 columns]"
            ]
          },
          "metadata": {
            "tags": []
          },
          "execution_count": 5
        }
      ]
    },
    {
      "cell_type": "markdown",
      "metadata": {
        "id": "lMcLGwoyDXPM"
      },
      "source": [
        "Narrow down only the rows that correspond to general diseases, not specified diseases(i.e., alcoholic cardiomyopathy) from dataframes above (*Disease1*; cardiomyopathy and *Disease2*; CAD). The general diseases were manually decided via discussion with team and sorted by using ICD9 codes that we selected from 'ICD9_CODE' column.\n",
        "\n"
      ]
    },
    {
      "cell_type": "code",
      "metadata": {
        "colab": {
          "base_uri": "https://localhost:8080/",
          "height": 144
        },
        "id": "aHPd5sdkNrTq",
        "outputId": "374816ff-0146-4393-b6a0-1af32cb8a726"
      },
      "source": [
        "# Three ICD9 codes below selected for general cardiomyopathy from dataframe 'Disease1'\n",
        "ICD_CMP = Disease1.loc[Disease1['ICD9_CODE'].isin(['42511','42518','4254'])]\n",
        "ICD_CMP"
      ],
      "execution_count": null,
      "outputs": [
        {
          "output_type": "execute_result",
          "data": {
            "text/html": [
              "<div>\n",
              "<style scoped>\n",
              "    .dataframe tbody tr th:only-of-type {\n",
              "        vertical-align: middle;\n",
              "    }\n",
              "\n",
              "    .dataframe tbody tr th {\n",
              "        vertical-align: top;\n",
              "    }\n",
              "\n",
              "    .dataframe thead th {\n",
              "        text-align: right;\n",
              "    }\n",
              "</style>\n",
              "<table border=\"1\" class=\"dataframe\">\n",
              "  <thead>\n",
              "    <tr style=\"text-align: right;\">\n",
              "      <th></th>\n",
              "      <th>ROW_ID</th>\n",
              "      <th>ICD9_CODE</th>\n",
              "      <th>SHORT_TITLE</th>\n",
              "      <th>LONG_TITLE</th>\n",
              "    </tr>\n",
              "  </thead>\n",
              "  <tbody>\n",
              "    <tr>\n",
              "      <th>4430</th>\n",
              "      <td>4431</td>\n",
              "      <td>42511</td>\n",
              "      <td>Hyprtrophc obst cardiomy</td>\n",
              "      <td>Hypertrophic obstructive cardiomyopathy</td>\n",
              "    </tr>\n",
              "    <tr>\n",
              "      <th>4431</th>\n",
              "      <td>4432</td>\n",
              "      <td>42518</td>\n",
              "      <td>Oth hyprtrophic cardiomy</td>\n",
              "      <td>Other hypertrophic cardiomyopathy</td>\n",
              "    </tr>\n",
              "    <tr>\n",
              "      <th>4434</th>\n",
              "      <td>4435</td>\n",
              "      <td>4254</td>\n",
              "      <td>Prim cardiomyopathy NEC</td>\n",
              "      <td>Other primary cardiomyopathies</td>\n",
              "    </tr>\n",
              "  </tbody>\n",
              "</table>\n",
              "</div>"
            ],
            "text/plain": [
              "      ROW_ID  ...                               LONG_TITLE\n",
              "4430    4431  ...  Hypertrophic obstructive cardiomyopathy\n",
              "4431    4432  ...        Other hypertrophic cardiomyopathy\n",
              "4434    4435  ...           Other primary cardiomyopathies\n",
              "\n",
              "[3 rows x 4 columns]"
            ]
          },
          "metadata": {
            "tags": []
          },
          "execution_count": 6
        }
      ]
    },
    {
      "cell_type": "code",
      "metadata": {
        "colab": {
          "base_uri": "https://localhost:8080/",
          "height": 175
        },
        "id": "vNitk1a7-mll",
        "outputId": "9f50b9f8-e170-4271-a739-242dcdcc8cd1"
      },
      "source": [
        "# Four ICD9 codes below selected for general CAD from dataframe 'Disease2'\n",
        "ICD_CAD = Disease2.loc[Disease2['ICD9_CODE'].isin(['44029','4409','41401','4143'])]\n",
        "ICD_CAD"
      ],
      "execution_count": null,
      "outputs": [
        {
          "output_type": "execute_result",
          "data": {
            "text/html": [
              "<div>\n",
              "<style scoped>\n",
              "    .dataframe tbody tr th:only-of-type {\n",
              "        vertical-align: middle;\n",
              "    }\n",
              "\n",
              "    .dataframe tbody tr th {\n",
              "        vertical-align: top;\n",
              "    }\n",
              "\n",
              "    .dataframe thead th {\n",
              "        text-align: right;\n",
              "    }\n",
              "</style>\n",
              "<table border=\"1\" class=\"dataframe\">\n",
              "  <thead>\n",
              "    <tr style=\"text-align: right;\">\n",
              "      <th></th>\n",
              "      <th>ROW_ID</th>\n",
              "      <th>ICD9_CODE</th>\n",
              "      <th>SHORT_TITLE</th>\n",
              "      <th>LONG_TITLE</th>\n",
              "    </tr>\n",
              "  </thead>\n",
              "  <tbody>\n",
              "    <tr>\n",
              "      <th>4204</th>\n",
              "      <td>4205</td>\n",
              "      <td>44029</td>\n",
              "      <td>Athrsc extrm ntv art oth</td>\n",
              "      <td>Other atherosclerosis of native arteries of th...</td>\n",
              "    </tr>\n",
              "    <tr>\n",
              "      <th>4210</th>\n",
              "      <td>4211</td>\n",
              "      <td>4409</td>\n",
              "      <td>Atherosclerosis NOS</td>\n",
              "      <td>Generalized and unspecified atherosclerosis</td>\n",
              "    </tr>\n",
              "    <tr>\n",
              "      <th>4373</th>\n",
              "      <td>4374</td>\n",
              "      <td>41401</td>\n",
              "      <td>Crnry athrscl natve vssl</td>\n",
              "      <td>Coronary atherosclerosis of native coronary ar...</td>\n",
              "    </tr>\n",
              "    <tr>\n",
              "      <th>4385</th>\n",
              "      <td>4386</td>\n",
              "      <td>4143</td>\n",
              "      <td>Cor ath d/t lpd rch plaq</td>\n",
              "      <td>Coronary atherosclerosis due to lipid rich plaque</td>\n",
              "    </tr>\n",
              "  </tbody>\n",
              "</table>\n",
              "</div>"
            ],
            "text/plain": [
              "      ROW_ID  ...                                         LONG_TITLE\n",
              "4204    4205  ...  Other atherosclerosis of native arteries of th...\n",
              "4210    4211  ...        Generalized and unspecified atherosclerosis\n",
              "4373    4374  ...  Coronary atherosclerosis of native coronary ar...\n",
              "4385    4386  ...  Coronary atherosclerosis due to lipid rich plaque\n",
              "\n",
              "[4 rows x 4 columns]"
            ]
          },
          "metadata": {
            "tags": []
          },
          "execution_count": 7
        }
      ]
    },
    {
      "cell_type": "markdown",
      "metadata": {
        "id": "yT2OkLTLVr74"
      },
      "source": [
        "Create one dataframe by concatenating two dataframes above (*'ICD_CMP'* and *'ICD_CAD'*)"
      ]
    },
    {
      "cell_type": "code",
      "metadata": {
        "colab": {
          "base_uri": "https://localhost:8080/",
          "height": 269
        },
        "id": "w_e_4y4MPAqM",
        "outputId": "4af15f2f-66a7-42d0-c167-414af637e302"
      },
      "source": [
        "Disease = pd.concat([ICD_CMP, ICD_CAD])\n",
        "Disease"
      ],
      "execution_count": null,
      "outputs": [
        {
          "output_type": "execute_result",
          "data": {
            "text/html": [
              "<div>\n",
              "<style scoped>\n",
              "    .dataframe tbody tr th:only-of-type {\n",
              "        vertical-align: middle;\n",
              "    }\n",
              "\n",
              "    .dataframe tbody tr th {\n",
              "        vertical-align: top;\n",
              "    }\n",
              "\n",
              "    .dataframe thead th {\n",
              "        text-align: right;\n",
              "    }\n",
              "</style>\n",
              "<table border=\"1\" class=\"dataframe\">\n",
              "  <thead>\n",
              "    <tr style=\"text-align: right;\">\n",
              "      <th></th>\n",
              "      <th>ROW_ID</th>\n",
              "      <th>ICD9_CODE</th>\n",
              "      <th>SHORT_TITLE</th>\n",
              "      <th>LONG_TITLE</th>\n",
              "    </tr>\n",
              "  </thead>\n",
              "  <tbody>\n",
              "    <tr>\n",
              "      <th>4430</th>\n",
              "      <td>4431</td>\n",
              "      <td>42511</td>\n",
              "      <td>Hyprtrophc obst cardiomy</td>\n",
              "      <td>Hypertrophic obstructive cardiomyopathy</td>\n",
              "    </tr>\n",
              "    <tr>\n",
              "      <th>4431</th>\n",
              "      <td>4432</td>\n",
              "      <td>42518</td>\n",
              "      <td>Oth hyprtrophic cardiomy</td>\n",
              "      <td>Other hypertrophic cardiomyopathy</td>\n",
              "    </tr>\n",
              "    <tr>\n",
              "      <th>4434</th>\n",
              "      <td>4435</td>\n",
              "      <td>4254</td>\n",
              "      <td>Prim cardiomyopathy NEC</td>\n",
              "      <td>Other primary cardiomyopathies</td>\n",
              "    </tr>\n",
              "    <tr>\n",
              "      <th>4204</th>\n",
              "      <td>4205</td>\n",
              "      <td>44029</td>\n",
              "      <td>Athrsc extrm ntv art oth</td>\n",
              "      <td>Other atherosclerosis of native arteries of th...</td>\n",
              "    </tr>\n",
              "    <tr>\n",
              "      <th>4210</th>\n",
              "      <td>4211</td>\n",
              "      <td>4409</td>\n",
              "      <td>Atherosclerosis NOS</td>\n",
              "      <td>Generalized and unspecified atherosclerosis</td>\n",
              "    </tr>\n",
              "    <tr>\n",
              "      <th>4373</th>\n",
              "      <td>4374</td>\n",
              "      <td>41401</td>\n",
              "      <td>Crnry athrscl natve vssl</td>\n",
              "      <td>Coronary atherosclerosis of native coronary ar...</td>\n",
              "    </tr>\n",
              "    <tr>\n",
              "      <th>4385</th>\n",
              "      <td>4386</td>\n",
              "      <td>4143</td>\n",
              "      <td>Cor ath d/t lpd rch plaq</td>\n",
              "      <td>Coronary atherosclerosis due to lipid rich plaque</td>\n",
              "    </tr>\n",
              "  </tbody>\n",
              "</table>\n",
              "</div>"
            ],
            "text/plain": [
              "      ROW_ID  ...                                         LONG_TITLE\n",
              "4430    4431  ...            Hypertrophic obstructive cardiomyopathy\n",
              "4431    4432  ...                  Other hypertrophic cardiomyopathy\n",
              "4434    4435  ...                     Other primary cardiomyopathies\n",
              "4204    4205  ...  Other atherosclerosis of native arteries of th...\n",
              "4210    4211  ...        Generalized and unspecified atherosclerosis\n",
              "4373    4374  ...  Coronary atherosclerosis of native coronary ar...\n",
              "4385    4386  ...  Coronary atherosclerosis due to lipid rich plaque\n",
              "\n",
              "[7 rows x 4 columns]"
            ]
          },
          "metadata": {
            "tags": []
          },
          "execution_count": 8
        }
      ]
    },
    {
      "cell_type": "markdown",
      "metadata": {
        "id": "FVEPfOMVDmwW"
      },
      "source": [
        "## DIAGNOSES_ICD data from MIMIC III\n",
        "### This data contains ICD-9 diagnoses for patients. We use this data to find the Subject_ID associated with the ICD-9 codes we selected above."
      ]
    },
    {
      "cell_type": "markdown",
      "metadata": {
        "id": "cCvHZkEyY53Y"
      },
      "source": [
        "Import DIAGNOSES_ICD csv file from our Google drive"
      ]
    },
    {
      "cell_type": "code",
      "metadata": {
        "colab": {
          "base_uri": "https://localhost:8080/",
          "height": 424
        },
        "id": "O5-gMco439yM",
        "outputId": "de4e337f-ede4-4b98-e20c-5db3fdc4a980"
      },
      "source": [
        "ROW_SUB = pd.read_csv('/content/drive/MyDrive/cbb 750 final/mimic/DIAGNOSES_ICD.csv')\n",
        "ROW_SUB"
      ],
      "execution_count": null,
      "outputs": [
        {
          "output_type": "execute_result",
          "data": {
            "text/html": [
              "<div>\n",
              "<style scoped>\n",
              "    .dataframe tbody tr th:only-of-type {\n",
              "        vertical-align: middle;\n",
              "    }\n",
              "\n",
              "    .dataframe tbody tr th {\n",
              "        vertical-align: top;\n",
              "    }\n",
              "\n",
              "    .dataframe thead th {\n",
              "        text-align: right;\n",
              "    }\n",
              "</style>\n",
              "<table border=\"1\" class=\"dataframe\">\n",
              "  <thead>\n",
              "    <tr style=\"text-align: right;\">\n",
              "      <th></th>\n",
              "      <th>ROW_ID</th>\n",
              "      <th>SUBJECT_ID</th>\n",
              "      <th>HADM_ID</th>\n",
              "      <th>SEQ_NUM</th>\n",
              "      <th>ICD9_CODE</th>\n",
              "    </tr>\n",
              "  </thead>\n",
              "  <tbody>\n",
              "    <tr>\n",
              "      <th>0</th>\n",
              "      <td>1297</td>\n",
              "      <td>109</td>\n",
              "      <td>172335</td>\n",
              "      <td>1.0</td>\n",
              "      <td>40301</td>\n",
              "    </tr>\n",
              "    <tr>\n",
              "      <th>1</th>\n",
              "      <td>1298</td>\n",
              "      <td>109</td>\n",
              "      <td>172335</td>\n",
              "      <td>2.0</td>\n",
              "      <td>486</td>\n",
              "    </tr>\n",
              "    <tr>\n",
              "      <th>2</th>\n",
              "      <td>1299</td>\n",
              "      <td>109</td>\n",
              "      <td>172335</td>\n",
              "      <td>3.0</td>\n",
              "      <td>58281</td>\n",
              "    </tr>\n",
              "    <tr>\n",
              "      <th>3</th>\n",
              "      <td>1300</td>\n",
              "      <td>109</td>\n",
              "      <td>172335</td>\n",
              "      <td>4.0</td>\n",
              "      <td>5855</td>\n",
              "    </tr>\n",
              "    <tr>\n",
              "      <th>4</th>\n",
              "      <td>1301</td>\n",
              "      <td>109</td>\n",
              "      <td>172335</td>\n",
              "      <td>5.0</td>\n",
              "      <td>4254</td>\n",
              "    </tr>\n",
              "    <tr>\n",
              "      <th>...</th>\n",
              "      <td>...</td>\n",
              "      <td>...</td>\n",
              "      <td>...</td>\n",
              "      <td>...</td>\n",
              "      <td>...</td>\n",
              "    </tr>\n",
              "    <tr>\n",
              "      <th>651042</th>\n",
              "      <td>639798</td>\n",
              "      <td>97503</td>\n",
              "      <td>188195</td>\n",
              "      <td>2.0</td>\n",
              "      <td>20280</td>\n",
              "    </tr>\n",
              "    <tr>\n",
              "      <th>651043</th>\n",
              "      <td>639799</td>\n",
              "      <td>97503</td>\n",
              "      <td>188195</td>\n",
              "      <td>3.0</td>\n",
              "      <td>V5869</td>\n",
              "    </tr>\n",
              "    <tr>\n",
              "      <th>651044</th>\n",
              "      <td>639800</td>\n",
              "      <td>97503</td>\n",
              "      <td>188195</td>\n",
              "      <td>4.0</td>\n",
              "      <td>V1279</td>\n",
              "    </tr>\n",
              "    <tr>\n",
              "      <th>651045</th>\n",
              "      <td>639801</td>\n",
              "      <td>97503</td>\n",
              "      <td>188195</td>\n",
              "      <td>5.0</td>\n",
              "      <td>5275</td>\n",
              "    </tr>\n",
              "    <tr>\n",
              "      <th>651046</th>\n",
              "      <td>639802</td>\n",
              "      <td>97503</td>\n",
              "      <td>188195</td>\n",
              "      <td>6.0</td>\n",
              "      <td>5569</td>\n",
              "    </tr>\n",
              "  </tbody>\n",
              "</table>\n",
              "<p>651047 rows × 5 columns</p>\n",
              "</div>"
            ],
            "text/plain": [
              "        ROW_ID  SUBJECT_ID  HADM_ID  SEQ_NUM ICD9_CODE\n",
              "0         1297         109   172335      1.0     40301\n",
              "1         1298         109   172335      2.0       486\n",
              "2         1299         109   172335      3.0     58281\n",
              "3         1300         109   172335      4.0      5855\n",
              "4         1301         109   172335      5.0      4254\n",
              "...        ...         ...      ...      ...       ...\n",
              "651042  639798       97503   188195      2.0     20280\n",
              "651043  639799       97503   188195      3.0     V5869\n",
              "651044  639800       97503   188195      4.0     V1279\n",
              "651045  639801       97503   188195      5.0      5275\n",
              "651046  639802       97503   188195      6.0      5569\n",
              "\n",
              "[651047 rows x 5 columns]"
            ]
          },
          "metadata": {
            "tags": []
          },
          "execution_count": 9
        }
      ]
    },
    {
      "cell_type": "markdown",
      "metadata": {
        "id": "PxbbTzRXZgZK"
      },
      "source": [
        "Obtain rows that corresponds only to the ICD9 codes within the *'Disease'* dataframe from *'ROW_SUB'* dataframe by merging *'ROW_SUB'* dataframe to *'Disease'* dataframe based on column 'ICD9_CODE'."
      ]
    },
    {
      "cell_type": "code",
      "metadata": {
        "colab": {
          "base_uri": "https://localhost:8080/",
          "height": 424
        },
        "id": "ECDWq4qI9pe2",
        "outputId": "3dd83789-a80a-43e0-d2e6-89511aed1408"
      },
      "source": [
        "Merge = pd.merge(ROW_SUB, Disease, on='ICD9_CODE')\n",
        "Merge"
      ],
      "execution_count": null,
      "outputs": [
        {
          "output_type": "execute_result",
          "data": {
            "text/html": [
              "<div>\n",
              "<style scoped>\n",
              "    .dataframe tbody tr th:only-of-type {\n",
              "        vertical-align: middle;\n",
              "    }\n",
              "\n",
              "    .dataframe tbody tr th {\n",
              "        vertical-align: top;\n",
              "    }\n",
              "\n",
              "    .dataframe thead th {\n",
              "        text-align: right;\n",
              "    }\n",
              "</style>\n",
              "<table border=\"1\" class=\"dataframe\">\n",
              "  <thead>\n",
              "    <tr style=\"text-align: right;\">\n",
              "      <th></th>\n",
              "      <th>ROW_ID_x</th>\n",
              "      <th>SUBJECT_ID</th>\n",
              "      <th>HADM_ID</th>\n",
              "      <th>SEQ_NUM</th>\n",
              "      <th>ICD9_CODE</th>\n",
              "      <th>ROW_ID_y</th>\n",
              "      <th>SHORT_TITLE</th>\n",
              "      <th>LONG_TITLE</th>\n",
              "    </tr>\n",
              "  </thead>\n",
              "  <tbody>\n",
              "    <tr>\n",
              "      <th>0</th>\n",
              "      <td>1301</td>\n",
              "      <td>109</td>\n",
              "      <td>172335</td>\n",
              "      <td>5.0</td>\n",
              "      <td>4254</td>\n",
              "      <td>4435</td>\n",
              "      <td>Prim cardiomyopathy NEC</td>\n",
              "      <td>Other primary cardiomyopathies</td>\n",
              "    </tr>\n",
              "    <tr>\n",
              "      <th>1</th>\n",
              "      <td>543</td>\n",
              "      <td>68</td>\n",
              "      <td>108329</td>\n",
              "      <td>3.0</td>\n",
              "      <td>4254</td>\n",
              "      <td>4435</td>\n",
              "      <td>Prim cardiomyopathy NEC</td>\n",
              "      <td>Other primary cardiomyopathies</td>\n",
              "    </tr>\n",
              "    <tr>\n",
              "      <th>2</th>\n",
              "      <td>554</td>\n",
              "      <td>68</td>\n",
              "      <td>170467</td>\n",
              "      <td>3.0</td>\n",
              "      <td>4254</td>\n",
              "      <td>4435</td>\n",
              "      <td>Prim cardiomyopathy NEC</td>\n",
              "      <td>Other primary cardiomyopathies</td>\n",
              "    </tr>\n",
              "    <tr>\n",
              "      <th>3</th>\n",
              "      <td>11</td>\n",
              "      <td>3</td>\n",
              "      <td>145834</td>\n",
              "      <td>8.0</td>\n",
              "      <td>4254</td>\n",
              "      <td>4435</td>\n",
              "      <td>Prim cardiomyopathy NEC</td>\n",
              "      <td>Other primary cardiomyopathies</td>\n",
              "    </tr>\n",
              "    <tr>\n",
              "      <th>4</th>\n",
              "      <td>238</td>\n",
              "      <td>34</td>\n",
              "      <td>115799</td>\n",
              "      <td>3.0</td>\n",
              "      <td>4254</td>\n",
              "      <td>4435</td>\n",
              "      <td>Prim cardiomyopathy NEC</td>\n",
              "      <td>Other primary cardiomyopathies</td>\n",
              "    </tr>\n",
              "    <tr>\n",
              "      <th>...</th>\n",
              "      <td>...</td>\n",
              "      <td>...</td>\n",
              "      <td>...</td>\n",
              "      <td>...</td>\n",
              "      <td>...</td>\n",
              "      <td>...</td>\n",
              "      <td>...</td>\n",
              "      <td>...</td>\n",
              "    </tr>\n",
              "    <tr>\n",
              "      <th>14168</th>\n",
              "      <td>461064</td>\n",
              "      <td>57865</td>\n",
              "      <td>158283</td>\n",
              "      <td>2.0</td>\n",
              "      <td>42511</td>\n",
              "      <td>4431</td>\n",
              "      <td>Hyprtrophc obst cardiomy</td>\n",
              "      <td>Hypertrophic obstructive cardiomyopathy</td>\n",
              "    </tr>\n",
              "    <tr>\n",
              "      <th>14169</th>\n",
              "      <td>483348</td>\n",
              "      <td>62664</td>\n",
              "      <td>155219</td>\n",
              "      <td>2.0</td>\n",
              "      <td>42511</td>\n",
              "      <td>4431</td>\n",
              "      <td>Hyprtrophc obst cardiomy</td>\n",
              "      <td>Hypertrophic obstructive cardiomyopathy</td>\n",
              "    </tr>\n",
              "    <tr>\n",
              "      <th>14170</th>\n",
              "      <td>514180</td>\n",
              "      <td>69274</td>\n",
              "      <td>141036</td>\n",
              "      <td>2.0</td>\n",
              "      <td>42511</td>\n",
              "      <td>4431</td>\n",
              "      <td>Hyprtrophc obst cardiomy</td>\n",
              "      <td>Hypertrophic obstructive cardiomyopathy</td>\n",
              "    </tr>\n",
              "    <tr>\n",
              "      <th>14171</th>\n",
              "      <td>513848</td>\n",
              "      <td>69232</td>\n",
              "      <td>146606</td>\n",
              "      <td>1.0</td>\n",
              "      <td>42511</td>\n",
              "      <td>4431</td>\n",
              "      <td>Hyprtrophc obst cardiomy</td>\n",
              "      <td>Hypertrophic obstructive cardiomyopathy</td>\n",
              "    </tr>\n",
              "    <tr>\n",
              "      <th>14172</th>\n",
              "      <td>633006</td>\n",
              "      <td>96108</td>\n",
              "      <td>133537</td>\n",
              "      <td>3.0</td>\n",
              "      <td>42511</td>\n",
              "      <td>4431</td>\n",
              "      <td>Hyprtrophc obst cardiomy</td>\n",
              "      <td>Hypertrophic obstructive cardiomyopathy</td>\n",
              "    </tr>\n",
              "  </tbody>\n",
              "</table>\n",
              "<p>14173 rows × 8 columns</p>\n",
              "</div>"
            ],
            "text/plain": [
              "       ROW_ID_x  ...                               LONG_TITLE\n",
              "0          1301  ...           Other primary cardiomyopathies\n",
              "1           543  ...           Other primary cardiomyopathies\n",
              "2           554  ...           Other primary cardiomyopathies\n",
              "3            11  ...           Other primary cardiomyopathies\n",
              "4           238  ...           Other primary cardiomyopathies\n",
              "...         ...  ...                                      ...\n",
              "14168    461064  ...  Hypertrophic obstructive cardiomyopathy\n",
              "14169    483348  ...  Hypertrophic obstructive cardiomyopathy\n",
              "14170    514180  ...  Hypertrophic obstructive cardiomyopathy\n",
              "14171    513848  ...  Hypertrophic obstructive cardiomyopathy\n",
              "14172    633006  ...  Hypertrophic obstructive cardiomyopathy\n",
              "\n",
              "[14173 rows x 8 columns]"
            ]
          },
          "metadata": {
            "tags": []
          },
          "execution_count": 10
        }
      ]
    },
    {
      "cell_type": "markdown",
      "metadata": {
        "id": "QQLejPnl1yF8"
      },
      "source": [
        "Select only the columns that we need from the merged dataframe above (*'Merge'*)"
      ]
    },
    {
      "cell_type": "code",
      "metadata": {
        "colab": {
          "base_uri": "https://localhost:8080/",
          "height": 424
        },
        "id": "NQU_Az3F_e9S",
        "outputId": "15eb125a-008d-4fa1-f3d7-631fc739df51"
      },
      "source": [
        "SUB_ICD = Merge[['SUBJECT_ID','ICD9_CODE','SHORT_TITLE','LONG_TITLE']]\n",
        "SUB_ICD"
      ],
      "execution_count": null,
      "outputs": [
        {
          "output_type": "execute_result",
          "data": {
            "text/html": [
              "<div>\n",
              "<style scoped>\n",
              "    .dataframe tbody tr th:only-of-type {\n",
              "        vertical-align: middle;\n",
              "    }\n",
              "\n",
              "    .dataframe tbody tr th {\n",
              "        vertical-align: top;\n",
              "    }\n",
              "\n",
              "    .dataframe thead th {\n",
              "        text-align: right;\n",
              "    }\n",
              "</style>\n",
              "<table border=\"1\" class=\"dataframe\">\n",
              "  <thead>\n",
              "    <tr style=\"text-align: right;\">\n",
              "      <th></th>\n",
              "      <th>SUBJECT_ID</th>\n",
              "      <th>ICD9_CODE</th>\n",
              "      <th>SHORT_TITLE</th>\n",
              "      <th>LONG_TITLE</th>\n",
              "    </tr>\n",
              "  </thead>\n",
              "  <tbody>\n",
              "    <tr>\n",
              "      <th>0</th>\n",
              "      <td>109</td>\n",
              "      <td>4254</td>\n",
              "      <td>Prim cardiomyopathy NEC</td>\n",
              "      <td>Other primary cardiomyopathies</td>\n",
              "    </tr>\n",
              "    <tr>\n",
              "      <th>1</th>\n",
              "      <td>68</td>\n",
              "      <td>4254</td>\n",
              "      <td>Prim cardiomyopathy NEC</td>\n",
              "      <td>Other primary cardiomyopathies</td>\n",
              "    </tr>\n",
              "    <tr>\n",
              "      <th>2</th>\n",
              "      <td>68</td>\n",
              "      <td>4254</td>\n",
              "      <td>Prim cardiomyopathy NEC</td>\n",
              "      <td>Other primary cardiomyopathies</td>\n",
              "    </tr>\n",
              "    <tr>\n",
              "      <th>3</th>\n",
              "      <td>3</td>\n",
              "      <td>4254</td>\n",
              "      <td>Prim cardiomyopathy NEC</td>\n",
              "      <td>Other primary cardiomyopathies</td>\n",
              "    </tr>\n",
              "    <tr>\n",
              "      <th>4</th>\n",
              "      <td>34</td>\n",
              "      <td>4254</td>\n",
              "      <td>Prim cardiomyopathy NEC</td>\n",
              "      <td>Other primary cardiomyopathies</td>\n",
              "    </tr>\n",
              "    <tr>\n",
              "      <th>...</th>\n",
              "      <td>...</td>\n",
              "      <td>...</td>\n",
              "      <td>...</td>\n",
              "      <td>...</td>\n",
              "    </tr>\n",
              "    <tr>\n",
              "      <th>14168</th>\n",
              "      <td>57865</td>\n",
              "      <td>42511</td>\n",
              "      <td>Hyprtrophc obst cardiomy</td>\n",
              "      <td>Hypertrophic obstructive cardiomyopathy</td>\n",
              "    </tr>\n",
              "    <tr>\n",
              "      <th>14169</th>\n",
              "      <td>62664</td>\n",
              "      <td>42511</td>\n",
              "      <td>Hyprtrophc obst cardiomy</td>\n",
              "      <td>Hypertrophic obstructive cardiomyopathy</td>\n",
              "    </tr>\n",
              "    <tr>\n",
              "      <th>14170</th>\n",
              "      <td>69274</td>\n",
              "      <td>42511</td>\n",
              "      <td>Hyprtrophc obst cardiomy</td>\n",
              "      <td>Hypertrophic obstructive cardiomyopathy</td>\n",
              "    </tr>\n",
              "    <tr>\n",
              "      <th>14171</th>\n",
              "      <td>69232</td>\n",
              "      <td>42511</td>\n",
              "      <td>Hyprtrophc obst cardiomy</td>\n",
              "      <td>Hypertrophic obstructive cardiomyopathy</td>\n",
              "    </tr>\n",
              "    <tr>\n",
              "      <th>14172</th>\n",
              "      <td>96108</td>\n",
              "      <td>42511</td>\n",
              "      <td>Hyprtrophc obst cardiomy</td>\n",
              "      <td>Hypertrophic obstructive cardiomyopathy</td>\n",
              "    </tr>\n",
              "  </tbody>\n",
              "</table>\n",
              "<p>14173 rows × 4 columns</p>\n",
              "</div>"
            ],
            "text/plain": [
              "       SUBJECT_ID  ...                               LONG_TITLE\n",
              "0             109  ...           Other primary cardiomyopathies\n",
              "1              68  ...           Other primary cardiomyopathies\n",
              "2              68  ...           Other primary cardiomyopathies\n",
              "3               3  ...           Other primary cardiomyopathies\n",
              "4              34  ...           Other primary cardiomyopathies\n",
              "...           ...  ...                                      ...\n",
              "14168       57865  ...  Hypertrophic obstructive cardiomyopathy\n",
              "14169       62664  ...  Hypertrophic obstructive cardiomyopathy\n",
              "14170       69274  ...  Hypertrophic obstructive cardiomyopathy\n",
              "14171       69232  ...  Hypertrophic obstructive cardiomyopathy\n",
              "14172       96108  ...  Hypertrophic obstructive cardiomyopathy\n",
              "\n",
              "[14173 rows x 4 columns]"
            ]
          },
          "metadata": {
            "tags": []
          },
          "execution_count": 11
        }
      ]
    },
    {
      "cell_type": "markdown",
      "metadata": {
        "id": "WErfvyyAEdA6"
      },
      "source": [
        "## Unique SubjectID list created by Sarah\n",
        "### This data contains SubjectIDs for all patients with associated note data in NOTEEVENTS. We use this data to find the Unique SubjectIDs associated with both the note data and the ICD-9 codes we selected above. This data was generated in 'Exploratory.Rmd' by Sarah."
      ]
    },
    {
      "cell_type": "markdown",
      "metadata": {
        "id": "fmZK_u834SB7"
      },
      "source": [
        "Import Unique SubjectID list file (SubjectsWithNotes.csv) from our Google drive"
      ]
    },
    {
      "cell_type": "code",
      "metadata": {
        "colab": {
          "base_uri": "https://localhost:8080/",
          "height": 424
        },
        "id": "iaLqkayrDxQ0",
        "outputId": "fbdc679f-407e-4a73-c460-92beef866655"
      },
      "source": [
        "subjectID = pd.read_csv('/content/drive/MyDrive/cbb 750 final/SubjectsWithNotes.csv')\n",
        "subjectID"
      ],
      "execution_count": null,
      "outputs": [
        {
          "output_type": "execute_result",
          "data": {
            "text/html": [
              "<div>\n",
              "<style scoped>\n",
              "    .dataframe tbody tr th:only-of-type {\n",
              "        vertical-align: middle;\n",
              "    }\n",
              "\n",
              "    .dataframe tbody tr th {\n",
              "        vertical-align: top;\n",
              "    }\n",
              "\n",
              "    .dataframe thead th {\n",
              "        text-align: right;\n",
              "    }\n",
              "</style>\n",
              "<table border=\"1\" class=\"dataframe\">\n",
              "  <thead>\n",
              "    <tr style=\"text-align: right;\">\n",
              "      <th></th>\n",
              "      <th>SUBJECT_ID</th>\n",
              "    </tr>\n",
              "  </thead>\n",
              "  <tbody>\n",
              "    <tr>\n",
              "      <th>0</th>\n",
              "      <td>22532</td>\n",
              "    </tr>\n",
              "    <tr>\n",
              "      <th>1</th>\n",
              "      <td>13702</td>\n",
              "    </tr>\n",
              "    <tr>\n",
              "      <th>2</th>\n",
              "      <td>26880</td>\n",
              "    </tr>\n",
              "    <tr>\n",
              "      <th>3</th>\n",
              "      <td>53181</td>\n",
              "    </tr>\n",
              "    <tr>\n",
              "      <th>4</th>\n",
              "      <td>20646</td>\n",
              "    </tr>\n",
              "    <tr>\n",
              "      <th>...</th>\n",
              "      <td>...</td>\n",
              "    </tr>\n",
              "    <tr>\n",
              "      <th>46141</th>\n",
              "      <td>31666</td>\n",
              "    </tr>\n",
              "    <tr>\n",
              "      <th>46142</th>\n",
              "      <td>31667</td>\n",
              "    </tr>\n",
              "    <tr>\n",
              "      <th>46143</th>\n",
              "      <td>31790</td>\n",
              "    </tr>\n",
              "    <tr>\n",
              "      <th>46144</th>\n",
              "      <td>32151</td>\n",
              "    </tr>\n",
              "    <tr>\n",
              "      <th>46145</th>\n",
              "      <td>31655</td>\n",
              "    </tr>\n",
              "  </tbody>\n",
              "</table>\n",
              "<p>46146 rows × 1 columns</p>\n",
              "</div>"
            ],
            "text/plain": [
              "       SUBJECT_ID\n",
              "0           22532\n",
              "1           13702\n",
              "2           26880\n",
              "3           53181\n",
              "4           20646\n",
              "...           ...\n",
              "46141       31666\n",
              "46142       31667\n",
              "46143       31790\n",
              "46144       32151\n",
              "46145       31655\n",
              "\n",
              "[46146 rows x 1 columns]"
            ]
          },
          "metadata": {
            "tags": []
          },
          "execution_count": 12
        }
      ]
    },
    {
      "cell_type": "markdown",
      "metadata": {
        "id": "uMATnPMp4k7w"
      },
      "source": [
        "Obtain rows that corresponds only to the SubjectIDs within the *'SUB_ICD'* dataframe from *'subjectID'* dataframe by merging *'subjectID'* dataframe to *'SUB_ICD'* dataframe based on column 'SUBJECT_ID'."
      ]
    },
    {
      "cell_type": "code",
      "metadata": {
        "colab": {
          "base_uri": "https://localhost:8080/",
          "height": 424
        },
        "id": "K_7jw07j_9pp",
        "outputId": "08b21727-fba9-452a-e0c9-3d59a0679d23"
      },
      "source": [
        "SubID_ICD = pd.merge(subjectID, SUB_ICD, on='SUBJECT_ID')\n",
        "SubID_ICD"
      ],
      "execution_count": null,
      "outputs": [
        {
          "output_type": "execute_result",
          "data": {
            "text/html": [
              "<div>\n",
              "<style scoped>\n",
              "    .dataframe tbody tr th:only-of-type {\n",
              "        vertical-align: middle;\n",
              "    }\n",
              "\n",
              "    .dataframe tbody tr th {\n",
              "        vertical-align: top;\n",
              "    }\n",
              "\n",
              "    .dataframe thead th {\n",
              "        text-align: right;\n",
              "    }\n",
              "</style>\n",
              "<table border=\"1\" class=\"dataframe\">\n",
              "  <thead>\n",
              "    <tr style=\"text-align: right;\">\n",
              "      <th></th>\n",
              "      <th>SUBJECT_ID</th>\n",
              "      <th>ICD9_CODE</th>\n",
              "      <th>SHORT_TITLE</th>\n",
              "      <th>LONG_TITLE</th>\n",
              "    </tr>\n",
              "  </thead>\n",
              "  <tbody>\n",
              "    <tr>\n",
              "      <th>0</th>\n",
              "      <td>22532</td>\n",
              "      <td>4254</td>\n",
              "      <td>Prim cardiomyopathy NEC</td>\n",
              "      <td>Other primary cardiomyopathies</td>\n",
              "    </tr>\n",
              "    <tr>\n",
              "      <th>1</th>\n",
              "      <td>13702</td>\n",
              "      <td>41401</td>\n",
              "      <td>Crnry athrscl natve vssl</td>\n",
              "      <td>Coronary atherosclerosis of native coronary ar...</td>\n",
              "    </tr>\n",
              "    <tr>\n",
              "      <th>2</th>\n",
              "      <td>5350</td>\n",
              "      <td>41401</td>\n",
              "      <td>Crnry athrscl natve vssl</td>\n",
              "      <td>Coronary atherosclerosis of native coronary ar...</td>\n",
              "    </tr>\n",
              "    <tr>\n",
              "      <th>3</th>\n",
              "      <td>10044</td>\n",
              "      <td>41401</td>\n",
              "      <td>Crnry athrscl natve vssl</td>\n",
              "      <td>Coronary atherosclerosis of native coronary ar...</td>\n",
              "    </tr>\n",
              "    <tr>\n",
              "      <th>4</th>\n",
              "      <td>79900</td>\n",
              "      <td>41401</td>\n",
              "      <td>Crnry athrscl natve vssl</td>\n",
              "      <td>Coronary atherosclerosis of native coronary ar...</td>\n",
              "    </tr>\n",
              "    <tr>\n",
              "      <th>...</th>\n",
              "      <td>...</td>\n",
              "      <td>...</td>\n",
              "      <td>...</td>\n",
              "      <td>...</td>\n",
              "    </tr>\n",
              "    <tr>\n",
              "      <th>14121</th>\n",
              "      <td>26020</td>\n",
              "      <td>41401</td>\n",
              "      <td>Crnry athrscl natve vssl</td>\n",
              "      <td>Coronary atherosclerosis of native coronary ar...</td>\n",
              "    </tr>\n",
              "    <tr>\n",
              "      <th>14122</th>\n",
              "      <td>32147</td>\n",
              "      <td>41401</td>\n",
              "      <td>Crnry athrscl natve vssl</td>\n",
              "      <td>Coronary atherosclerosis of native coronary ar...</td>\n",
              "    </tr>\n",
              "    <tr>\n",
              "      <th>14123</th>\n",
              "      <td>21177</td>\n",
              "      <td>41401</td>\n",
              "      <td>Crnry athrscl natve vssl</td>\n",
              "      <td>Coronary atherosclerosis of native coronary ar...</td>\n",
              "    </tr>\n",
              "    <tr>\n",
              "      <th>14124</th>\n",
              "      <td>18957</td>\n",
              "      <td>41401</td>\n",
              "      <td>Crnry athrscl natve vssl</td>\n",
              "      <td>Coronary atherosclerosis of native coronary ar...</td>\n",
              "    </tr>\n",
              "    <tr>\n",
              "      <th>14125</th>\n",
              "      <td>9010</td>\n",
              "      <td>41401</td>\n",
              "      <td>Crnry athrscl natve vssl</td>\n",
              "      <td>Coronary atherosclerosis of native coronary ar...</td>\n",
              "    </tr>\n",
              "  </tbody>\n",
              "</table>\n",
              "<p>14126 rows × 4 columns</p>\n",
              "</div>"
            ],
            "text/plain": [
              "       SUBJECT_ID  ...                                         LONG_TITLE\n",
              "0           22532  ...                     Other primary cardiomyopathies\n",
              "1           13702  ...  Coronary atherosclerosis of native coronary ar...\n",
              "2            5350  ...  Coronary atherosclerosis of native coronary ar...\n",
              "3           10044  ...  Coronary atherosclerosis of native coronary ar...\n",
              "4           79900  ...  Coronary atherosclerosis of native coronary ar...\n",
              "...           ...  ...                                                ...\n",
              "14121       26020  ...  Coronary atherosclerosis of native coronary ar...\n",
              "14122       32147  ...  Coronary atherosclerosis of native coronary ar...\n",
              "14123       21177  ...  Coronary atherosclerosis of native coronary ar...\n",
              "14124       18957  ...  Coronary atherosclerosis of native coronary ar...\n",
              "14125        9010  ...  Coronary atherosclerosis of native coronary ar...\n",
              "\n",
              "[14126 rows x 4 columns]"
            ]
          },
          "metadata": {
            "tags": []
          },
          "execution_count": 13
        }
      ]
    },
    {
      "cell_type": "markdown",
      "metadata": {
        "id": "s6DdmV3u5tbd"
      },
      "source": [
        "Keep only the first row of duplicate SubjectIDs in the '*SubID_ICD'* dataframe and remove the rest\n"
      ]
    },
    {
      "cell_type": "code",
      "metadata": {
        "colab": {
          "base_uri": "https://localhost:8080/",
          "height": 424
        },
        "id": "BKH0S8Ob_Eh-",
        "outputId": "45c112a7-f411-4ffa-f017-95a255eb40da"
      },
      "source": [
        "SubID_ICDr = SubID_ICD.drop_duplicates(subset='SUBJECT_ID', keep='first')\n",
        "SubID_ICDr"
      ],
      "execution_count": null,
      "outputs": [
        {
          "output_type": "execute_result",
          "data": {
            "text/html": [
              "<div>\n",
              "<style scoped>\n",
              "    .dataframe tbody tr th:only-of-type {\n",
              "        vertical-align: middle;\n",
              "    }\n",
              "\n",
              "    .dataframe tbody tr th {\n",
              "        vertical-align: top;\n",
              "    }\n",
              "\n",
              "    .dataframe thead th {\n",
              "        text-align: right;\n",
              "    }\n",
              "</style>\n",
              "<table border=\"1\" class=\"dataframe\">\n",
              "  <thead>\n",
              "    <tr style=\"text-align: right;\">\n",
              "      <th></th>\n",
              "      <th>SUBJECT_ID</th>\n",
              "      <th>ICD9_CODE</th>\n",
              "      <th>SHORT_TITLE</th>\n",
              "      <th>LONG_TITLE</th>\n",
              "    </tr>\n",
              "  </thead>\n",
              "  <tbody>\n",
              "    <tr>\n",
              "      <th>0</th>\n",
              "      <td>22532</td>\n",
              "      <td>4254</td>\n",
              "      <td>Prim cardiomyopathy NEC</td>\n",
              "      <td>Other primary cardiomyopathies</td>\n",
              "    </tr>\n",
              "    <tr>\n",
              "      <th>1</th>\n",
              "      <td>13702</td>\n",
              "      <td>41401</td>\n",
              "      <td>Crnry athrscl natve vssl</td>\n",
              "      <td>Coronary atherosclerosis of native coronary ar...</td>\n",
              "    </tr>\n",
              "    <tr>\n",
              "      <th>2</th>\n",
              "      <td>5350</td>\n",
              "      <td>41401</td>\n",
              "      <td>Crnry athrscl natve vssl</td>\n",
              "      <td>Coronary atherosclerosis of native coronary ar...</td>\n",
              "    </tr>\n",
              "    <tr>\n",
              "      <th>3</th>\n",
              "      <td>10044</td>\n",
              "      <td>41401</td>\n",
              "      <td>Crnry athrscl natve vssl</td>\n",
              "      <td>Coronary atherosclerosis of native coronary ar...</td>\n",
              "    </tr>\n",
              "    <tr>\n",
              "      <th>4</th>\n",
              "      <td>79900</td>\n",
              "      <td>41401</td>\n",
              "      <td>Crnry athrscl natve vssl</td>\n",
              "      <td>Coronary atherosclerosis of native coronary ar...</td>\n",
              "    </tr>\n",
              "    <tr>\n",
              "      <th>...</th>\n",
              "      <td>...</td>\n",
              "      <td>...</td>\n",
              "      <td>...</td>\n",
              "      <td>...</td>\n",
              "    </tr>\n",
              "    <tr>\n",
              "      <th>14121</th>\n",
              "      <td>26020</td>\n",
              "      <td>41401</td>\n",
              "      <td>Crnry athrscl natve vssl</td>\n",
              "      <td>Coronary atherosclerosis of native coronary ar...</td>\n",
              "    </tr>\n",
              "    <tr>\n",
              "      <th>14122</th>\n",
              "      <td>32147</td>\n",
              "      <td>41401</td>\n",
              "      <td>Crnry athrscl natve vssl</td>\n",
              "      <td>Coronary atherosclerosis of native coronary ar...</td>\n",
              "    </tr>\n",
              "    <tr>\n",
              "      <th>14123</th>\n",
              "      <td>21177</td>\n",
              "      <td>41401</td>\n",
              "      <td>Crnry athrscl natve vssl</td>\n",
              "      <td>Coronary atherosclerosis of native coronary ar...</td>\n",
              "    </tr>\n",
              "    <tr>\n",
              "      <th>14124</th>\n",
              "      <td>18957</td>\n",
              "      <td>41401</td>\n",
              "      <td>Crnry athrscl natve vssl</td>\n",
              "      <td>Coronary atherosclerosis of native coronary ar...</td>\n",
              "    </tr>\n",
              "    <tr>\n",
              "      <th>14125</th>\n",
              "      <td>9010</td>\n",
              "      <td>41401</td>\n",
              "      <td>Crnry athrscl natve vssl</td>\n",
              "      <td>Coronary atherosclerosis of native coronary ar...</td>\n",
              "    </tr>\n",
              "  </tbody>\n",
              "</table>\n",
              "<p>11585 rows × 4 columns</p>\n",
              "</div>"
            ],
            "text/plain": [
              "       SUBJECT_ID  ...                                         LONG_TITLE\n",
              "0           22532  ...                     Other primary cardiomyopathies\n",
              "1           13702  ...  Coronary atherosclerosis of native coronary ar...\n",
              "2            5350  ...  Coronary atherosclerosis of native coronary ar...\n",
              "3           10044  ...  Coronary atherosclerosis of native coronary ar...\n",
              "4           79900  ...  Coronary atherosclerosis of native coronary ar...\n",
              "...           ...  ...                                                ...\n",
              "14121       26020  ...  Coronary atherosclerosis of native coronary ar...\n",
              "14122       32147  ...  Coronary atherosclerosis of native coronary ar...\n",
              "14123       21177  ...  Coronary atherosclerosis of native coronary ar...\n",
              "14124       18957  ...  Coronary atherosclerosis of native coronary ar...\n",
              "14125        9010  ...  Coronary atherosclerosis of native coronary ar...\n",
              "\n",
              "[11585 rows x 4 columns]"
            ]
          },
          "metadata": {
            "tags": []
          },
          "execution_count": 14
        }
      ]
    },
    {
      "cell_type": "markdown",
      "metadata": {
        "id": "uFYw4WV8TMI4"
      },
      "source": [
        "Quickly checked the number of CAD/CM records: "
      ]
    },
    {
      "cell_type": "code",
      "metadata": {
        "colab": {
          "base_uri": "https://localhost:8080/"
        },
        "id": "GA4Fd24ARVv8",
        "outputId": "98e0d447-21c1-4828-c059-5764949dec9f"
      },
      "source": [
        "cmrecords = SubID_ICDr.loc[SubID_ICDr['ICD9_CODE'].isin(['42511','42518','4254'])]\n",
        "cadrecords = SubID_ICDr.loc[SubID_ICDr['ICD9_CODE'].isin(['44029','4409','41401','4143'])]\n",
        "\n",
        "\n",
        "print(\"Number of CM records: \" + str(cmrecords.size))\n",
        "print(\"Number of CAD records: \" + str(cadrecords.size))\n"
      ],
      "execution_count": null,
      "outputs": [
        {
          "output_type": "stream",
          "text": [
            "Number of CM records: 5380\n",
            "Number of CAD records: 40960\n"
          ],
          "name": "stdout"
        }
      ]
    },
    {
      "cell_type": "markdown",
      "metadata": {
        "id": "Q1zm4thnEpF2"
      },
      "source": [
        "## The output file\n",
        "### This data is the unique SubjectIDs associated with both the note data and the ICD-9 codes for Cardiomyopathy and CAD patients. This data will be used for classification."
      ]
    },
    {
      "cell_type": "markdown",
      "metadata": {
        "id": "U8eoC1jy8ruq"
      },
      "source": [
        "Export *'SubID_ICDr'* dataframe as csv file (**SubID_ICD_Disease.csv**) to our Google drive"
      ]
    },
    {
      "cell_type": "code",
      "metadata": {
        "id": "WVLWTHswBJob"
      },
      "source": [
        "SubID_ICDr.to_csv(\"/content/drive/MyDrive/cbb 750 final/SubID_ICD_Disease.csv\")"
      ],
      "execution_count": null,
      "outputs": []
    }
  ]
}