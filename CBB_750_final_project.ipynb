{
  "nbformat": 4,
  "nbformat_minor": 0,
  "metadata": {
    "colab": {
      "name": "CBB 750 final project",
      "provenance": [],
      "collapsed_sections": [],
      "toc_visible": true
    },
    "kernelspec": {
      "display_name": "Python 3",
      "name": "python3"
    },
    "language_info": {
      "name": "python"
    }
  },
  "cells": [
    {
      "cell_type": "markdown",
      "metadata": {
        "id": "GgWbhw86P6Xl"
      },
      "source": [
        "# Classifying cardiomyopathy v. coronary artery disease for patients with and without vectorized text data\n",
        "\n",
        "\n",
        "A Ram, Jason Liu, Saejeong Park, Sarah Dudgeon\n",
        "\n",
        "\n",
        "## Here's the basic outline of our project.\n",
        "\n",
        "* We input subject ids and their associated ICD9 codes, NOTEEVENTS data and processed LABEVENTS [\"non-text\"] data\n",
        "* We extract the most recent notes for each patient and run [Doc2Vec](https://radimrehurek.com/gensim/auto_examples/tutorials/run_doc2vec_lee.html) to create vectors out of each patient's most recent notes\n",
        "  * We consolidate this into a \"text data\" matrix\n",
        "* We combine the text and non-text data matrices by subject id into a new \"text+non-text\" data matrix\n",
        "* We generate labels for text, non-text and text+non-text data matrices based on each patient's ICD9 codes\n",
        "* We classify using GLM [logistic regression], decision tree, SVM, random forest and majority vote\n",
        "  * We run GLM and decision tree with [AdaBoost](https://scikit-learn.org/stable/modules/generated/sklearn.ensemble.AdaBoostClassifier.html) to see if this will improve performance\n",
        "  * We run majority vote to see if a consensus approach will improve performance. We use all other classifiers for the vote, namely:\n",
        "    * GLM \n",
        "    * GLM with boosting\n",
        "    * Decision tree\n",
        "    * Decision tree with boosting\n",
        "    * SVM\n",
        "    * Random forest\n",
        "* We run k-fold cross validation [k=10] to more robustly assess classifier accuracy beyond counting misclassified points\n",
        "* We generate ROC curves/AUC for each classifier to provide another estimate of performance beyond accuracy \n",
        "* We check feature importance [when possible, not all models, like SVM with nonlinear kernel, allow] to better understand why our model performance is often not great \n",
        "\n",
        "\n",
        "**Input files:**\n",
        "\n",
        "* ```SubID_ICD_Disease.csv```, which isolates patients with our ICD codes of interest [generated from ```SubID_ICD_Diseases.ipynb```]\n",
        "\n",
        "* ```nontext/labevents2_processed_matrix.csv```, which takes the \"most recent\" LABEVENTS data for each patient and processes into a matrix [generated from ```nontext/mimic_processing.Rmd```]\n",
        "\n",
        "* ```NOTEEVENTS.csv```, which is just MIMIC ```NOTEEVENTS```` data\n",
        "\n",
        "**Outputs:**\n",
        "\n",
        "* ```noteevents_most_recent.csv```, which contains NOTEEVENTS data and document vectors for each patient\n",
        "* ```textdatamat.csv```, which contains document vectors for each patient [csv form of ```textDataMat```]\n",
        "* ```filledna_processed_nontext.csv```, which contains imputed ```LABEVENTS``` data for each patient [csv form of ```filledna_processed_nontext```]\n",
        "* ```text_nontext_data.csv```, which is a merge of the data ```textdatamat.csv``` and ```filledna_processed_nontext.csv``` [csv form of ```textNontextData```] \n",
        "\n",
        "* Three matrices with text, non-text and text+non-text data: \n",
        "  * ```textDataMat```, which contains document vectors for each patient\n",
        "\n",
        "  * ```filledna_processed_nontext```, which contains imputed ```LABEVENTS``` information for each patient\n",
        "  * ```textNontextData```, which is just the merge of ```textDataMat``` and ```filledna_processed_nontext```\n",
        "\n",
        "\n",
        "\n"
      ]
    },
    {
      "cell_type": "markdown",
      "metadata": {
        "id": "l0LLTl3WRTa_"
      },
      "source": [
        "## First we'll mount our drive and import all salient libraries.\n"
      ]
    },
    {
      "cell_type": "code",
      "metadata": {
        "colab": {
          "background_save": true,
          "base_uri": "https://localhost:8080/"
        },
        "id": "b1QErK9vVVJa",
        "outputId": "d0186f3a-16f6-48bd-f713-a968e4f1f9bc"
      },
      "source": [
        "from google.colab import drive\n",
        "drive.mount('/content/drive')\n",
        "\n",
        "import numpy as np\n",
        "import pandas as pd\n",
        "\n",
        "# for vectorization of text\n",
        "from gensim.models.doc2vec import Doc2Vec, TaggedDocument\n",
        "import nltk\n",
        "nltk.download('punkt')\n",
        "from tqdm import tqdm\n",
        "\n",
        "# for doc2vec, to expedite runtime\n",
        "import multiprocessing\n",
        "\n",
        "# to separate the data into train/test sets\n",
        "from sklearn.model_selection import train_test_split\n",
        "\n",
        "# for k-fold validation\n",
        "from sklearn import metrics\n",
        "from sklearn.model_selection import cross_val_score\n",
        "from sklearn.model_selection import KFold\n",
        "\n",
        "# for GLM\n",
        "from sklearn.linear_model import LogisticRegression\n",
        "\n",
        "# for decision tree\n",
        "from sklearn import tree\n",
        "\n",
        "# for svm\n",
        "from sklearn import svm\n",
        "\n",
        "# for random forest and majority vote\n",
        "from sklearn.ensemble import RandomForestClassifier, VotingClassifier\n",
        "\n",
        "# for adaboost\n",
        "from sklearn.ensemble import AdaBoostClassifier\n",
        "\n",
        "# for roc/auc scores\n",
        "from sklearn.metrics import roc_auc_score\n",
        "import sklearn.metrics as metrics\n",
        "\n",
        "# for plotting\n",
        "import matplotlib.pyplot as plt"
      ],
      "execution_count": null,
      "outputs": [
        {
          "output_type": "stream",
          "text": [
            "Drive already mounted at /content/drive; to attempt to forcibly remount, call drive.mount(\"/content/drive\", force_remount=True).\n",
            "[nltk_data] Downloading package punkt to /root/nltk_data...\n",
            "[nltk_data]   Package punkt is already up-to-date!\n"
          ],
          "name": "stdout"
        }
      ]
    },
    {
      "cell_type": "markdown",
      "metadata": {
        "id": "YhtIFWwyhGGi"
      },
      "source": [
        "## Next, let's import our data and do some preliminary processing \n",
        "\n",
        "We've already done some of the preprocessing in the script ```SubID_ICD_Diseases.ipynb```. Very quickly, here's what we did: \n",
        "\n",
        "1. Import data from MIMIC-II tables ```D_ICD_DIAGNOSES``` and ```DIAGNOSES_ICD```\n",
        "2. Find ICD-9 codes for \"cardiomyopath\" and \"atherosclerosis\" in ```D_ICD_DIAGNOSES```\n",
        "3. Select rows for patients with the resulting ICD-9 codes in ```DIAGNOSES_ICD```:\n",
        "  \n",
        "  1. [425.11](http://www.icd9data.com/2014/Volume1/390-459/420-429/425/425.11.htm), [425.18](http://www.icd9data.com/2014/Volume1/390-459/420-429/425/425.18.htm) and [425.4](http://www.icd9data.com/2014/Volume1/390-459/420-429/425/425.4.htm) for cardiomyopathy\n",
        "  2. [440.29](http://www.icd9data.com/2014/Volume1/390-459/440-449/440/440.29.htm), [440.9](http://www.icd9data.com/2014/Volume1/390-459/440-449/440/440.9.htm), [414.01](http://www.icd9data.com/2014/Volume1/390-459/410-414/414/414.01.htm) and [414.3](http://www.icd9data.com/2014/Volume1/390-459/410-414/414/414.3.htm) for coronary artery disease\n",
        "4. Combined all into ```SubID_ICD_Disease.csv```. \n",
        "\n",
        "\n",
        "From here we read in that csv file along with MIMIC's ```NOTEEVENTS```.\n",
        "\n",
        "As for the ```LABEVENTS``` data matrix -- we process the data in ```nontext/mimic_processing.R``` and export to ```labevents_processed_matrix.csv```. This data matrix contains all ```LABEVENTS``` data for our patients of interest. We'll use it for classification purposes. \n",
        "\n",
        "\n",
        "\n"
      ]
    },
    {
      "cell_type": "code",
      "metadata": {
        "id": "QQyeHtDQUaff"
      },
      "source": [
        "# read in saejeong's subject_id with icd codes\n",
        "data = pd.read_csv('/content/drive/MyDrive/cbb 750 final/SubID_ICD_Disease.csv')\n",
        "\n",
        "# read in jason's LABEVENTS data matrix\n",
        "nontext = pd.read_csv(\"/content/drive/MyDrive/cbb 750 final/nontext/labevents2_processed_matrix.csv\")\n",
        "\n",
        "# read in NOTEEVENTS from mimic--can take up to 2 mins!\n",
        "notes = pd.read_csv('/content/drive/MyDrive/cbb 750 final/mimic/NOTEEVENTS.csv')"
      ],
      "execution_count": 42,
      "outputs": []
    },
    {
      "cell_type": "markdown",
      "metadata": {
        "id": "KZgq7Vo87Sfo"
      },
      "source": [
        "### Extracting the most recent notes for each patient\n",
        "\n",
        "\n",
        "Now, our goal is to find text notes for all patients in ```SubID_ICD_Disease.csv```. Specifically, we want to find the most recent text notes for each patient, which should hopefully be the most salient to determining their disease state. [The assumption is that earlier patient notes may include data that's completely extraneous to our classification task, which in turn will make classification harder.]\n",
        "\n",
        "We realized that the ```CHARTDATE``` column [which represents when the notes were recorded] was the only reliable indicator of time here [others are frequently NA whereas this appears to have a value in all rows], and even then it outputs things in a weird format. Ostensibly it is in \"year-date-month\" but the years are... in the future? \n",
        "\n",
        "Here's an example: \n",
        "![image.png](data:image/png;base64,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)\n",
        "\n",
        "We're unsure as to why this is the case but we sorted based on \"most recent date.\" Here's how: \n",
        "\n",
        "1. Since these \"dates\" are stored as strings, we first strip \"-\" and convert to ints. We store that in a new column called ```DATETOUSE```. \n",
        "2. We get a list of unique ```SUBJECT_ID```s. This is easily done using python's set operations.\n",
        "3. We create a new empty dataframe called ```uniqueNotes``` with the same columns as ```NOTEEVENTS```. It will become a subset of rows in ```NOTEEVENTS```, namely all rows containing the \"most recent\" note for each unique patient.\n",
        "4. We iterate over each unique patient, find the notes associated with them and find the row corresponding to the \"most recent\" one. \n",
        "  * Finding the \"most recent\" date just means finding the max of all ```DATETOUSE``` values associated with this patient. \n",
        "5. We then add that row to ```uniqueNotes``` and export as ```noteevents_most_recent.csv```\n",
        "  * I know exporting is not strictly necessary but we may want to work on the data in a different notebook/script. "
      ]
    },
    {
      "cell_type": "code",
      "metadata": {
        "colab": {
          "base_uri": "https://localhost:8080/",
          "height": 496
        },
        "id": "QfcdsReusRNf",
        "outputId": "89e87707-06a9-4e33-9dfa-3bb61fccf75f"
      },
      "source": [
        "# merge icd codes with NOTEEVENTS\n",
        "subjectNotes = pd.merge(data, notes, on=\"SUBJECT_ID\")\n",
        "\n",
        "# create a new column DATETOUSE, which gets rid of the hyphens in CHARTDATE strings and converts to int\n",
        "subjectNotes['DATETOUSE'] = subjectNotes['CHARTDATE'].map(lambda CHARTDATE: int(CHARTDATE.replace('-','')))\n",
        "\n",
        "# see which patients have multiple notes: see https://pandas.pydata.org/pandas-docs/stable/reference/api/pandas.DataFrame.duplicated.html\n",
        "duplicates = subjectNotes[subjectNotes.duplicated(subset=[\"SUBJECT_ID\"])]\n",
        "\n",
        "# find the unique subject ids--we have to make it a list else python will throw an error later\n",
        "uniqueIDs = list(set(duplicates['SUBJECT_ID']))\n",
        "\n",
        "# create a new dataframe for the unique notes with the same columns as subjectnotes\n",
        "uniqueNotes = pd.DataFrame(columns=subjectNotes.columns)\n",
        "\n",
        "# go through the unique subject ids and find the most recent notes for each patient \n",
        "for i in range(len(uniqueIDs)):\n",
        "\n",
        "  id = uniqueIDs[i]\n",
        "\n",
        "  # find notes associated with a given subjectid\n",
        "  assocNotes = subjectNotes.loc[subjectNotes['SUBJECT_ID'].isin([id])]\n",
        "\n",
        "  # now we'll get the max value of all DATETOUSE values associated with each patient [idxmax gives you the row index]\n",
        "  # for idxmax info see here: https://www.kite.com/python/answers/how-to-find-the-max-value-of-a-pandas-dataframe-column-in-python\n",
        "  date = assocNotes['DATETOUSE']\n",
        "  chartMaxInd = date.idxmax()\n",
        "\n",
        "  # extract that row--the index we get is from subjectNotes since assocNotes is a subset of subjectNotes, not its own dataframe \n",
        "  chartMax = subjectNotes.iloc[chartMaxInd,:]\n",
        "  \n",
        "  # chartMax is a series, which we need to convert to a dataframe. It is also transposed from the original for some reason so we need to transpose it back\n",
        "  maxRow = chartMax.to_frame().T\n",
        "\n",
        "  # add it on to uniqueNotes\n",
        "  uniqueNotes = pd.concat([uniqueNotes, maxRow])\n",
        "\n",
        "\n",
        "uniqueNotes.head()"
      ],
      "execution_count": null,
      "outputs": [
        {
          "output_type": "execute_result",
          "data": {
            "text/html": [
              "<div>\n",
              "<style scoped>\n",
              "    .dataframe tbody tr th:only-of-type {\n",
              "        vertical-align: middle;\n",
              "    }\n",
              "\n",
              "    .dataframe tbody tr th {\n",
              "        vertical-align: top;\n",
              "    }\n",
              "\n",
              "    .dataframe thead th {\n",
              "        text-align: right;\n",
              "    }\n",
              "</style>\n",
              "<table border=\"1\" class=\"dataframe\">\n",
              "  <thead>\n",
              "    <tr style=\"text-align: right;\">\n",
              "      <th></th>\n",
              "      <th>Unnamed: 0</th>\n",
              "      <th>SUBJECT_ID</th>\n",
              "      <th>ICD9_CODE</th>\n",
              "      <th>SHORT_TITLE</th>\n",
              "      <th>LONG_TITLE</th>\n",
              "      <th>ROW_ID</th>\n",
              "      <th>HADM_ID</th>\n",
              "      <th>CHARTDATE</th>\n",
              "      <th>CHARTTIME</th>\n",
              "      <th>STORETIME</th>\n",
              "      <th>CATEGORY</th>\n",
              "      <th>DESCRIPTION</th>\n",
              "      <th>CGID</th>\n",
              "      <th>ISERROR</th>\n",
              "      <th>TEXT</th>\n",
              "      <th>DATETOUSE</th>\n",
              "    </tr>\n",
              "  </thead>\n",
              "  <tbody>\n",
              "    <tr>\n",
              "      <th>475330</th>\n",
              "      <td>12232</td>\n",
              "      <td>3</td>\n",
              "      <td>4254</td>\n",
              "      <td>Prim cardiomyopathy NEC</td>\n",
              "      <td>Other primary cardiomyopathies</td>\n",
              "      <td>784268</td>\n",
              "      <td>NaN</td>\n",
              "      <td>2102-04-18</td>\n",
              "      <td>2102-04-18 13:22:00</td>\n",
              "      <td>NaN</td>\n",
              "      <td>Radiology</td>\n",
              "      <td>ART DUP EXT LO UNI;F/U</td>\n",
              "      <td>NaN</td>\n",
              "      <td>NaN</td>\n",
              "      <td>[**2102-4-18**] 1:22 PM\\n ART DUP EXT LO UNI;F...</td>\n",
              "      <td>21020418</td>\n",
              "    </tr>\n",
              "    <tr>\n",
              "      <th>427689</th>\n",
              "      <td>10946</td>\n",
              "      <td>32773</td>\n",
              "      <td>41401</td>\n",
              "      <td>Crnry athrscl natve vssl</td>\n",
              "      <td>Coronary atherosclerosis of native coronary ar...</td>\n",
              "      <td>34384</td>\n",
              "      <td>129856</td>\n",
              "      <td>2185-10-05</td>\n",
              "      <td>NaN</td>\n",
              "      <td>NaN</td>\n",
              "      <td>Discharge summary</td>\n",
              "      <td>Report</td>\n",
              "      <td>NaN</td>\n",
              "      <td>NaN</td>\n",
              "      <td>Admission Date:  [**2185-9-26**]              ...</td>\n",
              "      <td>21851005</td>\n",
              "    </tr>\n",
              "    <tr>\n",
              "      <th>67171</th>\n",
              "      <td>1413</td>\n",
              "      <td>98310</td>\n",
              "      <td>41401</td>\n",
              "      <td>Crnry athrscl natve vssl</td>\n",
              "      <td>Coronary atherosclerosis of native coronary ar...</td>\n",
              "      <td>129334</td>\n",
              "      <td>NaN</td>\n",
              "      <td>2175-05-17</td>\n",
              "      <td>NaN</td>\n",
              "      <td>NaN</td>\n",
              "      <td>ECG</td>\n",
              "      <td>Report</td>\n",
              "      <td>NaN</td>\n",
              "      <td>NaN</td>\n",
              "      <td>Baseline artifact\\nVentricular paced rhythm\\nI...</td>\n",
              "      <td>21750517</td>\n",
              "    </tr>\n",
              "    <tr>\n",
              "      <th>245933</th>\n",
              "      <td>6167</td>\n",
              "      <td>32777</td>\n",
              "      <td>41401</td>\n",
              "      <td>Crnry athrscl natve vssl</td>\n",
              "      <td>Coronary atherosclerosis of native coronary ar...</td>\n",
              "      <td>220354</td>\n",
              "      <td>NaN</td>\n",
              "      <td>2113-11-18</td>\n",
              "      <td>NaN</td>\n",
              "      <td>NaN</td>\n",
              "      <td>ECG</td>\n",
              "      <td>Report</td>\n",
              "      <td>NaN</td>\n",
              "      <td>NaN</td>\n",
              "      <td>Normal sinus rhythm with marked A-V conduction...</td>\n",
              "      <td>21131118</td>\n",
              "    </tr>\n",
              "    <tr>\n",
              "      <th>905</th>\n",
              "      <td>25</td>\n",
              "      <td>32779</td>\n",
              "      <td>41401</td>\n",
              "      <td>Crnry athrscl natve vssl</td>\n",
              "      <td>Coronary atherosclerosis of native coronary ar...</td>\n",
              "      <td>37</td>\n",
              "      <td>133757</td>\n",
              "      <td>2167-10-27</td>\n",
              "      <td>NaN</td>\n",
              "      <td>NaN</td>\n",
              "      <td>Discharge summary</td>\n",
              "      <td>Report</td>\n",
              "      <td>NaN</td>\n",
              "      <td>NaN</td>\n",
              "      <td>Admission Date:  [**2167-10-20**]             ...</td>\n",
              "      <td>21671027</td>\n",
              "    </tr>\n",
              "  </tbody>\n",
              "</table>\n",
              "</div>"
            ],
            "text/plain": [
              "       Unnamed: 0  ... DATETOUSE\n",
              "475330      12232  ...  21020418\n",
              "427689      10946  ...  21851005\n",
              "67171        1413  ...  21750517\n",
              "245933       6167  ...  21131118\n",
              "905            25  ...  21671027\n",
              "\n",
              "[5 rows x 16 columns]"
            ]
          },
          "metadata": {
            "tags": []
          },
          "execution_count": 3
        }
      ]
    },
    {
      "cell_type": "markdown",
      "metadata": {
        "id": "5fL5Gv-B90fI"
      },
      "source": [
        "##### Type of notes used for text-based classification\n",
        "\n",
        "The ```NOTEEVENTS``` table places each note into a specific category under the column ```CATEGORY```. Let's take a look at the distribution of notes in our text data. "
      ]
    },
    {
      "cell_type": "code",
      "metadata": {
        "colab": {
          "base_uri": "https://localhost:8080/",
          "height": 377
        },
        "id": "AX9rRbt09dO7",
        "outputId": "ec9ac9c2-7053-4792-e46b-c3e99d3845e7"
      },
      "source": [
        "# make a histogram of the CATEGORY column of the uniqueNotes\n",
        "p = plt.hist(uniqueNotes['CATEGORY'])\n",
        "\n",
        "# rotate x-axis names so they fit nicely on the page\n",
        "plt.xticks(rotation='vertical') \n",
        "\n",
        "plt.show()\n",
        "plt.xlabel()\n",
        "plt.savefig('hist_noteCategory')"
      ],
      "execution_count": null,
      "outputs": [
        {
          "output_type": "display_data",
          "data": {
            "image/png": "[encoded data removed]",
            "text/plain": [
              "<Figure size 432x288 with 1 Axes>"
            ]
          },
          "metadata": {
            "tags": []
          }
        },
        {
          "output_type": "display_data",
          "data": {
            "text/plain": [
              "<Figure size 432x288 with 0 Axes>"
            ]
          },
          "metadata": {
            "tags": []
          }
        }
      ]
    },
    {
      "cell_type": "markdown",
      "metadata": {
        "id": "mZhjFo2gGsOx"
      },
      "source": [
        "## Now we can conduct NLP on the text data matrix.\n",
        "\n",
        "Now that we have our data matrix set up, we'll normalize the text, remove stop words, and vectorize the data using doc2vec. We do this to get into the same form as the LABEVENTS matrix and to use it for classification."
      ]
    },
    {
      "cell_type": "code",
      "metadata": {
        "colab": {
          "base_uri": "https://localhost:8080/"
        },
        "id": "qF5gRoNyf94Q",
        "outputId": "b2fd4e8e-c895-4b7d-d0ae-ef7080cf467f"
      },
      "source": [
        "# extract the column: 'TEXT' - save as variable: 'textData'\n",
        "textData = uniqueNotes['TEXT']\n",
        "\n",
        "# check my work - print the checks\n",
        "print(len(textData)) #each row = 1 document, length of vector = number documents\n",
        "textData[0:4] #scope the scene - view the first five documents"
      ],
      "execution_count": null,
      "outputs": [
        {
          "output_type": "stream",
          "text": [
            "11572\n"
          ],
          "name": "stdout"
        },
        {
          "output_type": "execute_result",
          "data": {
            "text/plain": [
              "475330    [**2102-4-18**] 1:22 PM\\n ART DUP EXT LO UNI;F...\n",
              "427689    Admission Date:  [**2185-9-26**]              ...\n",
              "67171     Baseline artifact\\nVentricular paced rhythm\\nI...\n",
              "245933    Normal sinus rhythm with marked A-V conduction...\n",
              "Name: TEXT, dtype: object"
            ]
          },
          "metadata": {
            "tags": []
          },
          "execution_count": 4
        }
      ]
    },
    {
      "cell_type": "markdown",
      "metadata": {
        "id": "hpdJ5mKAVyLs"
      },
      "source": [
        "### Text Processing\n",
        "\n",
        "Explain what is being done here"
      ]
    },
    {
      "cell_type": "code",
      "metadata": {
        "colab": {
          "base_uri": "https://localhost:8080/"
        },
        "id": "v0zuZBn0Xh6S",
        "outputId": "8b8355a6-f84e-4d39-84ca-baf80d410467"
      },
      "source": [
        "#clean the data\n",
        "def cleanText(text):\n",
        "    text = text.lower() #normalize\n",
        "    ## can add other text processing commands here \n",
        "    return text\n",
        "\n",
        "#apply the cleanText function to the text data\n",
        "cleanTextData = textData.apply(cleanText)\n",
        "\n",
        "# tokenize the data\n",
        "tokenTextData = [nltk.word_tokenize(row) for row in cleanTextData] \n",
        "\n",
        "# check that it worked\n",
        "print('original:', textData[0])\n",
        "print('cleaned:', cleanTextData[0])\n",
        "print('tokenized:', tokenTextData[0])"
      ],
      "execution_count": null,
      "outputs": [
        {
          "output_type": "stream",
          "text": [
            "original: Admission Date:  [**2151-7-16**]       Discharge Date:  [**2151-8-4**]\n",
            "\n",
            "\n",
            "Service:\n",
            "ADDENDUM:\n",
            "\n",
            "RADIOLOGIC STUDIES:  Radiologic studies also included a chest\n",
            "CT, which confirmed cavitary lesions in the left lung apex\n",
            "consistent with infectious process/tuberculosis.  This also\n",
            "moderate-sized left pleural effusion.\n",
            "\n",
            "HEAD CT:  Head CT showed no intracranial hemorrhage or mass\n",
            "effect, but old infarction consistent with past medical\n",
            "history.\n",
            "\n",
            "ABDOMINAL CT:  Abdominal CT showed lesions of\n",
            "T10 and sacrum most likely secondary to osteoporosis. These can\n",
            "be followed by repeat imaging as an outpatient.\n",
            "\n",
            "\n",
            "\n",
            "                            [**First Name8 (NamePattern2) **] [**First Name4 (NamePattern1) 1775**] [**Last Name (NamePattern1) **], M.D.  [**MD Number(1) 1776**]\n",
            "\n",
            "Dictated By:[**Hospital 1807**]\n",
            "MEDQUIST36\n",
            "\n",
            "D:  [**2151-8-5**]  12:11\n",
            "T:  [**2151-8-5**]  12:21\n",
            "JOB#:  [**Job Number 1808**]\n",
            "\n",
            "cleaned: admission date:  [**2151-7-16**]       discharge date:  [**2151-8-4**]\n",
            "\n",
            "\n",
            "service:\n",
            "addendum:\n",
            "\n",
            "radiologic studies:  radiologic studies also included a chest\n",
            "ct, which confirmed cavitary lesions in the left lung apex\n",
            "consistent with infectious process/tuberculosis.  this also\n",
            "moderate-sized left pleural effusion.\n",
            "\n",
            "head ct:  head ct showed no intracranial hemorrhage or mass\n",
            "effect, but old infarction consistent with past medical\n",
            "history.\n",
            "\n",
            "abdominal ct:  abdominal ct showed lesions of\n",
            "t10 and sacrum most likely secondary to osteoporosis. these can\n",
            "be followed by repeat imaging as an outpatient.\n",
            "\n",
            "\n",
            "\n",
            "                            [**first name8 (namepattern2) **] [**first name4 (namepattern1) 1775**] [**last name (namepattern1) **], m.d.  [**md number(1) 1776**]\n",
            "\n",
            "dictated by:[**hospital 1807**]\n",
            "medquist36\n",
            "\n",
            "d:  [**2151-8-5**]  12:11\n",
            "t:  [**2151-8-5**]  12:21\n",
            "job#:  [**job number 1808**]\n",
            "\n",
            "tokenized: ['[', '**2102-4-18**', ']', '1:22', 'pm', 'art', 'dup', 'ext', 'lo', 'uni', ';', 'f/u', 'clip', '#', '[', '**clip', 'number', '(', 'radiology', ')', '69444**', ']', 'reason', ':', 'arterial', 'left', 'leg', ',', 'graft', 'surveillance', '______________________________________________________________________________', '[', '**hospital', '2**', ']', 'medical', 'condition', ':', '76', 'year', 'old', 'man', 'with', 'reason', 'for', 'this', 'examination', ':', 'graft', 'survelliance', '______________________________________________________________________________', 'final', 'report', '[', '**2102-4-18**', ']', ',', 'duplex', 'lower', 'extremity', 'reason', ':', 'the', 'patient', 'is', 'status', 'post', 'left', 'lower', 'extremity', 'bypass', 'graft', ',', 'followup', 'for', 'surveillance', '.', 'new', 'heel', 'ulcer', '.', 'findings', ':', 'duplex', 'evaluation', 'was', 'performed', 'of', 'the', 'left', 'lower', 'extremity', 'femoral', 'to', 'anterior', 'tibial', 'bypass', 'graft', '.', 'peak', 'systolic', 'velocities', 'in', 'cm', 'per', 'second', 'are', 'as', 'follows', ':', '48', ',', '98', ',', '86', ',', '86', 'in', 'the', 'proximal', 'vessel', ',', 'proximal', 'anastomosis', ',', 'distal', 'anastomosis', 'and', 'native', 'distal', 'vessel', ',', 'respectively', '.', 'throughout', 'the', 'body', 'of', 'the', 'graft', ',', 'velocities', 'range', 'from', '34', 'through', '80.', 'there', 'are', 'no', 'peak', 'velocity', 'ratios', 'greater', 'than', 'equal', 'to', '2.', 'impression', ':', 'widely', 'patent', 'left', 'femoral', 'to', 'anterior', 'tibial', 'artery', 'bypass', 'graft', 'without', 'any', 'evidence', 'of', 'stenosis', '.']\n"
          ],
          "name": "stdout"
        }
      ]
    },
    {
      "cell_type": "markdown",
      "metadata": {
        "id": "ZrYpQnUs4o34"
      },
      "source": [
        "### Tag the Processed Text\n",
        "\n",
        "Now we need to tag the documents because the vectorizor likes to ingest data this way. \n",
        "\n",
        "There are many ways to experiment here: \n",
        "\n",
        "*   We can tag the documents with the labels (as performed below)\n",
        "*   We can tag the documents with unique identifiers, to train our vectorizer to know that each document is unique\n",
        "*   We can tag the documents with multiple labels, a combination of the two examples above or use other factors from the dataframe. In adding more data to the tags, we may increase predictability of our resulting vectors.\n"
      ]
    },
    {
      "cell_type": "markdown",
      "metadata": {
        "id": "W3xv1mr535ew"
      },
      "source": [
        "#### Make labels for tagging\n",
        "\n",
        "Unfortunately this block of code is used multiple times throughout the notebook. For now we recognize the redundancy. It gets the job done and will have to do.  \n",
        "\n",
        "Here's how we generate labels: \n",
        "\n",
        "* We find each patient's ICD9 code [under column ```ICD9_CODE``` in uniqueNotes]\n",
        "* Label cardiomyopathy ICD codes as 0 and CAD as 1\n",
        "  *   Cardiomyopathy codes are  [425.11](http://www.icd9data.com/2014/Volume1/390-459/420-429/425/425.11.htm), [425.18](http://www.icd9data.com/2014/Volume1/390-459/420-429/425/425.18.htm) and [425.4](http://www.icd9data.com/2014/Volume1/390-459/420-429/425/425.4.htm) \n",
        "  * CAD codes are [440.29](http://www.icd9data.com/2014/Volume1/390-459/440-449/440/440.29.htm), [440.9](http://www.icd9data.com/2014/Volume1/390-459/440-449/440/440.9.htm), [414.01](http://www.icd9data.com/2014/Volume1/390-459/410-414/414/414.01.htm) and [414.3](http://www.icd9data.com/2014/Volume1/390-459/410-414/414/414.3.htm) \n",
        "\n",
        "* Add all labels to the array ```tagging_labels```"
      ]
    },
    {
      "cell_type": "code",
      "metadata": {
        "colab": {
          "base_uri": "https://localhost:8080/"
        },
        "id": "3ytWuguF3o8n",
        "outputId": "1c91d20a-e419-40a3-f911-d7df73262b71"
      },
      "source": [
        "# let's make the labels--basically we want to separate out by icd code\n",
        "# we'll make 0=cardiomyopathy, 1=CAD\n",
        "cm = [42511, 42518, 4254]\n",
        "cad = [44029, 4409, 41401, 4143]\n",
        "\n",
        "# this array contains all the ICD codes in order\n",
        "codes = uniqueNotes['ICD9_CODE'].tolist()\n",
        "\n",
        "# this array will contain all the data labels in order\n",
        "tagging_labels = []\n",
        "\n",
        "# iterate through the rows of textVectorMat and create labels \n",
        "for i in range(len(codes)):\n",
        "\n",
        "  # grab the icd code from row i\n",
        "  icd = codes[i]\n",
        "\n",
        "  # if the icd code is a CM one, append 0 to labels, else if it's CAD append 1\n",
        "  if icd in cm: \n",
        "    tagging_labels.append(0)\n",
        "  else: \n",
        "    tagging_labels.append(1)\n",
        "\n",
        "# ensure that the length of the list of labels is the same as the length of codes\n",
        "print(\"labels:\", len(tagging_labels))\n",
        "print(\"codes:\", len(codes))"
      ],
      "execution_count": null,
      "outputs": [
        {
          "output_type": "stream",
          "text": [
            "labels: 11572\n",
            "codes: 11572\n"
          ],
          "name": "stdout"
        }
      ]
    },
    {
      "cell_type": "markdown",
      "metadata": {
        "id": "CTgaxIaz38ck"
      },
      "source": [
        "#### Perform the tagging\n",
        "\n",
        "Explain what this entails"
      ]
    },
    {
      "cell_type": "code",
      "metadata": {
        "colab": {
          "base_uri": "https://localhost:8080/",
          "height": 249
        },
        "id": "5vd0LeaTcE85",
        "outputId": "3731fb0d-eb1b-4f84-8d09-f56ae421ab49"
      },
      "source": [
        "# initialize the array \n",
        "documents = []\n",
        "\n",
        "# tag each document with the associated label\n",
        "for i in range(len(tokenTextData)):\n",
        "  taggedDoc = TaggedDocument(words=tokenTextData[i], tags=[tagging_labels[i]])\n",
        "  documents.append(taggedDoc)\n",
        "\n",
        "# check that it worked\n",
        "print('tagged:', documents[0])"
      ],
      "execution_count": null,
      "outputs": [
        {
          "output_type": "error",
          "ename": "NameError",
          "evalue": "ignored",
          "traceback": [
            "\u001b[0;31m---------------------------------------------------------------------------\u001b[0m",
            "\u001b[0;31mNameError\u001b[0m                                 Traceback (most recent call last)",
            "\u001b[0;32m<ipython-input-5-c76bec74d0a7>\u001b[0m in \u001b[0;36m<module>\u001b[0;34m()\u001b[0m\n\u001b[1;32m      3\u001b[0m \u001b[0;34m\u001b[0m\u001b[0m\n\u001b[1;32m      4\u001b[0m \u001b[0;31m# tag each document with the associated label\u001b[0m\u001b[0;34m\u001b[0m\u001b[0;34m\u001b[0m\u001b[0;34m\u001b[0m\u001b[0m\n\u001b[0;32m----> 5\u001b[0;31m \u001b[0;32mfor\u001b[0m \u001b[0mi\u001b[0m \u001b[0;32min\u001b[0m \u001b[0mrange\u001b[0m\u001b[0;34m(\u001b[0m\u001b[0mlen\u001b[0m\u001b[0;34m(\u001b[0m\u001b[0mtokenTextData\u001b[0m\u001b[0;34m)\u001b[0m\u001b[0;34m)\u001b[0m\u001b[0;34m:\u001b[0m\u001b[0;34m\u001b[0m\u001b[0;34m\u001b[0m\u001b[0m\n\u001b[0m\u001b[1;32m      6\u001b[0m   \u001b[0mtaggedDoc\u001b[0m \u001b[0;34m=\u001b[0m \u001b[0mTaggedDocument\u001b[0m\u001b[0;34m(\u001b[0m\u001b[0mwords\u001b[0m\u001b[0;34m=\u001b[0m\u001b[0mtokenTextData\u001b[0m\u001b[0;34m[\u001b[0m\u001b[0mi\u001b[0m\u001b[0;34m]\u001b[0m\u001b[0;34m,\u001b[0m \u001b[0mtags\u001b[0m\u001b[0;34m=\u001b[0m\u001b[0;34m[\u001b[0m\u001b[0mtagging_labels\u001b[0m\u001b[0;34m[\u001b[0m\u001b[0mi\u001b[0m\u001b[0;34m]\u001b[0m\u001b[0;34m]\u001b[0m\u001b[0;34m)\u001b[0m\u001b[0;34m\u001b[0m\u001b[0;34m\u001b[0m\u001b[0m\n\u001b[1;32m      7\u001b[0m   \u001b[0mdocuments\u001b[0m\u001b[0;34m.\u001b[0m\u001b[0mappend\u001b[0m\u001b[0;34m(\u001b[0m\u001b[0mtaggedDoc\u001b[0m\u001b[0;34m)\u001b[0m\u001b[0;34m\u001b[0m\u001b[0;34m\u001b[0m\u001b[0m\n",
            "\u001b[0;31mNameError\u001b[0m: name 'tokenTextData' is not defined"
          ]
        }
      ]
    },
    {
      "cell_type": "markdown",
      "metadata": {
        "id": "ZaEg3lkBb3fx"
      },
      "source": [
        "### Vectorizing with Doc2Vec\n",
        "\n",
        "Now we will build a vectorizer using the Doc2Vec model.\n",
        "\n",
        "We will split the tagged data into train and test with a 70-30 train-test split. Train data will be used to train the vectorizer and we'll be using that same 70-30 train-test split when running our models, just to keep things consistent. "
      ]
    },
    {
      "cell_type": "code",
      "metadata": {
        "colab": {
          "base_uri": "https://localhost:8080/"
        },
        "id": "xm5ocbGrqjgF",
        "outputId": "2ca110e1-3cb8-44cb-bfca-64a9f33fd8a4"
      },
      "source": [
        "# split into train and test\n",
        "trainDocuments, testDocuments = train_test_split(documents, test_size=0.3, random_state=42)\n",
        "\n",
        "# check our work:\n",
        "print(len(documents))\n",
        "print(len(trainDocuments))\n",
        "print(len(testDocuments))\n",
        "print(trainDocuments[10]) # printing a random trainDocument to check formatting"
      ],
      "execution_count": null,
      "outputs": [
        {
          "output_type": "stream",
          "text": [
            "11572\n",
            "8100\n",
            "3472\n",
            "TaggedDocument(['[', '**2136-3-6**', ']', '8:30', 'am', 'ct', 'chest', 'w/o', 'contrast', 'clip', '#', '[', '**clip', 'number', '(', 'radiology', ')', '77439**', ']', 'reason', ':', 'f/u', 'left', 'upper', '[', '**clip', 'number', '(', 'radiology', ')', '**', ']', ';', 'lung', 'ca', '______________________________________________________________________________', '[', '**hospital', '2**', ']', 'medical', 'condition', ':', '83', 'year', 'old', 'man', 'with', 'left', 'upper', '[', '**hospital', '1618**', ']', 'nodule', 'reason', 'for', 'this', 'examination', ':', 'followup', 'left', 'upper', '[', '**hospital', '1618**', ']', 'nodule', ',', 'please', 'compare', 'to', 'prior', 'studies', 'no', 'contraindications', 'for', 'iv', 'contrast', '______________________________________________________________________________', 'final', 'report', 'ct', 'chest', 'without', 'contrast', 'dated', '[', '**2136-3-6**', ']', 'comparison', ':', '[', '**2135-8-29**', ']', 'chest', 'cta', '.', 'indication', ':', 'lung', 'nodule', '.', 'multidetector', 'ct', 'of', 'the', 'chest', 'was', 'performed', 'without', 'intravenous', 'or', 'oral', 'contrast', 'administration', '.', 'images', 'are', 'presented', 'for', 'display', 'in', 'the', 'axial', 'plane', 'at', '5', 'mm', 'and', '1.25', 'mm', 'collimation', '.', 'a', 'series', 'of', 'coronal', 'reformation', 'images', 'were', 'also', 'presented', 'for', 'review', '.', 'findings', ':', 'a', 'spiculated', 'nodular', 'opacity', 'in', 'the', 'right', 'upper', '[', '**year', '(', '4', 'digits', ')', '1618**', ']', 'directly', 'abutting', 'the', 'minor', 'fissure', 'is', 'without', 'change', 'from', 'the', 'prior', 'ct.', 'this', 'measures', 'about', '8', 'mm', 'in', 'greatest', 'dimension', 'and', 'is', 'contiguous', 'with', 'an', 'area', 'of', 'longer', 'linear', 'opacification', ',', 'which', 'may', 'be', 'due', 'to', 'an', 'area', 'of', 'adjacent', 'scarring', '.', 'more', 'superiorly', 'at', 'both', 'lung', 'apices', ',', 'nodular', 'opacities', 'are', 'identified', 'and', 'contiguous', 'with', 'areas', 'of', 'linear', 'scarring', 'and', 'probably', 'reflect', 'nodular', 'areas', 'of', 'scar', '.', 'these', 'border', 'emphysematous', 'spaces', ',', 'and', 'the', 'right', 'apical', 'lesion', 'is', 'associated', 'with', 'eccentric', 'calcification', '.', 'tiny', 'calcified', 'granuloma', 'is', 'present', 'in', 'the', 'left', 'apex', 'posteriorly', '.', 'extensive', 'emphysema', 'is', 'present', 'with', 'both', 'paraseptal', 'and', 'centrilobular', 'components', '.', 'within', 'the', 'right', 'middle', '[', '**last', 'name', '(', 'lf', ')', '1618**', ']', ',', '[', '**first', 'name3', '(', 'lf', ')', '**', ']', 'additional', 'noncalcified', 'nodule', 'is', 'present', 'measuring', '5', 'mm', 'with', 'slightly', 'lobulated', 'borders', ',', 'also', 'unchanged', '(', 'image', '163', ',', 'series', '4', ')', '.', 'an', 'additional', 'small', 'granuloma', 'is', 'present', 'in', 'the', 'left', 'lower', '[', '**first', 'name3', '(', 'lf', ')', '1618**', ']', '.', 'at', 'the', 'extreme', 'left', 'lung', 'base', 'laterally', ',', 'a', 'cluster', 'of', 'nodules', 'has', 'developed', '(', 'image', '55', ',', 'series', '3', ')', 'adjacent', 'to', 'an', 'area', 'of', 'preexisting', 'linear', 'scar', 'or', 'atelectasis', '.', 'one', 'previously', 'reported', 'right', 'lower', '[', '**first', 'name3', '(', 'lf', ')', '1618**', ']', 'nodule', 'is', 'no', 'longer', 'visualized', '.', 'central', 'airways', 'are', 'patent', 'with', 'no', 'suspicious', 'endobronchial', 'lesions', '.', 'asymmetric', 'enlargement', 'of', 'the', 'right', '[', '**first', 'name3', '(', 'lf', ')', '1618**', ']', 'of', 'the', 'thyroid', 'gland', 'is', 'again', 'demonstrated', 'as', 'well', 'as', 'heterogeneous', 'appearance', 'of', 'both', 'lobes', 'with', 'areas', 'of', 'low', 'attenuation', 'and', 'foci', 'of', 'calcification', ',', 'unchanged', '.', 'several', 'small', ',', 'subcentimeter', 'mediastinal', 'lymph', 'nodes', 'are', 'without', 'change', ',', 'but', 'a', 'precarinal', 'node', 'has', 'grown', 'from', '10', 'mm', 'to', '14', 'mm', 'short', 'axis', 'dimension', '.', 'no', 'definite', 'hilar', 'lymphadenopathy', 'is', 'evident', 'on', 'this', 'unenhanced', 'ct.', 'central', 'arteries', 'appear', 'enlarged', 'suggesting', 'pulmonary', 'arterial', 'hypertension', '.', 'heart', 'size', 'is', 'normal', '.', 'diffuse', 'coronary', 'artery', 'calcifications', 'are', 'present', '.', 'aorta', 'is', 'atherosclerotic', 'and', 'diffusely', 'ectatic', '.', 'in', 'the', 'imaged', 'portion', 'of', 'the', 'upper', 'abdomen', ',', 'adrenal', 'glands', 'are', 'normal', '.', '(', 'over', ')', '[', '**2136-3-6**', ']', '8:30', 'am', 'ct', 'chest', 'w/o', 'contrast', 'clip', '#', '[', '**clip', 'number', '(', 'radiology', ')', '77439**', ']', 'reason', ':', 'f/u', 'left', 'upper', '[', '**clip', 'number', '(', 'radiology', ')', '**', ']', ';', 'lung', 'ca', '______________________________________________________________________________', 'final', 'report', '(', 'cont', ')', 'several', 'low-attenuation', 'lesions', 'are', 'present', 'in', 'the', 'imaged', 'portions', 'of', 'both', 'kidneys', ',', 'incompletely', 'assessed', '.', 'vascular', 'calcifications', 'are', 'present', 'in', 'the', 'abdominal', 'aorta', 'extending', 'into', 'the', 'renal', 'arteries', '.', 'the', 'remaining', 'imaged', 'portion', 'of', 'the', 'upper', 'abdomen', 'is', 'unremarkable', 'on', 'this', 'unenhanced', 'ct', ',', 'which', 'was', 'not', 'specifically', 'tailored', 'to', 'evaluate', 'the', 'abdominal', 'organs', '.', 'skeletal', 'structures', 'demonstrate', 'no', 'suspicious', 'lytic', 'or', 'blastic', 'lesions', '.', 'additional', 'prior', 'ct', 'from', '[', '**2135-3-5**', ']', 'is', 'available', 'for', 'comparison', '.', 'as', 'compared', 'to', 'that', 'exam', ',', 'there', 'has', 'not', 'been', 'a', 'substantial', 'change', 'in', 'the', 'perifissural', 'nodule', ',', 'right', 'middle', '[', '**year', '(', '4', 'digits', ')', '1618**', ']', 'nodule', ',', 'or', 'in', 'the', 'areas', 'of', 'apparent', 'nodular', 'scarring', 'at', 'the', 'lung', 'apices', '.', 'impression', ':', '1.', 'spiculated', '8', 'mm', 'right', 'upper', '[', '**year', '(', '4', 'digits', ')', '1618**', ']', 'perifissural', 'lung', 'nodule', 'without', 'change', 'since', '[', '**2135-3-5**', ']', '.', 'although', 'possibly', 'due', 'to', 'nodular', 'scar', ',', 'its', 'morphology', 'remains', 'suspicious', 'for', 'lung', 'neoplasm', '.', 'considering', 'an', 'enlarging', 'precarinal', 'lymph', 'node', ',', 'pet-ct', 'may', 'be', 'helpful', 'for', 'further', 'assessment', 'of', 'the', 'lung', 'nodule', 'and', 'lymph', 'nodes', '.', 'if', 'pet', 'is', 'negative', ',', 'then', 'a', 'final', 'followup', 'ct', 'in', '[', '**2137-3-5**', ']', 'could', 'be', 'performed', 'to', 'confirm', 'two-year', 'stability', '.', '2.', 'no', 'change', 'in', 'smaller', 'right', 'middle', '[', '**year', '(', '4', 'digits', ')', '1618**', ']', 'nodule', 'and', 'biapical', 'nodular', 'scarring', '.', 'these', 'areas', 'can', 'also', 'be', 'reassessed', 'at', 'the', 'one-year', 'followup', 'ct', 'and', ',', 'if', 'performed', ',', 'at', 'pet', '.', '3.', 'new', 'peripheral', 'left', 'basilar', 'opacities', 'likely', 'due', 'to', 'atelectasis', 'or', 'infectious/inflammatory', 'process', '.', '4.', 'mildly', 'dilated', 'descending', 'thoracic', 'aorta', 'without', 'change', '.', '5.', 'diffuse', 'coronary', 'artery', 'calcifications', '.', '6.', 'probable', 'multinodular', 'goiter', '.'], [0])\n"
          ],
          "name": "stdout"
        }
      ]
    },
    {
      "cell_type": "markdown",
      "metadata": {
        "id": "9jEHOcoQ4-LW"
      },
      "source": [
        "After splitting the tagged data, we'll do the following: \n",
        "  \n",
        "  * Build the model and input model parameters\n",
        "  * Build the vocabulary that will be used in the model\n",
        "    * The vocabulary is based on every token in the entire corpus of train documents.\n",
        "\n",
        "Importantly, we make the document vector size **438**, which is the same number of features as the nontext matrix [minus the subject_id column]. This helps facilitate comparison between the two models. "
      ]
    },
    {
      "cell_type": "code",
      "metadata": {
        "colab": {
          "base_uri": "https://localhost:8080/"
        },
        "id": "ktXQfChzlLX8",
        "outputId": "d0902f78-32da-46c0-91ca-27a1a5e73771"
      },
      "source": [
        "# To run a parallelized approach, we count our processing cores\n",
        "# This significantly expedites runtime\n",
        "cores = multiprocessing.cpu_count()\n",
        "\n",
        "# initialize the model\n",
        "doc2VecModel = Doc2Vec(dm=1, # using the Paragraph Vector-Distributed Memory (PV-DM) model, similar to CBOW in word2vec\n",
        "                vector_size=438, # size of each vector, 1 vector per document\n",
        "                window=10, # number of surrounding tokens impacting each token's weight\n",
        "                negative=5, hs=0, min_count=1, # minimum acceptances\n",
        "                workers=cores, # off for now, using the cores found for parallelized approach described above.\n",
        "                alpha=0.025, min_alpha=0.001) # learning rates\n",
        "\n",
        "# build vocab\n",
        "doc2VecModel.build_vocab([x for x in tqdm(trainDocuments)])"
      ],
      "execution_count": null,
      "outputs": [
        {
          "output_type": "stream",
          "text": [
            "100%|██████████| 8100/8100 [00:00<00:00, 1201721.28it/s]\n"
          ],
          "name": "stderr"
        }
      ]
    },
    {
      "cell_type": "markdown",
      "metadata": {
        "id": "9N-c1fqq2qBo"
      },
      "source": [
        "Lets train the model:\n",
        "\n",
        "We'll record the time just so we know about how long everything takes. We run for 10 epochs, which is a [standard](https://radimrehurek.com/gensim/models/doc2vec.html) value. This will take a while--roughly ~32-34 minutes when we've run it!"
      ]
    },
    {
      "cell_type": "code",
      "metadata": {
        "colab": {
          "base_uri": "https://localhost:8080/"
        },
        "id": "82UmOpf53hlf",
        "outputId": "dd4b6f9d-9735-4c2c-95b3-3277016f1339"
      },
      "source": [
        "# record the time -> usually takes about 30 minutes\n",
        "%%time\n",
        "\n",
        "# run the model with 10 epochs\n",
        "for epoch in range(10):\n",
        "    print('iteration {0}'.format(epoch))\n",
        "    doc2VecModel.train(utils.shuffle([x for x in tqdm(trainDocuments)]), total_examples=len(trainDocuments), epochs=doc2VecModel.iter)\n",
        "    #doc2VecModel.alpha -= 0.002\n",
        "    #doc2VecModel.min_alpha = doc2VecModel.alpha\n",
        "\n",
        "\n",
        "# save the model to use at a later date:\n",
        "#doc2VecModel.save(\"d2v.model\")\n",
        "#print(\"Model Saved\")"
      ],
      "execution_count": null,
      "outputs": [
        {
          "output_type": "stream",
          "text": [
            "100%|██████████| 8100/8100 [00:00<00:00, 736512.80it/s]"
          ],
          "name": "stderr"
        },
        {
          "output_type": "stream",
          "text": [
            "iteration 0\n"
          ],
          "name": "stdout"
        },
        {
          "output_type": "stream",
          "text": [
            "\n",
            "/usr/local/lib/python3.7/dist-packages/ipykernel_launcher.py:5: DeprecationWarning: Call to deprecated `iter` (Attribute will be removed in 4.0.0, use self.epochs instead).\n",
            "  \"\"\"\n",
            "100%|██████████| 8100/8100 [00:00<00:00, 1010044.67it/s]"
          ],
          "name": "stderr"
        },
        {
          "output_type": "stream",
          "text": [
            "iteration 1\n"
          ],
          "name": "stdout"
        },
        {
          "output_type": "stream",
          "text": [
            "\n",
            "100%|██████████| 8100/8100 [00:00<00:00, 733792.57it/s]"
          ],
          "name": "stderr"
        },
        {
          "output_type": "stream",
          "text": [
            "iteration 2\n"
          ],
          "name": "stdout"
        },
        {
          "output_type": "stream",
          "text": [
            "\n",
            "100%|██████████| 8100/8100 [00:00<00:00, 1098659.97it/s]"
          ],
          "name": "stderr"
        },
        {
          "output_type": "stream",
          "text": [
            "iteration 3\n"
          ],
          "name": "stdout"
        },
        {
          "output_type": "stream",
          "text": [
            "\n",
            "100%|██████████| 8100/8100 [00:00<00:00, 1957809.16it/s]"
          ],
          "name": "stderr"
        },
        {
          "output_type": "stream",
          "text": [
            "iteration 4\n"
          ],
          "name": "stdout"
        },
        {
          "output_type": "stream",
          "text": [
            "\n",
            "100%|██████████| 8100/8100 [00:00<00:00, 1945254.07it/s]"
          ],
          "name": "stderr"
        },
        {
          "output_type": "stream",
          "text": [
            "iteration 5\n"
          ],
          "name": "stdout"
        },
        {
          "output_type": "stream",
          "text": [
            "\n",
            "100%|██████████| 8100/8100 [00:00<00:00, 1155770.11it/s]"
          ],
          "name": "stderr"
        },
        {
          "output_type": "stream",
          "text": [
            "iteration 6\n"
          ],
          "name": "stdout"
        },
        {
          "output_type": "stream",
          "text": [
            "\n",
            "100%|██████████| 8100/8100 [00:00<00:00, 1096390.82it/s]"
          ],
          "name": "stderr"
        },
        {
          "output_type": "stream",
          "text": [
            "iteration 7\n"
          ],
          "name": "stdout"
        },
        {
          "output_type": "stream",
          "text": [
            "\n",
            "100%|██████████| 8100/8100 [00:00<00:00, 1646818.34it/s]"
          ],
          "name": "stderr"
        },
        {
          "output_type": "stream",
          "text": [
            "iteration 8\n"
          ],
          "name": "stdout"
        },
        {
          "output_type": "stream",
          "text": [
            "\n",
            "100%|██████████| 8100/8100 [00:00<00:00, 1164724.96it/s]"
          ],
          "name": "stderr"
        },
        {
          "output_type": "stream",
          "text": [
            "iteration 9\n"
          ],
          "name": "stdout"
        },
        {
          "output_type": "stream",
          "text": [
            "\n"
          ],
          "name": "stderr"
        },
        {
          "output_type": "stream",
          "text": [
            "CPU times: user 1h 1min 34s, sys: 13.2 s, total: 1h 1min 47s\n",
            "Wall time: 32min 9s\n"
          ],
          "name": "stdout"
        }
      ]
    },
    {
      "cell_type": "markdown",
      "metadata": {
        "id": "AtKGUQNQk-Gn"
      },
      "source": [
        "We'll use the trained model to create vectors for the corpus. \n",
        "\n",
        "We'll store the vectors in a list of vectors, which we may then add to our dataframe as a new column of data."
      ]
    },
    {
      "cell_type": "code",
      "metadata": {
        "colab": {
          "base_uri": "https://localhost:8080/"
        },
        "id": "KMmLQNb2kdaE",
        "outputId": "9df9865b-c8f7-41ad-e400-04fe4e5da004"
      },
      "source": [
        "# initialize an empty vector\n",
        "docVectors = []\n",
        "\n",
        "# for each tokenized document, use the model to infer a vector, store the vector in 'docVectors'\n",
        "for i in range(len(tokenTextData)):\n",
        "  vec = doc2VecModel.infer_vector(tokenTextData[i])\n",
        "  docVectors.append(vec)\n",
        "\n",
        "\n",
        "#   sanity check\n",
        "print(len(docVectors)) # should be same length as number of unique patients/length of corpus\n",
        "print(len(docVectors[0])) # should be same length as the vector_size input into the doc2vec model\n",
        "print(docVectors[0])"
      ],
      "execution_count": null,
      "outputs": [
        {
          "output_type": "stream",
          "text": [
            "11572\n",
            "438\n",
            "[ 0.08961867  0.05225237 -0.02182593 -0.1325062  -0.04235648  0.02031939\n",
            " -0.08463685  0.04356737  0.08568966  0.10413086 -0.21926095 -0.00684133\n",
            " -0.01473457 -0.13951817 -0.12634423 -0.03330374 -0.1431566   0.06908908\n",
            "  0.0303576  -0.04515759 -0.01950812  0.10817665 -0.03878772  0.03911992\n",
            " -0.09959868  0.0362013   0.06340539  0.127625   -0.11943384  0.06101257\n",
            "  0.06145218  0.04829501 -0.01267216  0.10782479  0.02743006 -0.06273396\n",
            " -0.11657942 -0.23513135  0.18746036  0.01065594 -0.26709786  0.04581324\n",
            "  0.0941978   0.3220771  -0.00433553 -0.17525579  0.03197254 -0.18911512\n",
            "  0.02110042 -0.23297629  0.2148378   0.20676813  0.14064737 -0.09921738\n",
            " -0.03083138 -0.02958974  0.21416457  0.23716375  0.02600233 -0.16001174\n",
            " -0.20877701  0.0783632   0.21053301 -0.05782223 -0.24427009 -0.12009718\n",
            "  0.0107403  -0.11264966 -0.03861984 -0.09781489 -0.00978167  0.10278507\n",
            " -0.13497302  0.09719813 -0.06187553 -0.09187638 -0.06818846 -0.08530002\n",
            "  0.05947986 -0.00988815  0.08655977 -0.15744297  0.16750114 -0.0577914\n",
            " -0.01054781  0.02640717 -0.04676557  0.14195149 -0.08474749  0.23248552\n",
            " -0.24864763 -0.24968977  0.16226782  0.08936989  0.10532796  0.05767107\n",
            "  0.11182954  0.05724065  0.01755268  0.08955921  0.13550511 -0.16919366\n",
            "  0.27539533 -0.03585109 -0.1818621   0.10151511 -0.08959356  0.10840933\n",
            " -0.00388503 -0.0972654  -0.27579066  0.19052364 -0.20834552 -0.02611735\n",
            "  0.15271382 -0.11451467 -0.13260204  0.10344773 -0.13072507  0.11644011\n",
            " -0.230649   -0.00947537 -0.03088283 -0.2864261  -0.03134954 -0.00781252\n",
            " -0.07251817 -0.1119656  -0.10888456  0.01533228  0.0115016  -0.04881382\n",
            "  0.11302007  0.00210381 -0.07039084 -0.02694093 -0.10961331 -0.13792437\n",
            " -0.15115207  0.06110924 -0.08900317 -0.18410417 -0.12335454  0.13477041\n",
            " -0.03836388 -0.22312634 -0.00859229 -0.0550656  -0.09780447 -0.20465784\n",
            " -0.28998786  0.11192021  0.02310114  0.08105829  0.23193955 -0.17795613\n",
            " -0.03655326 -0.2977125  -0.07411332 -0.20840898 -0.14996964 -0.05738916\n",
            " -0.1633061  -0.07305516  0.09861068 -0.00536515 -0.25022635  0.1429435\n",
            " -0.13627099  0.09693448  0.00406044 -0.27903733  0.0607837  -0.01754207\n",
            " -0.12416279  0.03757113  0.3004434   0.07635796 -0.06197833  0.18305606\n",
            "  0.03834979 -0.11127421  0.17967208  0.18292867  0.00550684 -0.00110707\n",
            " -0.05985809 -0.04737998  0.2963891   0.13500017  0.05612987 -0.0661101\n",
            "  0.10514576  0.20261183  0.09315394 -0.1367      0.15199433  0.03357917\n",
            " -0.12298122 -0.10316359  0.11252709 -0.05353208  0.06305987  0.17937392\n",
            "  0.12902594 -0.10308055  0.09153927  0.0511573   0.04961599 -0.10941812\n",
            " -0.04372091  0.24578612  0.04566896  0.03601994 -0.06074023  0.19802888\n",
            "  0.09326818 -0.02816044 -0.22531392 -0.0063968   0.38964224 -0.01080604\n",
            "  0.0581206   0.08692487  0.02037274  0.17534901  0.10283413 -0.11249264\n",
            " -0.03532213 -0.25889263 -0.23109184  0.10971674 -0.11437337  0.0111973\n",
            " -0.12998503  0.09057149 -0.11092891 -0.07432532  0.07224647 -0.14043184\n",
            " -0.18897198  0.04426597  0.5297656  -0.05660856 -0.04035958 -0.38511178\n",
            "  0.04210966  0.03954312 -0.02560484  0.0582815   0.07585103 -0.2689654\n",
            " -0.0952373  -0.4008827   0.15161058 -0.19820423 -0.14719744  0.07302053\n",
            "  0.03581501 -0.00920453  0.28524622  0.1302734  -0.1949924  -0.18881492\n",
            "  0.0588476   0.01398777 -0.3243703   0.08197551  0.09731132 -0.01553551\n",
            "  0.3508482   0.18741736  0.28280926  0.2501262   0.03309017  0.1636857\n",
            "  0.00760783 -0.10393655 -0.14195217 -0.35368416 -0.16430458  0.0992386\n",
            "  0.03861924 -0.04513012  0.09362862 -0.04828623 -0.15186903  0.07155585\n",
            "  0.197222   -0.00435003 -0.16519032 -0.0014422   0.06651279  0.04840231\n",
            " -0.06073564  0.24838883  0.15041244 -0.27326244  0.1568804   0.04762768\n",
            " -0.09328152  0.12087324 -0.16298743 -0.1455484   0.2416798   0.20936795\n",
            " -0.02295525 -0.30979022 -0.00782047 -0.07797041 -0.07721961 -0.30507106\n",
            "  0.2234859  -0.2884997   0.20892869  0.12851655 -0.03362731 -0.03388709\n",
            " -0.30484718  0.13156562  0.05582858 -0.06327863  0.03609436  0.09457456\n",
            " -0.17533149 -0.07306478  0.35118115 -0.04297834  0.04330418 -0.21069677\n",
            "  0.0983291  -0.18382716 -0.08892655  0.03825657  0.02349344 -0.19484581\n",
            "  0.2332969   0.06851408 -0.13837458 -0.21481921  0.2068975  -0.09399612\n",
            "  0.07218442 -0.15047717 -0.00122487  0.00918281  0.00940498 -0.30564746\n",
            "  0.07206708  0.17907847  0.20669745  0.19442569 -0.05243837  0.13323955\n",
            "  0.08648845 -0.14360596 -0.11105551  0.08711319 -0.12211576  0.01611543\n",
            "  0.00849085 -0.00682554  0.13561256  0.3523133  -0.04633227 -0.17091927\n",
            " -0.08017014 -0.05340557 -0.10639886 -0.2707865   0.06100615  0.10228048\n",
            "  0.24559684  0.31898627 -0.16386512  0.06417837 -0.17786142 -0.06367078\n",
            "  0.21799223  0.37154073 -0.07793237 -0.2950179   0.04222553 -0.09260712\n",
            " -0.24478777 -0.13725835 -0.11549711  0.20760244  0.2353183   0.06424659\n",
            " -0.05859648  0.02638388  0.09031475  0.02679541 -0.3620225  -0.10085998\n",
            " -0.13817012 -0.05293055 -0.11299871 -0.02346992 -0.05141185 -0.03511541\n",
            " -0.1816735  -0.3345764   0.05416825  0.27760306  0.04413396  0.0676764\n",
            "  0.01257025 -0.02154538 -0.09422734  0.18762714 -0.1088706   0.39253366\n",
            "  0.18275073 -0.01571128  0.02822197  0.09422883 -0.07904644 -0.04704449\n",
            " -0.0476431  -0.03638447 -0.07666113 -0.19059284 -0.2586446  -0.16175397\n",
            " -0.10188648  0.2476187   0.14851809 -0.27215663  0.37785122  0.04435937\n",
            " -0.02858903 -0.04437929 -0.25139412 -0.05824789  0.02603637  0.06635423]\n"
          ],
          "name": "stdout"
        }
      ]
    },
    {
      "cell_type": "markdown",
      "metadata": {
        "id": "pX6Iy_-aCngV"
      },
      "source": [
        "Let's save these document vectors as a new column in the dataframe uniqueNotes. "
      ]
    },
    {
      "cell_type": "code",
      "metadata": {
        "colab": {
          "base_uri": "https://localhost:8080/",
          "height": 504
        },
        "id": "mLObb7lUnurz",
        "outputId": "1d41fa45-5b27-4188-f82e-74c4ce9362f4"
      },
      "source": [
        "#add vectors to uniqueNotes\n",
        "uniqueNotes[\"DOC_VECTORS\"] = docVectors\n",
        "\n",
        "# check our work\n",
        "uniqueNotes.head()"
      ],
      "execution_count": null,
      "outputs": [
        {
          "output_type": "execute_result",
          "data": {
            "text/html": [
              "<div>\n",
              "<style scoped>\n",
              "    .dataframe tbody tr th:only-of-type {\n",
              "        vertical-align: middle;\n",
              "    }\n",
              "\n",
              "    .dataframe tbody tr th {\n",
              "        vertical-align: top;\n",
              "    }\n",
              "\n",
              "    .dataframe thead th {\n",
              "        text-align: right;\n",
              "    }\n",
              "</style>\n",
              "<table border=\"1\" class=\"dataframe\">\n",
              "  <thead>\n",
              "    <tr style=\"text-align: right;\">\n",
              "      <th></th>\n",
              "      <th>Unnamed: 0</th>\n",
              "      <th>Unnamed: 0.1</th>\n",
              "      <th>SUBJECT_ID</th>\n",
              "      <th>ICD9_CODE</th>\n",
              "      <th>SHORT_TITLE</th>\n",
              "      <th>LONG_TITLE</th>\n",
              "      <th>ROW_ID</th>\n",
              "      <th>HADM_ID</th>\n",
              "      <th>CHARTDATE</th>\n",
              "      <th>CHARTTIME</th>\n",
              "      <th>STORETIME</th>\n",
              "      <th>CATEGORY</th>\n",
              "      <th>DESCRIPTION</th>\n",
              "      <th>CGID</th>\n",
              "      <th>ISERROR</th>\n",
              "      <th>TEXT</th>\n",
              "      <th>DATETOUSE</th>\n",
              "      <th>LABELS</th>\n",
              "      <th>DOC_VECTORS</th>\n",
              "    </tr>\n",
              "  </thead>\n",
              "  <tbody>\n",
              "    <tr>\n",
              "      <th>0</th>\n",
              "      <td>475330</td>\n",
              "      <td>12232</td>\n",
              "      <td>3</td>\n",
              "      <td>4254</td>\n",
              "      <td>Prim cardiomyopathy NEC</td>\n",
              "      <td>Other primary cardiomyopathies</td>\n",
              "      <td>784268</td>\n",
              "      <td>NaN</td>\n",
              "      <td>2102-04-18</td>\n",
              "      <td>2102-04-18 13:22:00</td>\n",
              "      <td>NaN</td>\n",
              "      <td>Radiology</td>\n",
              "      <td>ART DUP EXT LO UNI;F/U</td>\n",
              "      <td>NaN</td>\n",
              "      <td>NaN</td>\n",
              "      <td>[**2102-4-18**] 1:22 PM\\n ART DUP EXT LO UNI;F...</td>\n",
              "      <td>21020418</td>\n",
              "      <td>0</td>\n",
              "      <td>[0.08961867, 0.052252375, -0.021825928, -0.132...</td>\n",
              "    </tr>\n",
              "    <tr>\n",
              "      <th>1</th>\n",
              "      <td>427689</td>\n",
              "      <td>10946</td>\n",
              "      <td>32773</td>\n",
              "      <td>41401</td>\n",
              "      <td>Crnry athrscl natve vssl</td>\n",
              "      <td>Coronary atherosclerosis of native coronary ar...</td>\n",
              "      <td>34384</td>\n",
              "      <td>129856.0</td>\n",
              "      <td>2185-10-05</td>\n",
              "      <td>NaN</td>\n",
              "      <td>NaN</td>\n",
              "      <td>Discharge summary</td>\n",
              "      <td>Report</td>\n",
              "      <td>NaN</td>\n",
              "      <td>NaN</td>\n",
              "      <td>Admission Date:  [**2185-9-26**]              ...</td>\n",
              "      <td>21851005</td>\n",
              "      <td>1</td>\n",
              "      <td>[0.037899565, 1.2805989, -1.1988019, 0.2361796...</td>\n",
              "    </tr>\n",
              "    <tr>\n",
              "      <th>2</th>\n",
              "      <td>67171</td>\n",
              "      <td>1413</td>\n",
              "      <td>98310</td>\n",
              "      <td>41401</td>\n",
              "      <td>Crnry athrscl natve vssl</td>\n",
              "      <td>Coronary atherosclerosis of native coronary ar...</td>\n",
              "      <td>129334</td>\n",
              "      <td>NaN</td>\n",
              "      <td>2175-05-17</td>\n",
              "      <td>NaN</td>\n",
              "      <td>NaN</td>\n",
              "      <td>ECG</td>\n",
              "      <td>Report</td>\n",
              "      <td>NaN</td>\n",
              "      <td>NaN</td>\n",
              "      <td>Baseline artifact\\nVentricular paced rhythm\\nI...</td>\n",
              "      <td>21750517</td>\n",
              "      <td>1</td>\n",
              "      <td>[0.024404855, 0.060916033, -0.026240427, 0.021...</td>\n",
              "    </tr>\n",
              "    <tr>\n",
              "      <th>3</th>\n",
              "      <td>245933</td>\n",
              "      <td>6167</td>\n",
              "      <td>32777</td>\n",
              "      <td>41401</td>\n",
              "      <td>Crnry athrscl natve vssl</td>\n",
              "      <td>Coronary atherosclerosis of native coronary ar...</td>\n",
              "      <td>220354</td>\n",
              "      <td>NaN</td>\n",
              "      <td>2113-11-18</td>\n",
              "      <td>NaN</td>\n",
              "      <td>NaN</td>\n",
              "      <td>ECG</td>\n",
              "      <td>Report</td>\n",
              "      <td>NaN</td>\n",
              "      <td>NaN</td>\n",
              "      <td>Normal sinus rhythm with marked A-V conduction...</td>\n",
              "      <td>21131118</td>\n",
              "      <td>1</td>\n",
              "      <td>[-0.058894467, 0.12551542, -0.17900251, -0.047...</td>\n",
              "    </tr>\n",
              "    <tr>\n",
              "      <th>4</th>\n",
              "      <td>905</td>\n",
              "      <td>25</td>\n",
              "      <td>32779</td>\n",
              "      <td>41401</td>\n",
              "      <td>Crnry athrscl natve vssl</td>\n",
              "      <td>Coronary atherosclerosis of native coronary ar...</td>\n",
              "      <td>37</td>\n",
              "      <td>133757.0</td>\n",
              "      <td>2167-10-27</td>\n",
              "      <td>NaN</td>\n",
              "      <td>NaN</td>\n",
              "      <td>Discharge summary</td>\n",
              "      <td>Report</td>\n",
              "      <td>NaN</td>\n",
              "      <td>NaN</td>\n",
              "      <td>Admission Date:  [**2167-10-20**]             ...</td>\n",
              "      <td>21671027</td>\n",
              "      <td>1</td>\n",
              "      <td>[0.29772723, 0.7641294, -0.79556525, 0.1366110...</td>\n",
              "    </tr>\n",
              "  </tbody>\n",
              "</table>\n",
              "</div>"
            ],
            "text/plain": [
              "   Unnamed: 0  ...                                        DOC_VECTORS\n",
              "0      475330  ...  [0.08961867, 0.052252375, -0.021825928, -0.132...\n",
              "1      427689  ...  [0.037899565, 1.2805989, -1.1988019, 0.2361796...\n",
              "2       67171  ...  [0.024404855, 0.060916033, -0.026240427, 0.021...\n",
              "3      245933  ...  [-0.058894467, 0.12551542, -0.17900251, -0.047...\n",
              "4         905  ...  [0.29772723, 0.7641294, -0.79556525, 0.1366110...\n",
              "\n",
              "[5 rows x 19 columns]"
            ]
          },
          "metadata": {
            "tags": []
          },
          "execution_count": 55
        }
      ]
    },
    {
      "cell_type": "markdown",
      "metadata": {
        "id": "1QpRukvJN1En"
      },
      "source": [
        "Finally, we'll just save uniqueNotes as a csv."
      ]
    },
    {
      "cell_type": "code",
      "metadata": {
        "id": "d_hH0SCzpJQa"
      },
      "source": [
        "uniqueNotes.to_csv(\"/content/drive/MyDrive/cbb 750 final/noteevents_most_recent.csv\")"
      ],
      "execution_count": null,
      "outputs": []
    },
    {
      "cell_type": "markdown",
      "metadata": {
        "id": "NgUu24-0MyFz"
      },
      "source": [
        "## We are now equipped to generate labels for text and non-text data. "
      ]
    },
    {
      "cell_type": "markdown",
      "metadata": {
        "id": "IukJYeq44e31"
      },
      "source": [
        "[**OPTIONAL CODE BLOCK**] I use this so we don't have to run through the vectorization etc [which takes a long tme] every time I want to classify. "
      ]
    },
    {
      "cell_type": "code",
      "metadata": {
        "id": "lfuOhzgpE0MA"
      },
      "source": [
        "uniqueNotes = pd.read_csv(\"/content/drive/MyDrive/cbb 750 final/noteevents_most_recent.csv\")"
      ],
      "execution_count": 43,
      "outputs": []
    },
    {
      "cell_type": "markdown",
      "metadata": {
        "id": "6dd5Gut4y170"
      },
      "source": [
        "### Reformatting the document vectors"
      ]
    },
    {
      "cell_type": "markdown",
      "metadata": {
        "id": "d7P2K0ebWwhT"
      },
      "source": [
        "The doc vectors are formatted as strings, e.g. ```\"[1 2\\n 3]\"``` so I need to convert into an actual list that I can use for classification. Here's what I do:\n",
        "\n",
        "\n",
        "1.   Split by \" \": ```[\"[1\",\"\",\"2\\n\",\"\",\"3]\"]```\n",
        "2.   Remove ```\"\"``` and ```\\n```: ```[\"[1\",\"2\",\"3]\"]```\n",
        "3.   Remove ```\"[\"```,```\"]\"```: ```[\"1\",\"2\",\"3\"]```\n",
        "4.   Convert all numbers into floats: ```[1,2,3]```\n",
        "\n",
        "After that, we add in subjectids and icd9 codes for each patient, both pulled from the dataframe ```uniqueNotes```. In total we get a df with subjectid, doc vectors and icd9 code. \n",
        "\n",
        "And yes -- we could've used ```docVectors``` here instead of making ```vectorList```, or even bothering to save the ```uniqueNotes``` csv earlier. However, since that would require us to run the doc2Vec step every time we opened the notebook we decided to take a more redundant but less time-intensive approach. \n",
        "\n",
        "\n",
        "\n"
      ]
    },
    {
      "cell_type": "code",
      "metadata": {
        "colab": {
          "base_uri": "https://localhost:8080/",
          "height": 256
        },
        "id": "zCzQpgOkTRZ5",
        "outputId": "6ab47148-54d8-4400-978f-d416181eda0f"
      },
      "source": [
        "# grab doc vectors from the textdata df and place them in a lst\n",
        "vectorlist = uniqueNotes['DOC_VECTORS'].tolist()\n",
        "\n",
        "# process the first vector separately -- this is just to initialize a df that we can append to later\n",
        "\n",
        "# split by \" \"\n",
        "splitvector = vectorlist[0].split(' ')\n",
        "\n",
        "# remove \\n, [ and ]\n",
        "sv = [s.strip('\\n') for s in splitvector] \n",
        "sv = [s.strip('[') for s in sv] \n",
        "sv = [s.strip(']') for s in sv]\n",
        "\n",
        "# remove ''\n",
        "sv = list(filter(None, sv))\n",
        "\n",
        "# convert into floats\n",
        "sv = [float(i) for i in sv]\n",
        "\n",
        "# add subjectid for row 0\n",
        "subid = uniqueNotes.loc[0,'SUBJECT_ID']\n",
        "\n",
        "# insert subjectid at the beginning of sv\n",
        "sv.insert(0,subid)\n",
        "\n",
        "# convert into a df -- we have to transpose so each row represents a subjectID\n",
        "docMatrix = pd.DataFrame(sv).T\n",
        "\n",
        "# we want that first column to be named SUBJECT_ID\n",
        "docMatrix.rename(columns={0: 'SUBJECT_ID'}, inplace=True)\n",
        "\n",
        "# now we can do it for the rest of the matrices\n",
        "\n",
        "for i in range(1,len(vectorlist)):\n",
        "\n",
        "  # split by \" \"\n",
        "  splitvector = vectorlist[i].split(' ')\n",
        "\n",
        "  # remove \\n, [ and ]\n",
        "  sv = [s.strip('\\n') for s in splitvector] \n",
        "  sv = [s.strip('[') for s in sv] \n",
        "  sv = [s.strip(']') for s in sv]\n",
        "\n",
        "  # remove ''\n",
        "  sv = list(filter(None, sv))\n",
        "\n",
        "  # convert into floats\n",
        "  sv = [float(i) for i in sv]\n",
        "\n",
        "  # add subjectid for row i\n",
        "  subid = uniqueNotes.loc[i,'SUBJECT_ID']\n",
        "\n",
        "  # insert subjectid at the beginning of sv\n",
        "  sv.insert(0,subid)\n",
        "\n",
        "  # convert into a df -- we have to transpose so each row represents a subjectID\n",
        "  docvectordf = pd.DataFrame(sv).T\n",
        "\n",
        "  # we want that first column to be named SUBJECT_ID\n",
        "  docvectordf.rename(columns={0: 'SUBJECT_ID'}, inplace=True)\n",
        "\n",
        "  # concatenate with docMatrix\n",
        "  docMatrix = pd.concat([docMatrix, docvectordf])\n",
        "\n",
        "\n",
        "# add in icd9 codes--we only want subject_id and icd9 code\n",
        "subIcd = uniqueNotes[['SUBJECT_ID','ICD9_CODE']]\n",
        "\n",
        "textVectorMat = pd.merge(docMatrix, subIcd, on='SUBJECT_ID')\n",
        "textVectorMat.head()"
      ],
      "execution_count": 44,
      "outputs": [
        {
          "output_type": "execute_result",
          "data": {
            "text/html": [
              "<div>\n",
              "<style scoped>\n",
              "    .dataframe tbody tr th:only-of-type {\n",
              "        vertical-align: middle;\n",
              "    }\n",
              "\n",
              "    .dataframe tbody tr th {\n",
              "        vertical-align: top;\n",
              "    }\n",
              "\n",
              "    .dataframe thead th {\n",
              "        text-align: right;\n",
              "    }\n",
              "</style>\n",
              "<table border=\"1\" class=\"dataframe\">\n",
              "  <thead>\n",
              "    <tr style=\"text-align: right;\">\n",
              "      <th></th>\n",
              "      <th>SUBJECT_ID</th>\n",
              "      <th>1</th>\n",
              "      <th>2</th>\n",
              "      <th>3</th>\n",
              "      <th>4</th>\n",
              "      <th>5</th>\n",
              "      <th>6</th>\n",
              "      <th>7</th>\n",
              "      <th>8</th>\n",
              "      <th>9</th>\n",
              "      <th>10</th>\n",
              "      <th>11</th>\n",
              "      <th>12</th>\n",
              "      <th>13</th>\n",
              "      <th>14</th>\n",
              "      <th>15</th>\n",
              "      <th>16</th>\n",
              "      <th>17</th>\n",
              "      <th>18</th>\n",
              "      <th>19</th>\n",
              "      <th>20</th>\n",
              "      <th>21</th>\n",
              "      <th>22</th>\n",
              "      <th>23</th>\n",
              "      <th>24</th>\n",
              "      <th>25</th>\n",
              "      <th>26</th>\n",
              "      <th>27</th>\n",
              "      <th>28</th>\n",
              "      <th>29</th>\n",
              "      <th>30</th>\n",
              "      <th>31</th>\n",
              "      <th>32</th>\n",
              "      <th>33</th>\n",
              "      <th>34</th>\n",
              "      <th>35</th>\n",
              "      <th>36</th>\n",
              "      <th>37</th>\n",
              "      <th>38</th>\n",
              "      <th>39</th>\n",
              "      <th>...</th>\n",
              "      <th>400</th>\n",
              "      <th>401</th>\n",
              "      <th>402</th>\n",
              "      <th>403</th>\n",
              "      <th>404</th>\n",
              "      <th>405</th>\n",
              "      <th>406</th>\n",
              "      <th>407</th>\n",
              "      <th>408</th>\n",
              "      <th>409</th>\n",
              "      <th>410</th>\n",
              "      <th>411</th>\n",
              "      <th>412</th>\n",
              "      <th>413</th>\n",
              "      <th>414</th>\n",
              "      <th>415</th>\n",
              "      <th>416</th>\n",
              "      <th>417</th>\n",
              "      <th>418</th>\n",
              "      <th>419</th>\n",
              "      <th>420</th>\n",
              "      <th>421</th>\n",
              "      <th>422</th>\n",
              "      <th>423</th>\n",
              "      <th>424</th>\n",
              "      <th>425</th>\n",
              "      <th>426</th>\n",
              "      <th>427</th>\n",
              "      <th>428</th>\n",
              "      <th>429</th>\n",
              "      <th>430</th>\n",
              "      <th>431</th>\n",
              "      <th>432</th>\n",
              "      <th>433</th>\n",
              "      <th>434</th>\n",
              "      <th>435</th>\n",
              "      <th>436</th>\n",
              "      <th>437</th>\n",
              "      <th>438</th>\n",
              "      <th>ICD9_CODE</th>\n",
              "    </tr>\n",
              "  </thead>\n",
              "  <tbody>\n",
              "    <tr>\n",
              "      <th>0</th>\n",
              "      <td>3.0</td>\n",
              "      <td>0.089619</td>\n",
              "      <td>0.052252</td>\n",
              "      <td>-0.021826</td>\n",
              "      <td>-0.132506</td>\n",
              "      <td>-0.042356</td>\n",
              "      <td>0.020319</td>\n",
              "      <td>-0.084637</td>\n",
              "      <td>0.043567</td>\n",
              "      <td>0.085690</td>\n",
              "      <td>0.104131</td>\n",
              "      <td>-0.219261</td>\n",
              "      <td>-0.006841</td>\n",
              "      <td>-0.014735</td>\n",
              "      <td>-0.139518</td>\n",
              "      <td>-0.126344</td>\n",
              "      <td>-0.033304</td>\n",
              "      <td>-0.143157</td>\n",
              "      <td>0.069089</td>\n",
              "      <td>0.030358</td>\n",
              "      <td>-0.045158</td>\n",
              "      <td>-0.019508</td>\n",
              "      <td>0.108177</td>\n",
              "      <td>-0.038788</td>\n",
              "      <td>0.039120</td>\n",
              "      <td>-0.099599</td>\n",
              "      <td>0.036201</td>\n",
              "      <td>0.063405</td>\n",
              "      <td>0.127625</td>\n",
              "      <td>-0.119434</td>\n",
              "      <td>0.061013</td>\n",
              "      <td>0.061452</td>\n",
              "      <td>0.048295</td>\n",
              "      <td>-0.012672</td>\n",
              "      <td>0.107825</td>\n",
              "      <td>0.027430</td>\n",
              "      <td>-0.062734</td>\n",
              "      <td>-0.116579</td>\n",
              "      <td>-0.235131</td>\n",
              "      <td>0.187460</td>\n",
              "      <td>...</td>\n",
              "      <td>-0.023470</td>\n",
              "      <td>-0.051412</td>\n",
              "      <td>-0.035115</td>\n",
              "      <td>-0.181673</td>\n",
              "      <td>-0.334576</td>\n",
              "      <td>0.054168</td>\n",
              "      <td>0.277603</td>\n",
              "      <td>0.044134</td>\n",
              "      <td>0.067676</td>\n",
              "      <td>0.012570</td>\n",
              "      <td>-0.021545</td>\n",
              "      <td>-0.094227</td>\n",
              "      <td>0.187627</td>\n",
              "      <td>-0.108871</td>\n",
              "      <td>0.392534</td>\n",
              "      <td>0.182751</td>\n",
              "      <td>-0.015711</td>\n",
              "      <td>0.028222</td>\n",
              "      <td>0.094229</td>\n",
              "      <td>-0.079046</td>\n",
              "      <td>-0.047044</td>\n",
              "      <td>-0.047643</td>\n",
              "      <td>-0.036384</td>\n",
              "      <td>-0.076661</td>\n",
              "      <td>-0.190593</td>\n",
              "      <td>-0.258645</td>\n",
              "      <td>-0.161754</td>\n",
              "      <td>-0.101886</td>\n",
              "      <td>0.247619</td>\n",
              "      <td>0.148518</td>\n",
              "      <td>-0.272157</td>\n",
              "      <td>0.377851</td>\n",
              "      <td>0.044359</td>\n",
              "      <td>-0.028589</td>\n",
              "      <td>-0.044379</td>\n",
              "      <td>-0.251394</td>\n",
              "      <td>-0.058248</td>\n",
              "      <td>0.026036</td>\n",
              "      <td>0.066354</td>\n",
              "      <td>4254</td>\n",
              "    </tr>\n",
              "    <tr>\n",
              "      <th>1</th>\n",
              "      <td>32773.0</td>\n",
              "      <td>0.037900</td>\n",
              "      <td>1.280599</td>\n",
              "      <td>-1.198802</td>\n",
              "      <td>0.236180</td>\n",
              "      <td>0.036370</td>\n",
              "      <td>0.675872</td>\n",
              "      <td>0.629112</td>\n",
              "      <td>-0.130225</td>\n",
              "      <td>-0.412718</td>\n",
              "      <td>-0.481339</td>\n",
              "      <td>-0.866408</td>\n",
              "      <td>-1.255346</td>\n",
              "      <td>-0.127753</td>\n",
              "      <td>-0.838678</td>\n",
              "      <td>-0.183744</td>\n",
              "      <td>0.261498</td>\n",
              "      <td>-0.780474</td>\n",
              "      <td>0.100076</td>\n",
              "      <td>-1.211127</td>\n",
              "      <td>-0.110204</td>\n",
              "      <td>0.907868</td>\n",
              "      <td>-0.535597</td>\n",
              "      <td>0.010343</td>\n",
              "      <td>0.583626</td>\n",
              "      <td>-1.014816</td>\n",
              "      <td>-0.214748</td>\n",
              "      <td>-0.694396</td>\n",
              "      <td>0.450970</td>\n",
              "      <td>-1.105321</td>\n",
              "      <td>0.560375</td>\n",
              "      <td>0.917860</td>\n",
              "      <td>1.386539</td>\n",
              "      <td>0.841052</td>\n",
              "      <td>-0.044471</td>\n",
              "      <td>-0.230938</td>\n",
              "      <td>-0.304300</td>\n",
              "      <td>-1.274919</td>\n",
              "      <td>0.285135</td>\n",
              "      <td>1.499454</td>\n",
              "      <td>...</td>\n",
              "      <td>-1.880116</td>\n",
              "      <td>-0.234189</td>\n",
              "      <td>-0.507989</td>\n",
              "      <td>-0.867311</td>\n",
              "      <td>-1.063261</td>\n",
              "      <td>0.387865</td>\n",
              "      <td>1.047666</td>\n",
              "      <td>0.363738</td>\n",
              "      <td>0.101880</td>\n",
              "      <td>0.575647</td>\n",
              "      <td>-0.150271</td>\n",
              "      <td>0.270632</td>\n",
              "      <td>0.647120</td>\n",
              "      <td>0.150353</td>\n",
              "      <td>0.999139</td>\n",
              "      <td>0.207273</td>\n",
              "      <td>-0.243467</td>\n",
              "      <td>-0.224171</td>\n",
              "      <td>0.292777</td>\n",
              "      <td>0.291311</td>\n",
              "      <td>0.034713</td>\n",
              "      <td>-0.605638</td>\n",
              "      <td>-0.187541</td>\n",
              "      <td>-0.205559</td>\n",
              "      <td>-0.162911</td>\n",
              "      <td>-0.432236</td>\n",
              "      <td>-1.193741</td>\n",
              "      <td>-0.078325</td>\n",
              "      <td>1.012262</td>\n",
              "      <td>0.142294</td>\n",
              "      <td>-0.799972</td>\n",
              "      <td>0.801669</td>\n",
              "      <td>0.229057</td>\n",
              "      <td>0.770976</td>\n",
              "      <td>0.118697</td>\n",
              "      <td>-1.098328</td>\n",
              "      <td>0.145760</td>\n",
              "      <td>-0.352915</td>\n",
              "      <td>-0.075452</td>\n",
              "      <td>41401</td>\n",
              "    </tr>\n",
              "    <tr>\n",
              "      <th>2</th>\n",
              "      <td>98310.0</td>\n",
              "      <td>0.024405</td>\n",
              "      <td>0.060916</td>\n",
              "      <td>-0.026240</td>\n",
              "      <td>0.021904</td>\n",
              "      <td>0.080968</td>\n",
              "      <td>0.030698</td>\n",
              "      <td>0.032310</td>\n",
              "      <td>0.059482</td>\n",
              "      <td>0.101521</td>\n",
              "      <td>-0.012271</td>\n",
              "      <td>-0.015543</td>\n",
              "      <td>-0.016276</td>\n",
              "      <td>-0.039184</td>\n",
              "      <td>-0.092102</td>\n",
              "      <td>-0.005182</td>\n",
              "      <td>0.027718</td>\n",
              "      <td>-0.018830</td>\n",
              "      <td>0.103265</td>\n",
              "      <td>-0.021820</td>\n",
              "      <td>0.013832</td>\n",
              "      <td>0.071203</td>\n",
              "      <td>-0.038152</td>\n",
              "      <td>0.025562</td>\n",
              "      <td>0.082105</td>\n",
              "      <td>-0.059190</td>\n",
              "      <td>0.031065</td>\n",
              "      <td>-0.050113</td>\n",
              "      <td>-0.014605</td>\n",
              "      <td>-0.144139</td>\n",
              "      <td>0.020603</td>\n",
              "      <td>0.064529</td>\n",
              "      <td>0.017136</td>\n",
              "      <td>0.052589</td>\n",
              "      <td>0.030546</td>\n",
              "      <td>0.161288</td>\n",
              "      <td>-0.000127</td>\n",
              "      <td>-0.034574</td>\n",
              "      <td>-0.058918</td>\n",
              "      <td>0.058101</td>\n",
              "      <td>...</td>\n",
              "      <td>-0.121251</td>\n",
              "      <td>-0.023908</td>\n",
              "      <td>0.015479</td>\n",
              "      <td>-0.005277</td>\n",
              "      <td>-0.062926</td>\n",
              "      <td>0.087246</td>\n",
              "      <td>-0.041578</td>\n",
              "      <td>0.008861</td>\n",
              "      <td>-0.059243</td>\n",
              "      <td>-0.035365</td>\n",
              "      <td>0.000223</td>\n",
              "      <td>-0.003414</td>\n",
              "      <td>0.027112</td>\n",
              "      <td>-0.077598</td>\n",
              "      <td>0.064644</td>\n",
              "      <td>0.067172</td>\n",
              "      <td>-0.007209</td>\n",
              "      <td>0.035055</td>\n",
              "      <td>0.043486</td>\n",
              "      <td>-0.038148</td>\n",
              "      <td>0.024376</td>\n",
              "      <td>0.053638</td>\n",
              "      <td>0.004943</td>\n",
              "      <td>-0.008121</td>\n",
              "      <td>-0.056503</td>\n",
              "      <td>0.027724</td>\n",
              "      <td>-0.079598</td>\n",
              "      <td>-0.091641</td>\n",
              "      <td>0.043461</td>\n",
              "      <td>0.006822</td>\n",
              "      <td>-0.038066</td>\n",
              "      <td>0.057238</td>\n",
              "      <td>-0.003774</td>\n",
              "      <td>0.048262</td>\n",
              "      <td>0.063009</td>\n",
              "      <td>-0.079670</td>\n",
              "      <td>0.025437</td>\n",
              "      <td>-0.064908</td>\n",
              "      <td>-0.031608</td>\n",
              "      <td>41401</td>\n",
              "    </tr>\n",
              "    <tr>\n",
              "      <th>3</th>\n",
              "      <td>32777.0</td>\n",
              "      <td>-0.058894</td>\n",
              "      <td>0.125515</td>\n",
              "      <td>-0.179003</td>\n",
              "      <td>-0.047523</td>\n",
              "      <td>0.103142</td>\n",
              "      <td>0.034124</td>\n",
              "      <td>0.132231</td>\n",
              "      <td>0.001654</td>\n",
              "      <td>0.015504</td>\n",
              "      <td>0.021795</td>\n",
              "      <td>-0.049052</td>\n",
              "      <td>-0.045138</td>\n",
              "      <td>-0.053557</td>\n",
              "      <td>-0.013687</td>\n",
              "      <td>-0.074895</td>\n",
              "      <td>0.009845</td>\n",
              "      <td>-0.089473</td>\n",
              "      <td>0.105494</td>\n",
              "      <td>-0.091908</td>\n",
              "      <td>0.024627</td>\n",
              "      <td>0.140748</td>\n",
              "      <td>-0.070351</td>\n",
              "      <td>0.037351</td>\n",
              "      <td>0.080342</td>\n",
              "      <td>-0.041521</td>\n",
              "      <td>-0.077045</td>\n",
              "      <td>-0.019391</td>\n",
              "      <td>0.137661</td>\n",
              "      <td>-0.091484</td>\n",
              "      <td>-0.001705</td>\n",
              "      <td>0.088464</td>\n",
              "      <td>0.063729</td>\n",
              "      <td>0.093147</td>\n",
              "      <td>-0.015200</td>\n",
              "      <td>0.032918</td>\n",
              "      <td>-0.033387</td>\n",
              "      <td>-0.048630</td>\n",
              "      <td>-0.008626</td>\n",
              "      <td>0.092127</td>\n",
              "      <td>...</td>\n",
              "      <td>-0.061280</td>\n",
              "      <td>0.015258</td>\n",
              "      <td>0.020543</td>\n",
              "      <td>-0.043562</td>\n",
              "      <td>-0.075734</td>\n",
              "      <td>0.036938</td>\n",
              "      <td>0.034117</td>\n",
              "      <td>0.020122</td>\n",
              "      <td>0.007017</td>\n",
              "      <td>0.069206</td>\n",
              "      <td>-0.162044</td>\n",
              "      <td>0.015379</td>\n",
              "      <td>0.043651</td>\n",
              "      <td>-0.106714</td>\n",
              "      <td>0.169721</td>\n",
              "      <td>-0.009709</td>\n",
              "      <td>-0.113976</td>\n",
              "      <td>0.002924</td>\n",
              "      <td>0.025379</td>\n",
              "      <td>-0.022767</td>\n",
              "      <td>-0.006232</td>\n",
              "      <td>0.014361</td>\n",
              "      <td>-0.052238</td>\n",
              "      <td>-0.043810</td>\n",
              "      <td>0.016134</td>\n",
              "      <td>0.062307</td>\n",
              "      <td>-0.125156</td>\n",
              "      <td>-0.083779</td>\n",
              "      <td>0.115005</td>\n",
              "      <td>0.022858</td>\n",
              "      <td>-0.073753</td>\n",
              "      <td>0.005794</td>\n",
              "      <td>0.019102</td>\n",
              "      <td>0.069506</td>\n",
              "      <td>0.005619</td>\n",
              "      <td>-0.125494</td>\n",
              "      <td>0.032053</td>\n",
              "      <td>0.001871</td>\n",
              "      <td>-0.059025</td>\n",
              "      <td>41401</td>\n",
              "    </tr>\n",
              "    <tr>\n",
              "      <th>4</th>\n",
              "      <td>32779.0</td>\n",
              "      <td>0.297727</td>\n",
              "      <td>0.764129</td>\n",
              "      <td>-0.795565</td>\n",
              "      <td>0.136611</td>\n",
              "      <td>0.338586</td>\n",
              "      <td>0.258101</td>\n",
              "      <td>0.461119</td>\n",
              "      <td>-0.199550</td>\n",
              "      <td>-0.159668</td>\n",
              "      <td>-0.013619</td>\n",
              "      <td>-0.318710</td>\n",
              "      <td>-0.561159</td>\n",
              "      <td>0.275471</td>\n",
              "      <td>-0.868465</td>\n",
              "      <td>-0.381168</td>\n",
              "      <td>0.197238</td>\n",
              "      <td>-0.805438</td>\n",
              "      <td>0.215284</td>\n",
              "      <td>-0.492362</td>\n",
              "      <td>-0.644972</td>\n",
              "      <td>0.410759</td>\n",
              "      <td>-0.390505</td>\n",
              "      <td>0.617100</td>\n",
              "      <td>1.397771</td>\n",
              "      <td>-1.371298</td>\n",
              "      <td>-0.072344</td>\n",
              "      <td>-0.981251</td>\n",
              "      <td>0.457815</td>\n",
              "      <td>-0.734514</td>\n",
              "      <td>0.033783</td>\n",
              "      <td>1.371656</td>\n",
              "      <td>1.306443</td>\n",
              "      <td>-0.337575</td>\n",
              "      <td>0.030454</td>\n",
              "      <td>0.217532</td>\n",
              "      <td>-0.695523</td>\n",
              "      <td>-0.639070</td>\n",
              "      <td>-0.159521</td>\n",
              "      <td>1.796250</td>\n",
              "      <td>...</td>\n",
              "      <td>-1.223333</td>\n",
              "      <td>-0.102898</td>\n",
              "      <td>-0.321918</td>\n",
              "      <td>-0.844629</td>\n",
              "      <td>-1.359950</td>\n",
              "      <td>0.072841</td>\n",
              "      <td>0.682491</td>\n",
              "      <td>1.163793</td>\n",
              "      <td>0.115487</td>\n",
              "      <td>0.073396</td>\n",
              "      <td>-0.270292</td>\n",
              "      <td>-0.365514</td>\n",
              "      <td>0.854433</td>\n",
              "      <td>-0.638507</td>\n",
              "      <td>1.158583</td>\n",
              "      <td>0.311549</td>\n",
              "      <td>-0.837496</td>\n",
              "      <td>0.109987</td>\n",
              "      <td>0.273512</td>\n",
              "      <td>0.475889</td>\n",
              "      <td>-0.049502</td>\n",
              "      <td>-0.349155</td>\n",
              "      <td>0.041931</td>\n",
              "      <td>0.315722</td>\n",
              "      <td>-0.038122</td>\n",
              "      <td>-0.252612</td>\n",
              "      <td>-1.540189</td>\n",
              "      <td>-0.054510</td>\n",
              "      <td>0.589823</td>\n",
              "      <td>0.098843</td>\n",
              "      <td>-1.072189</td>\n",
              "      <td>1.416626</td>\n",
              "      <td>0.030241</td>\n",
              "      <td>0.601647</td>\n",
              "      <td>0.435277</td>\n",
              "      <td>-1.460064</td>\n",
              "      <td>-0.345699</td>\n",
              "      <td>-0.189441</td>\n",
              "      <td>0.270539</td>\n",
              "      <td>41401</td>\n",
              "    </tr>\n",
              "  </tbody>\n",
              "</table>\n",
              "<p>5 rows × 440 columns</p>\n",
              "</div>"
            ],
            "text/plain": [
              "   SUBJECT_ID         1         2  ...       437       438  ICD9_CODE\n",
              "0         3.0  0.089619  0.052252  ...  0.026036  0.066354       4254\n",
              "1     32773.0  0.037900  1.280599  ... -0.352915 -0.075452      41401\n",
              "2     98310.0  0.024405  0.060916  ... -0.064908 -0.031608      41401\n",
              "3     32777.0 -0.058894  0.125515  ...  0.001871 -0.059025      41401\n",
              "4     32779.0  0.297727  0.764129  ... -0.189441  0.270539      41401\n",
              "\n",
              "[5 rows x 440 columns]"
            ]
          },
          "metadata": {
            "tags": []
          },
          "execution_count": 44
        }
      ]
    },
    {
      "cell_type": "markdown",
      "metadata": {
        "id": "fLNmyxD_zomy"
      },
      "source": [
        "### Labeling the text data\n",
        "\n",
        "Now that we have ICD9 codes linked to subject ids, we can generate labels. We group codes into cardiomyopathy [cm] v. coronary artery disease [cad] and assign a binary label. 0=CM, 1=CAD. \n",
        "\n",
        "Yes -- this is the same approach we took when tagging our documents for doc2vec based on labels.  "
      ]
    },
    {
      "cell_type": "code",
      "metadata": {
        "colab": {
          "base_uri": "https://localhost:8080/",
          "height": 293
        },
        "id": "NiBnZMgiQozg",
        "outputId": "0d536592-cc04-45d0-91b2-5fadd96e5847"
      },
      "source": [
        "# let's make the labels--basically we want to separate out by icd code\n",
        "# we'll make 0=cardiomyopathy, 1=CAD\n",
        "cm = [42511, 42518, 4254]\n",
        "cad = [44029, 4409, 41401, 4143]\n",
        "\n",
        "# this array contains all the ICD codes in order\n",
        "codes = textVectorMat['ICD9_CODE'].tolist()\n",
        "\n",
        "# this array will contain all the data labels in order\n",
        "text_labels = []\n",
        "\n",
        "# iterate through the rows of textVectorMat and create labels \n",
        "for i in range(len(codes)):\n",
        "\n",
        "  # grab the icd code from row i\n",
        "  icd = codes[i]\n",
        "\n",
        "  # if the icd code is a CM one, append 0 to labels, else if it's CAD append 1\n",
        "  if icd in cm: \n",
        "    text_labels.append(0)\n",
        "  else: \n",
        "    text_labels.append(1)\n",
        "\n",
        "# ensure that the length of the list of labels is the same as the length of codes\n",
        "print(\"labels:\", len(text_labels))\n",
        "print(\"codes:\", len(codes))\n",
        "\n",
        "# let's get rid of the icd9 codes column now oso it doesn't confound our results--axis=1 tells it to drop a column\n",
        "textDataMat = textVectorMat.drop('ICD9_CODE', axis=1)\n",
        "\n",
        "# check our work\n",
        "textDataMat.head()"
      ],
      "execution_count": 45,
      "outputs": [
        {
          "output_type": "stream",
          "text": [
            "labels: 11572\n",
            "codes: 11572\n"
          ],
          "name": "stdout"
        },
        {
          "output_type": "execute_result",
          "data": {
            "text/html": [
              "<div>\n",
              "<style scoped>\n",
              "    .dataframe tbody tr th:only-of-type {\n",
              "        vertical-align: middle;\n",
              "    }\n",
              "\n",
              "    .dataframe tbody tr th {\n",
              "        vertical-align: top;\n",
              "    }\n",
              "\n",
              "    .dataframe thead th {\n",
              "        text-align: right;\n",
              "    }\n",
              "</style>\n",
              "<table border=\"1\" class=\"dataframe\">\n",
              "  <thead>\n",
              "    <tr style=\"text-align: right;\">\n",
              "      <th></th>\n",
              "      <th>SUBJECT_ID</th>\n",
              "      <th>1</th>\n",
              "      <th>2</th>\n",
              "      <th>3</th>\n",
              "      <th>4</th>\n",
              "      <th>5</th>\n",
              "      <th>6</th>\n",
              "      <th>7</th>\n",
              "      <th>8</th>\n",
              "      <th>9</th>\n",
              "      <th>10</th>\n",
              "      <th>11</th>\n",
              "      <th>12</th>\n",
              "      <th>13</th>\n",
              "      <th>14</th>\n",
              "      <th>15</th>\n",
              "      <th>16</th>\n",
              "      <th>17</th>\n",
              "      <th>18</th>\n",
              "      <th>19</th>\n",
              "      <th>20</th>\n",
              "      <th>21</th>\n",
              "      <th>22</th>\n",
              "      <th>23</th>\n",
              "      <th>24</th>\n",
              "      <th>25</th>\n",
              "      <th>26</th>\n",
              "      <th>27</th>\n",
              "      <th>28</th>\n",
              "      <th>29</th>\n",
              "      <th>30</th>\n",
              "      <th>31</th>\n",
              "      <th>32</th>\n",
              "      <th>33</th>\n",
              "      <th>34</th>\n",
              "      <th>35</th>\n",
              "      <th>36</th>\n",
              "      <th>37</th>\n",
              "      <th>38</th>\n",
              "      <th>39</th>\n",
              "      <th>...</th>\n",
              "      <th>399</th>\n",
              "      <th>400</th>\n",
              "      <th>401</th>\n",
              "      <th>402</th>\n",
              "      <th>403</th>\n",
              "      <th>404</th>\n",
              "      <th>405</th>\n",
              "      <th>406</th>\n",
              "      <th>407</th>\n",
              "      <th>408</th>\n",
              "      <th>409</th>\n",
              "      <th>410</th>\n",
              "      <th>411</th>\n",
              "      <th>412</th>\n",
              "      <th>413</th>\n",
              "      <th>414</th>\n",
              "      <th>415</th>\n",
              "      <th>416</th>\n",
              "      <th>417</th>\n",
              "      <th>418</th>\n",
              "      <th>419</th>\n",
              "      <th>420</th>\n",
              "      <th>421</th>\n",
              "      <th>422</th>\n",
              "      <th>423</th>\n",
              "      <th>424</th>\n",
              "      <th>425</th>\n",
              "      <th>426</th>\n",
              "      <th>427</th>\n",
              "      <th>428</th>\n",
              "      <th>429</th>\n",
              "      <th>430</th>\n",
              "      <th>431</th>\n",
              "      <th>432</th>\n",
              "      <th>433</th>\n",
              "      <th>434</th>\n",
              "      <th>435</th>\n",
              "      <th>436</th>\n",
              "      <th>437</th>\n",
              "      <th>438</th>\n",
              "    </tr>\n",
              "  </thead>\n",
              "  <tbody>\n",
              "    <tr>\n",
              "      <th>0</th>\n",
              "      <td>3.0</td>\n",
              "      <td>0.089619</td>\n",
              "      <td>0.052252</td>\n",
              "      <td>-0.021826</td>\n",
              "      <td>-0.132506</td>\n",
              "      <td>-0.042356</td>\n",
              "      <td>0.020319</td>\n",
              "      <td>-0.084637</td>\n",
              "      <td>0.043567</td>\n",
              "      <td>0.085690</td>\n",
              "      <td>0.104131</td>\n",
              "      <td>-0.219261</td>\n",
              "      <td>-0.006841</td>\n",
              "      <td>-0.014735</td>\n",
              "      <td>-0.139518</td>\n",
              "      <td>-0.126344</td>\n",
              "      <td>-0.033304</td>\n",
              "      <td>-0.143157</td>\n",
              "      <td>0.069089</td>\n",
              "      <td>0.030358</td>\n",
              "      <td>-0.045158</td>\n",
              "      <td>-0.019508</td>\n",
              "      <td>0.108177</td>\n",
              "      <td>-0.038788</td>\n",
              "      <td>0.039120</td>\n",
              "      <td>-0.099599</td>\n",
              "      <td>0.036201</td>\n",
              "      <td>0.063405</td>\n",
              "      <td>0.127625</td>\n",
              "      <td>-0.119434</td>\n",
              "      <td>0.061013</td>\n",
              "      <td>0.061452</td>\n",
              "      <td>0.048295</td>\n",
              "      <td>-0.012672</td>\n",
              "      <td>0.107825</td>\n",
              "      <td>0.027430</td>\n",
              "      <td>-0.062734</td>\n",
              "      <td>-0.116579</td>\n",
              "      <td>-0.235131</td>\n",
              "      <td>0.187460</td>\n",
              "      <td>...</td>\n",
              "      <td>-0.112999</td>\n",
              "      <td>-0.023470</td>\n",
              "      <td>-0.051412</td>\n",
              "      <td>-0.035115</td>\n",
              "      <td>-0.181673</td>\n",
              "      <td>-0.334576</td>\n",
              "      <td>0.054168</td>\n",
              "      <td>0.277603</td>\n",
              "      <td>0.044134</td>\n",
              "      <td>0.067676</td>\n",
              "      <td>0.012570</td>\n",
              "      <td>-0.021545</td>\n",
              "      <td>-0.094227</td>\n",
              "      <td>0.187627</td>\n",
              "      <td>-0.108871</td>\n",
              "      <td>0.392534</td>\n",
              "      <td>0.182751</td>\n",
              "      <td>-0.015711</td>\n",
              "      <td>0.028222</td>\n",
              "      <td>0.094229</td>\n",
              "      <td>-0.079046</td>\n",
              "      <td>-0.047044</td>\n",
              "      <td>-0.047643</td>\n",
              "      <td>-0.036384</td>\n",
              "      <td>-0.076661</td>\n",
              "      <td>-0.190593</td>\n",
              "      <td>-0.258645</td>\n",
              "      <td>-0.161754</td>\n",
              "      <td>-0.101886</td>\n",
              "      <td>0.247619</td>\n",
              "      <td>0.148518</td>\n",
              "      <td>-0.272157</td>\n",
              "      <td>0.377851</td>\n",
              "      <td>0.044359</td>\n",
              "      <td>-0.028589</td>\n",
              "      <td>-0.044379</td>\n",
              "      <td>-0.251394</td>\n",
              "      <td>-0.058248</td>\n",
              "      <td>0.026036</td>\n",
              "      <td>0.066354</td>\n",
              "    </tr>\n",
              "    <tr>\n",
              "      <th>1</th>\n",
              "      <td>32773.0</td>\n",
              "      <td>0.037900</td>\n",
              "      <td>1.280599</td>\n",
              "      <td>-1.198802</td>\n",
              "      <td>0.236180</td>\n",
              "      <td>0.036370</td>\n",
              "      <td>0.675872</td>\n",
              "      <td>0.629112</td>\n",
              "      <td>-0.130225</td>\n",
              "      <td>-0.412718</td>\n",
              "      <td>-0.481339</td>\n",
              "      <td>-0.866408</td>\n",
              "      <td>-1.255346</td>\n",
              "      <td>-0.127753</td>\n",
              "      <td>-0.838678</td>\n",
              "      <td>-0.183744</td>\n",
              "      <td>0.261498</td>\n",
              "      <td>-0.780474</td>\n",
              "      <td>0.100076</td>\n",
              "      <td>-1.211127</td>\n",
              "      <td>-0.110204</td>\n",
              "      <td>0.907868</td>\n",
              "      <td>-0.535597</td>\n",
              "      <td>0.010343</td>\n",
              "      <td>0.583626</td>\n",
              "      <td>-1.014816</td>\n",
              "      <td>-0.214748</td>\n",
              "      <td>-0.694396</td>\n",
              "      <td>0.450970</td>\n",
              "      <td>-1.105321</td>\n",
              "      <td>0.560375</td>\n",
              "      <td>0.917860</td>\n",
              "      <td>1.386539</td>\n",
              "      <td>0.841052</td>\n",
              "      <td>-0.044471</td>\n",
              "      <td>-0.230938</td>\n",
              "      <td>-0.304300</td>\n",
              "      <td>-1.274919</td>\n",
              "      <td>0.285135</td>\n",
              "      <td>1.499454</td>\n",
              "      <td>...</td>\n",
              "      <td>0.861901</td>\n",
              "      <td>-1.880116</td>\n",
              "      <td>-0.234189</td>\n",
              "      <td>-0.507989</td>\n",
              "      <td>-0.867311</td>\n",
              "      <td>-1.063261</td>\n",
              "      <td>0.387865</td>\n",
              "      <td>1.047666</td>\n",
              "      <td>0.363738</td>\n",
              "      <td>0.101880</td>\n",
              "      <td>0.575647</td>\n",
              "      <td>-0.150271</td>\n",
              "      <td>0.270632</td>\n",
              "      <td>0.647120</td>\n",
              "      <td>0.150353</td>\n",
              "      <td>0.999139</td>\n",
              "      <td>0.207273</td>\n",
              "      <td>-0.243467</td>\n",
              "      <td>-0.224171</td>\n",
              "      <td>0.292777</td>\n",
              "      <td>0.291311</td>\n",
              "      <td>0.034713</td>\n",
              "      <td>-0.605638</td>\n",
              "      <td>-0.187541</td>\n",
              "      <td>-0.205559</td>\n",
              "      <td>-0.162911</td>\n",
              "      <td>-0.432236</td>\n",
              "      <td>-1.193741</td>\n",
              "      <td>-0.078325</td>\n",
              "      <td>1.012262</td>\n",
              "      <td>0.142294</td>\n",
              "      <td>-0.799972</td>\n",
              "      <td>0.801669</td>\n",
              "      <td>0.229057</td>\n",
              "      <td>0.770976</td>\n",
              "      <td>0.118697</td>\n",
              "      <td>-1.098328</td>\n",
              "      <td>0.145760</td>\n",
              "      <td>-0.352915</td>\n",
              "      <td>-0.075452</td>\n",
              "    </tr>\n",
              "    <tr>\n",
              "      <th>2</th>\n",
              "      <td>98310.0</td>\n",
              "      <td>0.024405</td>\n",
              "      <td>0.060916</td>\n",
              "      <td>-0.026240</td>\n",
              "      <td>0.021904</td>\n",
              "      <td>0.080968</td>\n",
              "      <td>0.030698</td>\n",
              "      <td>0.032310</td>\n",
              "      <td>0.059482</td>\n",
              "      <td>0.101521</td>\n",
              "      <td>-0.012271</td>\n",
              "      <td>-0.015543</td>\n",
              "      <td>-0.016276</td>\n",
              "      <td>-0.039184</td>\n",
              "      <td>-0.092102</td>\n",
              "      <td>-0.005182</td>\n",
              "      <td>0.027718</td>\n",
              "      <td>-0.018830</td>\n",
              "      <td>0.103265</td>\n",
              "      <td>-0.021820</td>\n",
              "      <td>0.013832</td>\n",
              "      <td>0.071203</td>\n",
              "      <td>-0.038152</td>\n",
              "      <td>0.025562</td>\n",
              "      <td>0.082105</td>\n",
              "      <td>-0.059190</td>\n",
              "      <td>0.031065</td>\n",
              "      <td>-0.050113</td>\n",
              "      <td>-0.014605</td>\n",
              "      <td>-0.144139</td>\n",
              "      <td>0.020603</td>\n",
              "      <td>0.064529</td>\n",
              "      <td>0.017136</td>\n",
              "      <td>0.052589</td>\n",
              "      <td>0.030546</td>\n",
              "      <td>0.161288</td>\n",
              "      <td>-0.000127</td>\n",
              "      <td>-0.034574</td>\n",
              "      <td>-0.058918</td>\n",
              "      <td>0.058101</td>\n",
              "      <td>...</td>\n",
              "      <td>0.008253</td>\n",
              "      <td>-0.121251</td>\n",
              "      <td>-0.023908</td>\n",
              "      <td>0.015479</td>\n",
              "      <td>-0.005277</td>\n",
              "      <td>-0.062926</td>\n",
              "      <td>0.087246</td>\n",
              "      <td>-0.041578</td>\n",
              "      <td>0.008861</td>\n",
              "      <td>-0.059243</td>\n",
              "      <td>-0.035365</td>\n",
              "      <td>0.000223</td>\n",
              "      <td>-0.003414</td>\n",
              "      <td>0.027112</td>\n",
              "      <td>-0.077598</td>\n",
              "      <td>0.064644</td>\n",
              "      <td>0.067172</td>\n",
              "      <td>-0.007209</td>\n",
              "      <td>0.035055</td>\n",
              "      <td>0.043486</td>\n",
              "      <td>-0.038148</td>\n",
              "      <td>0.024376</td>\n",
              "      <td>0.053638</td>\n",
              "      <td>0.004943</td>\n",
              "      <td>-0.008121</td>\n",
              "      <td>-0.056503</td>\n",
              "      <td>0.027724</td>\n",
              "      <td>-0.079598</td>\n",
              "      <td>-0.091641</td>\n",
              "      <td>0.043461</td>\n",
              "      <td>0.006822</td>\n",
              "      <td>-0.038066</td>\n",
              "      <td>0.057238</td>\n",
              "      <td>-0.003774</td>\n",
              "      <td>0.048262</td>\n",
              "      <td>0.063009</td>\n",
              "      <td>-0.079670</td>\n",
              "      <td>0.025437</td>\n",
              "      <td>-0.064908</td>\n",
              "      <td>-0.031608</td>\n",
              "    </tr>\n",
              "    <tr>\n",
              "      <th>3</th>\n",
              "      <td>32777.0</td>\n",
              "      <td>-0.058894</td>\n",
              "      <td>0.125515</td>\n",
              "      <td>-0.179003</td>\n",
              "      <td>-0.047523</td>\n",
              "      <td>0.103142</td>\n",
              "      <td>0.034124</td>\n",
              "      <td>0.132231</td>\n",
              "      <td>0.001654</td>\n",
              "      <td>0.015504</td>\n",
              "      <td>0.021795</td>\n",
              "      <td>-0.049052</td>\n",
              "      <td>-0.045138</td>\n",
              "      <td>-0.053557</td>\n",
              "      <td>-0.013687</td>\n",
              "      <td>-0.074895</td>\n",
              "      <td>0.009845</td>\n",
              "      <td>-0.089473</td>\n",
              "      <td>0.105494</td>\n",
              "      <td>-0.091908</td>\n",
              "      <td>0.024627</td>\n",
              "      <td>0.140748</td>\n",
              "      <td>-0.070351</td>\n",
              "      <td>0.037351</td>\n",
              "      <td>0.080342</td>\n",
              "      <td>-0.041521</td>\n",
              "      <td>-0.077045</td>\n",
              "      <td>-0.019391</td>\n",
              "      <td>0.137661</td>\n",
              "      <td>-0.091484</td>\n",
              "      <td>-0.001705</td>\n",
              "      <td>0.088464</td>\n",
              "      <td>0.063729</td>\n",
              "      <td>0.093147</td>\n",
              "      <td>-0.015200</td>\n",
              "      <td>0.032918</td>\n",
              "      <td>-0.033387</td>\n",
              "      <td>-0.048630</td>\n",
              "      <td>-0.008626</td>\n",
              "      <td>0.092127</td>\n",
              "      <td>...</td>\n",
              "      <td>0.018882</td>\n",
              "      <td>-0.061280</td>\n",
              "      <td>0.015258</td>\n",
              "      <td>0.020543</td>\n",
              "      <td>-0.043562</td>\n",
              "      <td>-0.075734</td>\n",
              "      <td>0.036938</td>\n",
              "      <td>0.034117</td>\n",
              "      <td>0.020122</td>\n",
              "      <td>0.007017</td>\n",
              "      <td>0.069206</td>\n",
              "      <td>-0.162044</td>\n",
              "      <td>0.015379</td>\n",
              "      <td>0.043651</td>\n",
              "      <td>-0.106714</td>\n",
              "      <td>0.169721</td>\n",
              "      <td>-0.009709</td>\n",
              "      <td>-0.113976</td>\n",
              "      <td>0.002924</td>\n",
              "      <td>0.025379</td>\n",
              "      <td>-0.022767</td>\n",
              "      <td>-0.006232</td>\n",
              "      <td>0.014361</td>\n",
              "      <td>-0.052238</td>\n",
              "      <td>-0.043810</td>\n",
              "      <td>0.016134</td>\n",
              "      <td>0.062307</td>\n",
              "      <td>-0.125156</td>\n",
              "      <td>-0.083779</td>\n",
              "      <td>0.115005</td>\n",
              "      <td>0.022858</td>\n",
              "      <td>-0.073753</td>\n",
              "      <td>0.005794</td>\n",
              "      <td>0.019102</td>\n",
              "      <td>0.069506</td>\n",
              "      <td>0.005619</td>\n",
              "      <td>-0.125494</td>\n",
              "      <td>0.032053</td>\n",
              "      <td>0.001871</td>\n",
              "      <td>-0.059025</td>\n",
              "    </tr>\n",
              "    <tr>\n",
              "      <th>4</th>\n",
              "      <td>32779.0</td>\n",
              "      <td>0.297727</td>\n",
              "      <td>0.764129</td>\n",
              "      <td>-0.795565</td>\n",
              "      <td>0.136611</td>\n",
              "      <td>0.338586</td>\n",
              "      <td>0.258101</td>\n",
              "      <td>0.461119</td>\n",
              "      <td>-0.199550</td>\n",
              "      <td>-0.159668</td>\n",
              "      <td>-0.013619</td>\n",
              "      <td>-0.318710</td>\n",
              "      <td>-0.561159</td>\n",
              "      <td>0.275471</td>\n",
              "      <td>-0.868465</td>\n",
              "      <td>-0.381168</td>\n",
              "      <td>0.197238</td>\n",
              "      <td>-0.805438</td>\n",
              "      <td>0.215284</td>\n",
              "      <td>-0.492362</td>\n",
              "      <td>-0.644972</td>\n",
              "      <td>0.410759</td>\n",
              "      <td>-0.390505</td>\n",
              "      <td>0.617100</td>\n",
              "      <td>1.397771</td>\n",
              "      <td>-1.371298</td>\n",
              "      <td>-0.072344</td>\n",
              "      <td>-0.981251</td>\n",
              "      <td>0.457815</td>\n",
              "      <td>-0.734514</td>\n",
              "      <td>0.033783</td>\n",
              "      <td>1.371656</td>\n",
              "      <td>1.306443</td>\n",
              "      <td>-0.337575</td>\n",
              "      <td>0.030454</td>\n",
              "      <td>0.217532</td>\n",
              "      <td>-0.695523</td>\n",
              "      <td>-0.639070</td>\n",
              "      <td>-0.159521</td>\n",
              "      <td>1.796250</td>\n",
              "      <td>...</td>\n",
              "      <td>0.920486</td>\n",
              "      <td>-1.223333</td>\n",
              "      <td>-0.102898</td>\n",
              "      <td>-0.321918</td>\n",
              "      <td>-0.844629</td>\n",
              "      <td>-1.359950</td>\n",
              "      <td>0.072841</td>\n",
              "      <td>0.682491</td>\n",
              "      <td>1.163793</td>\n",
              "      <td>0.115487</td>\n",
              "      <td>0.073396</td>\n",
              "      <td>-0.270292</td>\n",
              "      <td>-0.365514</td>\n",
              "      <td>0.854433</td>\n",
              "      <td>-0.638507</td>\n",
              "      <td>1.158583</td>\n",
              "      <td>0.311549</td>\n",
              "      <td>-0.837496</td>\n",
              "      <td>0.109987</td>\n",
              "      <td>0.273512</td>\n",
              "      <td>0.475889</td>\n",
              "      <td>-0.049502</td>\n",
              "      <td>-0.349155</td>\n",
              "      <td>0.041931</td>\n",
              "      <td>0.315722</td>\n",
              "      <td>-0.038122</td>\n",
              "      <td>-0.252612</td>\n",
              "      <td>-1.540189</td>\n",
              "      <td>-0.054510</td>\n",
              "      <td>0.589823</td>\n",
              "      <td>0.098843</td>\n",
              "      <td>-1.072189</td>\n",
              "      <td>1.416626</td>\n",
              "      <td>0.030241</td>\n",
              "      <td>0.601647</td>\n",
              "      <td>0.435277</td>\n",
              "      <td>-1.460064</td>\n",
              "      <td>-0.345699</td>\n",
              "      <td>-0.189441</td>\n",
              "      <td>0.270539</td>\n",
              "    </tr>\n",
              "  </tbody>\n",
              "</table>\n",
              "<p>5 rows × 439 columns</p>\n",
              "</div>"
            ],
            "text/plain": [
              "   SUBJECT_ID         1         2  ...       436       437       438\n",
              "0         3.0  0.089619  0.052252  ... -0.058248  0.026036  0.066354\n",
              "1     32773.0  0.037900  1.280599  ...  0.145760 -0.352915 -0.075452\n",
              "2     98310.0  0.024405  0.060916  ...  0.025437 -0.064908 -0.031608\n",
              "3     32777.0 -0.058894  0.125515  ...  0.032053  0.001871 -0.059025\n",
              "4     32779.0  0.297727  0.764129  ... -0.345699 -0.189441  0.270539\n",
              "\n",
              "[5 rows x 439 columns]"
            ]
          },
          "metadata": {
            "tags": []
          },
          "execution_count": 45
        }
      ]
    },
    {
      "cell_type": "markdown",
      "metadata": {
        "id": "p_Ay2cfR8FaO"
      },
      "source": [
        "Let's save ```textDataMat``` as a csv."
      ]
    },
    {
      "cell_type": "code",
      "metadata": {
        "id": "p6yKYFX_8LI1"
      },
      "source": [
        "textDataMat.to_csv(\"/content/drive/MyDrive/cbb 750 final/textdatamat.csv\")"
      ],
      "execution_count": null,
      "outputs": []
    },
    {
      "cell_type": "markdown",
      "metadata": {
        "id": "5dw-WENkk7qZ"
      },
      "source": [
        "### Extracting labels from non-text matrix\n",
        "\n",
        "We're doing something different here. We'll perform some imputation, i.e. fill in the NA values of the matrix. We've used a naive approach here:\n",
        "  * If a column has a NA value in a given cell we replace the NA with the mean value for the column. \n",
        "  * If a column has only NA values we get rid of it as it will do nothing to aid classification. \n",
        "\n",
        "We also make sure that the ```SUBJECT_ID``` column is labeled as such and remove rows with duplicate ```SUBJECT_ID``` [We want one classification per patient--since we have already selected for the most recent lab readings we expect any duplicate ```SUBJECT_ID```s to be the result of error/row duplication]. \n",
        "\n",
        "After imputation we grab ICD9 codes for each patient and make labels using the same approach as for the text data. "
      ]
    },
    {
      "cell_type": "code",
      "metadata": {
        "colab": {
          "base_uri": "https://localhost:8080/",
          "height": 384
        },
        "id": "-Ggpexhkk-TX",
        "outputId": "63e5ff58-54ca-4882-f404-ffe1100afaf9"
      },
      "source": [
        "# fill the na values with the mean of each column, idea from here https://stackoverflow.com/questions/18689823/pandas-dataframe-replace-nan-values-with-average-of-columns\n",
        "filledna_nontext = nontext.fillna(nontext.mean())\n",
        "\n",
        "# what if we get rid of all columns with only NA values? from https://stackoverflow.com/questions/45147100/pandas-drop-columns-with-all-nans\n",
        "filledna_processed_nontext = filledna_nontext.dropna(axis=1, how='all')\n",
        "\n",
        "# change \"Unnamed: 0\" column to SUBJECT_ID to match Saejeong's data\n",
        "# from https://stackoverflow.com/questions/11346283/renaming-columns-in-pandas\n",
        "filledna_processed_nontext.rename(columns={'Unnamed: 0': 'SUBJECT_ID'}, inplace=True)\n",
        "\n",
        "# we need to do a bit of processing on this. \n",
        "# get rid of duplicate subject id\n",
        "filledna_processed_nontext = filledna_processed_nontext.drop_duplicates(subset='SUBJECT_ID', keep='first')\n",
        "\n",
        "# merge with Saejeong's data to get icd codes for each patient\n",
        "nontext_with_icd = pd.merge(data, filledna_processed_nontext, on=\"SUBJECT_ID\")\n",
        "\n",
        "# let's make the labels--basically we want to separate out by icd code\n",
        "# we'll make 0=cardiomyopathy, 1=CAD\n",
        "cm = [42511, 42518, 4254]\n",
        "cad = [44029, 4409, 41401, 4143]\n",
        "\n",
        "# this array will contain all the data labels in order\n",
        "nontext_labels = []\n",
        "\n",
        "# iterate through the rows of nontext_with_icd and create labels for filledna_processed_nontext\n",
        "# we can't feed nontext_with_icd into the classifier because it contains [unprocessed] labels for everything!\n",
        "for i in range(len(nontext_with_icd)):\n",
        "\n",
        "  # grab the icd code from row i\n",
        "  icd = nontext_with_icd.loc[i,'ICD9_CODE']\n",
        "\n",
        "  # if the icd code is a CM one, append 0 to labels, else if it's CAD append 1\n",
        "  if icd in cm: \n",
        "    nontext_labels.append(0)\n",
        "  elif icd in cad: \n",
        "    nontext_labels.append(1)\n",
        "  else: # this is a value which we need to filter out\n",
        "    print(nontext_with_icd.loc[i])\n",
        "\n",
        "filledna_processed_nontext.head()\n"
      ],
      "execution_count": 46,
      "outputs": [
        {
          "output_type": "stream",
          "text": [
            "/usr/local/lib/python3.7/dist-packages/pandas/core/frame.py:4308: SettingWithCopyWarning: \n",
            "A value is trying to be set on a copy of a slice from a DataFrame\n",
            "\n",
            "See the caveats in the documentation: https://pandas.pydata.org/pandas-docs/stable/user_guide/indexing.html#returning-a-view-versus-a-copy\n",
            "  errors=errors,\n"
          ],
          "name": "stderr"
        },
        {
          "output_type": "execute_result",
          "data": {
            "text/html": [
              "<div>\n",
              "<style scoped>\n",
              "    .dataframe tbody tr th:only-of-type {\n",
              "        vertical-align: middle;\n",
              "    }\n",
              "\n",
              "    .dataframe tbody tr th {\n",
              "        vertical-align: top;\n",
              "    }\n",
              "\n",
              "    .dataframe thead th {\n",
              "        text-align: right;\n",
              "    }\n",
              "</style>\n",
              "<table border=\"1\" class=\"dataframe\">\n",
              "  <thead>\n",
              "    <tr style=\"text-align: right;\">\n",
              "      <th></th>\n",
              "      <th>SUBJECT_ID</th>\n",
              "      <th>Base Excess</th>\n",
              "      <th>Calculated Total CO2</th>\n",
              "      <th>Free Calcium</th>\n",
              "      <th>Glucose</th>\n",
              "      <th>Hematocrit</th>\n",
              "      <th>Calculated</th>\n",
              "      <th>Hemoglobin</th>\n",
              "      <th>Lactate</th>\n",
              "      <th>O2 Flow</th>\n",
              "      <th>Oxygen</th>\n",
              "      <th>pCO2</th>\n",
              "      <th>PEEP</th>\n",
              "      <th>pH</th>\n",
              "      <th>pO2</th>\n",
              "      <th>Potassium</th>\n",
              "      <th>Whole Blood</th>\n",
              "      <th>Temperature</th>\n",
              "      <th>Tidal Volume</th>\n",
              "      <th>% Hemoglobin A1c</th>\n",
              "      <th>Alanine Aminotransferase (ALT)</th>\n",
              "      <th>Albumin</th>\n",
              "      <th>Alkaline Phosphatase</th>\n",
              "      <th>Amylase</th>\n",
              "      <th>Anion Gap</th>\n",
              "      <th>Asparate Aminotransferase (AST)</th>\n",
              "      <th>Bicarbonate</th>\n",
              "      <th>Bilirubin</th>\n",
              "      <th>Total</th>\n",
              "      <th>Calcium</th>\n",
              "      <th>Total.1</th>\n",
              "      <th>Chloride</th>\n",
              "      <th>Creatine Kinase (CK)</th>\n",
              "      <th>Creatinine</th>\n",
              "      <th>Ethanol</th>\n",
              "      <th>Glucose.1</th>\n",
              "      <th>Lactate Dehydrogenase (LD)</th>\n",
              "      <th>Lipase</th>\n",
              "      <th>Magnesium</th>\n",
              "      <th>Phenytoin</th>\n",
              "      <th>...</th>\n",
              "      <th>Bicarbonate.1</th>\n",
              "      <th>Other Fluid.3</th>\n",
              "      <th>Chloride.3</th>\n",
              "      <th>Body Fluid.7</th>\n",
              "      <th>Sodium.3</th>\n",
              "      <th>Body Fluid.8</th>\n",
              "      <th>Thyroglobulin</th>\n",
              "      <th>Hematocrit.5</th>\n",
              "      <th>Pleural.9</th>\n",
              "      <th>Leukocyte Alkaline Phosphatase</th>\n",
              "      <th>Basophils.3</th>\n",
              "      <th>CA-125</th>\n",
              "      <th>NRBC</th>\n",
              "      <th>Hematocrit.6</th>\n",
              "      <th>Joint Fluid.2</th>\n",
              "      <th>Anti-Thyroglobulin Antibodies</th>\n",
              "      <th>Bands.5</th>\n",
              "      <th>Cellular Cast</th>\n",
              "      <th>Human Chorionic Gonadotropin</th>\n",
              "      <th>Fetal Hemoglobin</th>\n",
              "      <th>WBC Casts</th>\n",
              "      <th>Creatinine.6</th>\n",
              "      <th>Joint Fluid.3</th>\n",
              "      <th>CD19</th>\n",
              "      <th>CD3</th>\n",
              "      <th>CD34</th>\n",
              "      <th>Cancer Antigen 27.29</th>\n",
              "      <th>Carbamazepine</th>\n",
              "      <th>Phenobarbital</th>\n",
              "      <th>Glucose.7</th>\n",
              "      <th>Joint Fluid.4</th>\n",
              "      <th>LD.1</th>\n",
              "      <th>Joint Fluid.5</th>\n",
              "      <th>Heparin.1</th>\n",
              "      <th>Cholesterol.4</th>\n",
              "      <th>Pleural.10</th>\n",
              "      <th>Bleeding Time</th>\n",
              "      <th>CD10</th>\n",
              "      <th>CD19.1</th>\n",
              "      <th>CD20</th>\n",
              "    </tr>\n",
              "  </thead>\n",
              "  <tbody>\n",
              "    <tr>\n",
              "      <th>0</th>\n",
              "      <td>10004</td>\n",
              "      <td>1.080000</td>\n",
              "      <td>25.680000</td>\n",
              "      <td>1.038571</td>\n",
              "      <td>216.666667</td>\n",
              "      <td>37.000000</td>\n",
              "      <td>12.300</td>\n",
              "      <td>5.900000</td>\n",
              "      <td>60.000000</td>\n",
              "      <td>43.571429</td>\n",
              "      <td>35.840000</td>\n",
              "      <td>5.000000</td>\n",
              "      <td>7.438000</td>\n",
              "      <td>163.600000</td>\n",
              "      <td>4.550000</td>\n",
              "      <td>38.318750</td>\n",
              "      <td>478.454545</td>\n",
              "      <td>6.200000</td>\n",
              "      <td>30.000000</td>\n",
              "      <td>3.375000</td>\n",
              "      <td>58.0</td>\n",
              "      <td>109.500000</td>\n",
              "      <td>15.130435</td>\n",
              "      <td>39.000000</td>\n",
              "      <td>24.26087</td>\n",
              "      <td>0.700</td>\n",
              "      <td>8.433333</td>\n",
              "      <td>104.130435</td>\n",
              "      <td>370.500000</td>\n",
              "      <td>0.978261</td>\n",
              "      <td>158.000000</td>\n",
              "      <td>157.086957</td>\n",
              "      <td>294.000000</td>\n",
              "      <td>93.000000</td>\n",
              "      <td>1.926316</td>\n",
              "      <td>8.233333</td>\n",
              "      <td>3.177778</td>\n",
              "      <td>4.382609</td>\n",
              "      <td>139.086957</td>\n",
              "      <td>21.375000</td>\n",
              "      <td>...</td>\n",
              "      <td>4.05</td>\n",
              "      <td>3.65</td>\n",
              "      <td>0.4</td>\n",
              "      <td>0.98</td>\n",
              "      <td>12.6</td>\n",
              "      <td>2.857143</td>\n",
              "      <td>1.0</td>\n",
              "      <td>109.125</td>\n",
              "      <td>2.5</td>\n",
              "      <td>52.5</td>\n",
              "      <td>1.0</td>\n",
              "      <td>1.0</td>\n",
              "      <td>0.4</td>\n",
              "      <td>3.0</td>\n",
              "      <td>10.0</td>\n",
              "      <td>40.5</td>\n",
              "      <td>78.0</td>\n",
              "      <td>1.009</td>\n",
              "      <td>55.5</td>\n",
              "      <td>8.958525</td>\n",
              "      <td>269.0</td>\n",
              "      <td>13.8</td>\n",
              "      <td>72.65</td>\n",
              "      <td>1002.5</td>\n",
              "      <td>1.0</td>\n",
              "      <td>4.9</td>\n",
              "      <td>1.0</td>\n",
              "      <td>0.0</td>\n",
              "      <td>32.0</td>\n",
              "      <td>3.0</td>\n",
              "      <td>150.5</td>\n",
              "      <td>37.0</td>\n",
              "      <td>2.0</td>\n",
              "      <td>0.0</td>\n",
              "      <td>1.0</td>\n",
              "      <td>3.4</td>\n",
              "      <td>610.0</td>\n",
              "      <td>74.8</td>\n",
              "      <td>606.0</td>\n",
              "      <td>2.0</td>\n",
              "    </tr>\n",
              "    <tr>\n",
              "      <th>1</th>\n",
              "      <td>10006</td>\n",
              "      <td>8.500000</td>\n",
              "      <td>33.500000</td>\n",
              "      <td>1.170000</td>\n",
              "      <td>77.000000</td>\n",
              "      <td>21.000000</td>\n",
              "      <td>7.100</td>\n",
              "      <td>3.344444</td>\n",
              "      <td>11.352035</td>\n",
              "      <td>65.170681</td>\n",
              "      <td>42.500000</td>\n",
              "      <td>6.384682</td>\n",
              "      <td>7.476667</td>\n",
              "      <td>97.500000</td>\n",
              "      <td>3.925000</td>\n",
              "      <td>38.700000</td>\n",
              "      <td>609.028904</td>\n",
              "      <td>5.500000</td>\n",
              "      <td>7.333333</td>\n",
              "      <td>2.709091</td>\n",
              "      <td>121.8</td>\n",
              "      <td>75.500000</td>\n",
              "      <td>15.754098</td>\n",
              "      <td>30.166667</td>\n",
              "      <td>26.95082</td>\n",
              "      <td>0.640</td>\n",
              "      <td>9.036364</td>\n",
              "      <td>100.475410</td>\n",
              "      <td>58.285714</td>\n",
              "      <td>5.417742</td>\n",
              "      <td>166.799014</td>\n",
              "      <td>126.819672</td>\n",
              "      <td>448.500000</td>\n",
              "      <td>35.666667</td>\n",
              "      <td>1.721053</td>\n",
              "      <td>9.679334</td>\n",
              "      <td>4.589474</td>\n",
              "      <td>3.938806</td>\n",
              "      <td>139.096774</td>\n",
              "      <td>22.245902</td>\n",
              "      <td>...</td>\n",
              "      <td>4.05</td>\n",
              "      <td>3.65</td>\n",
              "      <td>0.4</td>\n",
              "      <td>0.98</td>\n",
              "      <td>12.6</td>\n",
              "      <td>2.857143</td>\n",
              "      <td>1.0</td>\n",
              "      <td>109.125</td>\n",
              "      <td>2.5</td>\n",
              "      <td>52.5</td>\n",
              "      <td>1.0</td>\n",
              "      <td>1.0</td>\n",
              "      <td>0.4</td>\n",
              "      <td>3.0</td>\n",
              "      <td>10.0</td>\n",
              "      <td>40.5</td>\n",
              "      <td>78.0</td>\n",
              "      <td>1.009</td>\n",
              "      <td>55.5</td>\n",
              "      <td>8.958525</td>\n",
              "      <td>269.0</td>\n",
              "      <td>13.8</td>\n",
              "      <td>72.65</td>\n",
              "      <td>1002.5</td>\n",
              "      <td>1.0</td>\n",
              "      <td>4.9</td>\n",
              "      <td>1.0</td>\n",
              "      <td>0.0</td>\n",
              "      <td>32.0</td>\n",
              "      <td>3.0</td>\n",
              "      <td>150.5</td>\n",
              "      <td>37.0</td>\n",
              "      <td>2.0</td>\n",
              "      <td>0.0</td>\n",
              "      <td>1.0</td>\n",
              "      <td>3.4</td>\n",
              "      <td>610.0</td>\n",
              "      <td>74.8</td>\n",
              "      <td>606.0</td>\n",
              "      <td>2.0</td>\n",
              "    </tr>\n",
              "    <tr>\n",
              "      <th>2</th>\n",
              "      <td>10012</td>\n",
              "      <td>0.857143</td>\n",
              "      <td>27.571429</td>\n",
              "      <td>1.140000</td>\n",
              "      <td>147.666667</td>\n",
              "      <td>33.000000</td>\n",
              "      <td>11.025</td>\n",
              "      <td>2.166611</td>\n",
              "      <td>11.352035</td>\n",
              "      <td>65.170681</td>\n",
              "      <td>45.571429</td>\n",
              "      <td>6.384682</td>\n",
              "      <td>7.381111</td>\n",
              "      <td>283.000000</td>\n",
              "      <td>4.340000</td>\n",
              "      <td>37.021663</td>\n",
              "      <td>609.028904</td>\n",
              "      <td>7.400000</td>\n",
              "      <td>26.000000</td>\n",
              "      <td>4.100000</td>\n",
              "      <td>71.0</td>\n",
              "      <td>41.000000</td>\n",
              "      <td>11.333333</td>\n",
              "      <td>21.000000</td>\n",
              "      <td>26.25000</td>\n",
              "      <td>0.600</td>\n",
              "      <td>8.567173</td>\n",
              "      <td>105.000000</td>\n",
              "      <td>446.854324</td>\n",
              "      <td>0.616667</td>\n",
              "      <td>166.799014</td>\n",
              "      <td>124.666667</td>\n",
              "      <td>360.441124</td>\n",
              "      <td>59.480840</td>\n",
              "      <td>2.250000</td>\n",
              "      <td>9.679334</td>\n",
              "      <td>3.507365</td>\n",
              "      <td>4.133333</td>\n",
              "      <td>136.666667</td>\n",
              "      <td>10.800000</td>\n",
              "      <td>...</td>\n",
              "      <td>4.05</td>\n",
              "      <td>3.65</td>\n",
              "      <td>0.4</td>\n",
              "      <td>0.98</td>\n",
              "      <td>12.6</td>\n",
              "      <td>2.857143</td>\n",
              "      <td>1.0</td>\n",
              "      <td>109.125</td>\n",
              "      <td>2.5</td>\n",
              "      <td>52.5</td>\n",
              "      <td>1.0</td>\n",
              "      <td>1.0</td>\n",
              "      <td>0.4</td>\n",
              "      <td>3.0</td>\n",
              "      <td>10.0</td>\n",
              "      <td>40.5</td>\n",
              "      <td>78.0</td>\n",
              "      <td>1.009</td>\n",
              "      <td>55.5</td>\n",
              "      <td>8.958525</td>\n",
              "      <td>269.0</td>\n",
              "      <td>13.8</td>\n",
              "      <td>72.65</td>\n",
              "      <td>1002.5</td>\n",
              "      <td>1.0</td>\n",
              "      <td>4.9</td>\n",
              "      <td>1.0</td>\n",
              "      <td>0.0</td>\n",
              "      <td>32.0</td>\n",
              "      <td>3.0</td>\n",
              "      <td>150.5</td>\n",
              "      <td>37.0</td>\n",
              "      <td>2.0</td>\n",
              "      <td>0.0</td>\n",
              "      <td>1.0</td>\n",
              "      <td>3.4</td>\n",
              "      <td>610.0</td>\n",
              "      <td>74.8</td>\n",
              "      <td>606.0</td>\n",
              "      <td>2.0</td>\n",
              "    </tr>\n",
              "    <tr>\n",
              "      <th>3</th>\n",
              "      <td>10027</td>\n",
              "      <td>-0.764706</td>\n",
              "      <td>22.323529</td>\n",
              "      <td>1.151667</td>\n",
              "      <td>126.696970</td>\n",
              "      <td>24.833333</td>\n",
              "      <td>8.300</td>\n",
              "      <td>2.166611</td>\n",
              "      <td>2.000000</td>\n",
              "      <td>65.170681</td>\n",
              "      <td>31.411765</td>\n",
              "      <td>6.384682</td>\n",
              "      <td>7.449459</td>\n",
              "      <td>183.323529</td>\n",
              "      <td>4.461765</td>\n",
              "      <td>36.300000</td>\n",
              "      <td>609.028904</td>\n",
              "      <td>8.400000</td>\n",
              "      <td>74.200000</td>\n",
              "      <td>4.500000</td>\n",
              "      <td>72.0</td>\n",
              "      <td>87.000000</td>\n",
              "      <td>15.333333</td>\n",
              "      <td>109.000000</td>\n",
              "      <td>24.18750</td>\n",
              "      <td>2.175</td>\n",
              "      <td>8.500000</td>\n",
              "      <td>106.437500</td>\n",
              "      <td>446.854324</td>\n",
              "      <td>2.252632</td>\n",
              "      <td>166.799014</td>\n",
              "      <td>179.769231</td>\n",
              "      <td>360.441124</td>\n",
              "      <td>59.480840</td>\n",
              "      <td>2.812500</td>\n",
              "      <td>9.679334</td>\n",
              "      <td>4.657143</td>\n",
              "      <td>4.292308</td>\n",
              "      <td>142.266667</td>\n",
              "      <td>55.526316</td>\n",
              "      <td>...</td>\n",
              "      <td>4.05</td>\n",
              "      <td>3.65</td>\n",
              "      <td>0.4</td>\n",
              "      <td>0.98</td>\n",
              "      <td>12.6</td>\n",
              "      <td>2.857143</td>\n",
              "      <td>1.0</td>\n",
              "      <td>109.125</td>\n",
              "      <td>2.5</td>\n",
              "      <td>52.5</td>\n",
              "      <td>1.0</td>\n",
              "      <td>1.0</td>\n",
              "      <td>0.4</td>\n",
              "      <td>3.0</td>\n",
              "      <td>10.0</td>\n",
              "      <td>40.5</td>\n",
              "      <td>78.0</td>\n",
              "      <td>1.009</td>\n",
              "      <td>55.5</td>\n",
              "      <td>8.958525</td>\n",
              "      <td>269.0</td>\n",
              "      <td>13.8</td>\n",
              "      <td>72.65</td>\n",
              "      <td>1002.5</td>\n",
              "      <td>1.0</td>\n",
              "      <td>4.9</td>\n",
              "      <td>1.0</td>\n",
              "      <td>0.0</td>\n",
              "      <td>32.0</td>\n",
              "      <td>3.0</td>\n",
              "      <td>150.5</td>\n",
              "      <td>37.0</td>\n",
              "      <td>2.0</td>\n",
              "      <td>0.0</td>\n",
              "      <td>1.0</td>\n",
              "      <td>3.4</td>\n",
              "      <td>610.0</td>\n",
              "      <td>74.8</td>\n",
              "      <td>606.0</td>\n",
              "      <td>2.0</td>\n",
              "    </tr>\n",
              "    <tr>\n",
              "      <th>4</th>\n",
              "      <td>10028</td>\n",
              "      <td>-2.272727</td>\n",
              "      <td>24.090909</td>\n",
              "      <td>1.189000</td>\n",
              "      <td>132.928571</td>\n",
              "      <td>28.600000</td>\n",
              "      <td>9.560</td>\n",
              "      <td>1.000000</td>\n",
              "      <td>11.352035</td>\n",
              "      <td>65.170681</td>\n",
              "      <td>40.545455</td>\n",
              "      <td>6.384682</td>\n",
              "      <td>7.354286</td>\n",
              "      <td>271.272727</td>\n",
              "      <td>4.466667</td>\n",
              "      <td>37.800000</td>\n",
              "      <td>609.028904</td>\n",
              "      <td>6.504683</td>\n",
              "      <td>27.000000</td>\n",
              "      <td>3.900000</td>\n",
              "      <td>92.5</td>\n",
              "      <td>74.461687</td>\n",
              "      <td>13.500000</td>\n",
              "      <td>21.500000</td>\n",
              "      <td>22.40000</td>\n",
              "      <td>0.100</td>\n",
              "      <td>7.900000</td>\n",
              "      <td>106.600000</td>\n",
              "      <td>446.854324</td>\n",
              "      <td>0.640000</td>\n",
              "      <td>166.799014</td>\n",
              "      <td>112.750000</td>\n",
              "      <td>162.000000</td>\n",
              "      <td>59.480840</td>\n",
              "      <td>1.833333</td>\n",
              "      <td>9.679334</td>\n",
              "      <td>5.200000</td>\n",
              "      <td>4.175000</td>\n",
              "      <td>139.000000</td>\n",
              "      <td>14.600000</td>\n",
              "      <td>...</td>\n",
              "      <td>4.05</td>\n",
              "      <td>3.65</td>\n",
              "      <td>0.4</td>\n",
              "      <td>0.98</td>\n",
              "      <td>12.6</td>\n",
              "      <td>2.857143</td>\n",
              "      <td>1.0</td>\n",
              "      <td>109.125</td>\n",
              "      <td>2.5</td>\n",
              "      <td>52.5</td>\n",
              "      <td>1.0</td>\n",
              "      <td>1.0</td>\n",
              "      <td>0.4</td>\n",
              "      <td>3.0</td>\n",
              "      <td>10.0</td>\n",
              "      <td>40.5</td>\n",
              "      <td>78.0</td>\n",
              "      <td>1.009</td>\n",
              "      <td>55.5</td>\n",
              "      <td>8.958525</td>\n",
              "      <td>269.0</td>\n",
              "      <td>13.8</td>\n",
              "      <td>72.65</td>\n",
              "      <td>1002.5</td>\n",
              "      <td>1.0</td>\n",
              "      <td>4.9</td>\n",
              "      <td>1.0</td>\n",
              "      <td>0.0</td>\n",
              "      <td>32.0</td>\n",
              "      <td>3.0</td>\n",
              "      <td>150.5</td>\n",
              "      <td>37.0</td>\n",
              "      <td>2.0</td>\n",
              "      <td>0.0</td>\n",
              "      <td>1.0</td>\n",
              "      <td>3.4</td>\n",
              "      <td>610.0</td>\n",
              "      <td>74.8</td>\n",
              "      <td>606.0</td>\n",
              "      <td>2.0</td>\n",
              "    </tr>\n",
              "  </tbody>\n",
              "</table>\n",
              "<p>5 rows × 439 columns</p>\n",
              "</div>"
            ],
            "text/plain": [
              "   SUBJECT_ID  Base Excess  Calculated Total CO2  ...  CD10  CD19.1  CD20\n",
              "0       10004     1.080000             25.680000  ...  74.8   606.0   2.0\n",
              "1       10006     8.500000             33.500000  ...  74.8   606.0   2.0\n",
              "2       10012     0.857143             27.571429  ...  74.8   606.0   2.0\n",
              "3       10027    -0.764706             22.323529  ...  74.8   606.0   2.0\n",
              "4       10028    -2.272727             24.090909  ...  74.8   606.0   2.0\n",
              "\n",
              "[5 rows x 439 columns]"
            ]
          },
          "metadata": {
            "tags": []
          },
          "execution_count": 46
        }
      ]
    },
    {
      "cell_type": "markdown",
      "metadata": {
        "id": "C-eRO5jK8l4E"
      },
      "source": [
        "Let's save ```filledna_processed_nontext``` as a csv. "
      ]
    },
    {
      "cell_type": "code",
      "metadata": {
        "id": "gDLvC8q38pP7"
      },
      "source": [
        "filledna_processed_nontext.to_csv(\"/content/drive/MyDrive/cbb 750 final/filledna_processed_nontext.csv\")"
      ],
      "execution_count": null,
      "outputs": []
    },
    {
      "cell_type": "markdown",
      "metadata": {
        "id": "bgTXWvNmiJOt"
      },
      "source": [
        "### Create a merged text-nontext df and generate labels\n",
        "\n",
        "We're merging ```filledna_processed_nontext``` and ```textVectorMat``` on ```SUBJECT_ID.``` Just to be extra cautious, in case the row order got messed up in the merge, we'll regenerate the labels. \n",
        "\n",
        "You'll also notice I'm merging ```textVectorMat```, not ```textDataMat```. That's because I still need that ```ICD9_CODE``` column to make my labels. "
      ]
    },
    {
      "cell_type": "code",
      "metadata": {
        "colab": {
          "base_uri": "https://localhost:8080/",
          "height": 328
        },
        "id": "tnOSgPJriMpT",
        "outputId": "7740eb08-8b89-47f9-a68c-a44848ef02fc"
      },
      "source": [
        "# merge the datasets\n",
        "textNontextMerge = pd.merge(textVectorMat, filledna_processed_nontext, on='SUBJECT_ID')\n",
        "\n",
        "# I know this is repetitive! Just leave it for now... these are the icd codes\n",
        "# we do cm=0, cad-1\n",
        "cm = [42511, 42518, 4254]\n",
        "cad = [44029, 4409, 41401, 4143]\n",
        "\n",
        "# this array contains all the ICD codes in order\n",
        "codes = textNontextMerge['ICD9_CODE'].tolist()\n",
        "\n",
        "# this array will contain all the data labels in order\n",
        "text_nontext_labels = []\n",
        "\n",
        "# iterate through the rows of textVectorMat and create labels \n",
        "for i in range(len(codes)):\n",
        "\n",
        "  # grab the icd code from row i\n",
        "  icd = codes[i]\n",
        "\n",
        "  # if the icd code is a CM one, append 0 to labels, else if it's CAD append 1\n",
        "  if icd in cm: \n",
        "    text_nontext_labels.append(0)\n",
        "  else: \n",
        "    text_nontext_labels.append(1)\n",
        "\n",
        "# ensure that the length of the list of labels is the same as the length of codes\n",
        "print(\"labels:\", len(text_nontext_labels))\n",
        "print(\"codes:\", len(codes))\n",
        "\n",
        "# let's get rid of the icd9 codes column now oso it doesn't confound our results--axis=1 tells it to drop a column\n",
        "textNontextData = textNontextMerge.drop('ICD9_CODE', axis=1)\n",
        "\n",
        "# check our work\n",
        "textNontextData.head()"
      ],
      "execution_count": 47,
      "outputs": [
        {
          "output_type": "stream",
          "text": [
            "labels: 11567\n",
            "codes: 11567\n"
          ],
          "name": "stdout"
        },
        {
          "output_type": "execute_result",
          "data": {
            "text/html": [
              "<div>\n",
              "<style scoped>\n",
              "    .dataframe tbody tr th:only-of-type {\n",
              "        vertical-align: middle;\n",
              "    }\n",
              "\n",
              "    .dataframe tbody tr th {\n",
              "        vertical-align: top;\n",
              "    }\n",
              "\n",
              "    .dataframe thead th {\n",
              "        text-align: right;\n",
              "    }\n",
              "</style>\n",
              "<table border=\"1\" class=\"dataframe\">\n",
              "  <thead>\n",
              "    <tr style=\"text-align: right;\">\n",
              "      <th></th>\n",
              "      <th>SUBJECT_ID</th>\n",
              "      <th>1</th>\n",
              "      <th>2</th>\n",
              "      <th>3</th>\n",
              "      <th>4</th>\n",
              "      <th>5</th>\n",
              "      <th>6</th>\n",
              "      <th>7</th>\n",
              "      <th>8</th>\n",
              "      <th>9</th>\n",
              "      <th>10</th>\n",
              "      <th>11</th>\n",
              "      <th>12</th>\n",
              "      <th>13</th>\n",
              "      <th>14</th>\n",
              "      <th>15</th>\n",
              "      <th>16</th>\n",
              "      <th>17</th>\n",
              "      <th>18</th>\n",
              "      <th>19</th>\n",
              "      <th>20</th>\n",
              "      <th>21</th>\n",
              "      <th>22</th>\n",
              "      <th>23</th>\n",
              "      <th>24</th>\n",
              "      <th>25</th>\n",
              "      <th>26</th>\n",
              "      <th>27</th>\n",
              "      <th>28</th>\n",
              "      <th>29</th>\n",
              "      <th>30</th>\n",
              "      <th>31</th>\n",
              "      <th>32</th>\n",
              "      <th>33</th>\n",
              "      <th>34</th>\n",
              "      <th>35</th>\n",
              "      <th>36</th>\n",
              "      <th>37</th>\n",
              "      <th>38</th>\n",
              "      <th>39</th>\n",
              "      <th>...</th>\n",
              "      <th>Bicarbonate.1</th>\n",
              "      <th>Other Fluid.3</th>\n",
              "      <th>Chloride.3</th>\n",
              "      <th>Body Fluid.7</th>\n",
              "      <th>Sodium.3</th>\n",
              "      <th>Body Fluid.8</th>\n",
              "      <th>Thyroglobulin</th>\n",
              "      <th>Hematocrit.5</th>\n",
              "      <th>Pleural.9</th>\n",
              "      <th>Leukocyte Alkaline Phosphatase</th>\n",
              "      <th>Basophils.3</th>\n",
              "      <th>CA-125</th>\n",
              "      <th>NRBC</th>\n",
              "      <th>Hematocrit.6</th>\n",
              "      <th>Joint Fluid.2</th>\n",
              "      <th>Anti-Thyroglobulin Antibodies</th>\n",
              "      <th>Bands.5</th>\n",
              "      <th>Cellular Cast</th>\n",
              "      <th>Human Chorionic Gonadotropin</th>\n",
              "      <th>Fetal Hemoglobin</th>\n",
              "      <th>WBC Casts</th>\n",
              "      <th>Creatinine.6</th>\n",
              "      <th>Joint Fluid.3</th>\n",
              "      <th>CD19</th>\n",
              "      <th>CD3</th>\n",
              "      <th>CD34</th>\n",
              "      <th>Cancer Antigen 27.29</th>\n",
              "      <th>Carbamazepine</th>\n",
              "      <th>Phenobarbital</th>\n",
              "      <th>Glucose.7</th>\n",
              "      <th>Joint Fluid.4</th>\n",
              "      <th>LD.1</th>\n",
              "      <th>Joint Fluid.5</th>\n",
              "      <th>Heparin.1</th>\n",
              "      <th>Cholesterol.4</th>\n",
              "      <th>Pleural.10</th>\n",
              "      <th>Bleeding Time</th>\n",
              "      <th>CD10</th>\n",
              "      <th>CD19.1</th>\n",
              "      <th>CD20</th>\n",
              "    </tr>\n",
              "  </thead>\n",
              "  <tbody>\n",
              "    <tr>\n",
              "      <th>0</th>\n",
              "      <td>3.0</td>\n",
              "      <td>0.089619</td>\n",
              "      <td>0.052252</td>\n",
              "      <td>-0.021826</td>\n",
              "      <td>-0.132506</td>\n",
              "      <td>-0.042356</td>\n",
              "      <td>0.020319</td>\n",
              "      <td>-0.084637</td>\n",
              "      <td>0.043567</td>\n",
              "      <td>0.085690</td>\n",
              "      <td>0.104131</td>\n",
              "      <td>-0.219261</td>\n",
              "      <td>-0.006841</td>\n",
              "      <td>-0.014735</td>\n",
              "      <td>-0.139518</td>\n",
              "      <td>-0.126344</td>\n",
              "      <td>-0.033304</td>\n",
              "      <td>-0.143157</td>\n",
              "      <td>0.069089</td>\n",
              "      <td>0.030358</td>\n",
              "      <td>-0.045158</td>\n",
              "      <td>-0.019508</td>\n",
              "      <td>0.108177</td>\n",
              "      <td>-0.038788</td>\n",
              "      <td>0.039120</td>\n",
              "      <td>-0.099599</td>\n",
              "      <td>0.036201</td>\n",
              "      <td>0.063405</td>\n",
              "      <td>0.127625</td>\n",
              "      <td>-0.119434</td>\n",
              "      <td>0.061013</td>\n",
              "      <td>0.061452</td>\n",
              "      <td>0.048295</td>\n",
              "      <td>-0.012672</td>\n",
              "      <td>0.107825</td>\n",
              "      <td>0.027430</td>\n",
              "      <td>-0.062734</td>\n",
              "      <td>-0.116579</td>\n",
              "      <td>-0.235131</td>\n",
              "      <td>0.187460</td>\n",
              "      <td>...</td>\n",
              "      <td>4.05</td>\n",
              "      <td>3.65</td>\n",
              "      <td>0.4</td>\n",
              "      <td>0.98</td>\n",
              "      <td>12.6</td>\n",
              "      <td>2.857143</td>\n",
              "      <td>1.0</td>\n",
              "      <td>109.125</td>\n",
              "      <td>2.5</td>\n",
              "      <td>52.5</td>\n",
              "      <td>1.0</td>\n",
              "      <td>1.0</td>\n",
              "      <td>0.4</td>\n",
              "      <td>3.0</td>\n",
              "      <td>10.0</td>\n",
              "      <td>40.5</td>\n",
              "      <td>78.0</td>\n",
              "      <td>1.009</td>\n",
              "      <td>55.5</td>\n",
              "      <td>8.958525</td>\n",
              "      <td>269.0</td>\n",
              "      <td>13.8</td>\n",
              "      <td>72.65</td>\n",
              "      <td>1002.5</td>\n",
              "      <td>1.0</td>\n",
              "      <td>4.9</td>\n",
              "      <td>1.0</td>\n",
              "      <td>0.0</td>\n",
              "      <td>32.0</td>\n",
              "      <td>3.0</td>\n",
              "      <td>150.5</td>\n",
              "      <td>37.0</td>\n",
              "      <td>2.0</td>\n",
              "      <td>0.0</td>\n",
              "      <td>1.0</td>\n",
              "      <td>3.4</td>\n",
              "      <td>610.0</td>\n",
              "      <td>74.8</td>\n",
              "      <td>606.0</td>\n",
              "      <td>2.0</td>\n",
              "    </tr>\n",
              "    <tr>\n",
              "      <th>1</th>\n",
              "      <td>32773.0</td>\n",
              "      <td>0.037900</td>\n",
              "      <td>1.280599</td>\n",
              "      <td>-1.198802</td>\n",
              "      <td>0.236180</td>\n",
              "      <td>0.036370</td>\n",
              "      <td>0.675872</td>\n",
              "      <td>0.629112</td>\n",
              "      <td>-0.130225</td>\n",
              "      <td>-0.412718</td>\n",
              "      <td>-0.481339</td>\n",
              "      <td>-0.866408</td>\n",
              "      <td>-1.255346</td>\n",
              "      <td>-0.127753</td>\n",
              "      <td>-0.838678</td>\n",
              "      <td>-0.183744</td>\n",
              "      <td>0.261498</td>\n",
              "      <td>-0.780474</td>\n",
              "      <td>0.100076</td>\n",
              "      <td>-1.211127</td>\n",
              "      <td>-0.110204</td>\n",
              "      <td>0.907868</td>\n",
              "      <td>-0.535597</td>\n",
              "      <td>0.010343</td>\n",
              "      <td>0.583626</td>\n",
              "      <td>-1.014816</td>\n",
              "      <td>-0.214748</td>\n",
              "      <td>-0.694396</td>\n",
              "      <td>0.450970</td>\n",
              "      <td>-1.105321</td>\n",
              "      <td>0.560375</td>\n",
              "      <td>0.917860</td>\n",
              "      <td>1.386539</td>\n",
              "      <td>0.841052</td>\n",
              "      <td>-0.044471</td>\n",
              "      <td>-0.230938</td>\n",
              "      <td>-0.304300</td>\n",
              "      <td>-1.274919</td>\n",
              "      <td>0.285135</td>\n",
              "      <td>1.499454</td>\n",
              "      <td>...</td>\n",
              "      <td>4.05</td>\n",
              "      <td>3.65</td>\n",
              "      <td>0.4</td>\n",
              "      <td>0.98</td>\n",
              "      <td>12.6</td>\n",
              "      <td>2.857143</td>\n",
              "      <td>1.0</td>\n",
              "      <td>109.125</td>\n",
              "      <td>2.5</td>\n",
              "      <td>52.5</td>\n",
              "      <td>1.0</td>\n",
              "      <td>1.0</td>\n",
              "      <td>0.4</td>\n",
              "      <td>3.0</td>\n",
              "      <td>10.0</td>\n",
              "      <td>40.5</td>\n",
              "      <td>78.0</td>\n",
              "      <td>1.009</td>\n",
              "      <td>55.5</td>\n",
              "      <td>8.958525</td>\n",
              "      <td>269.0</td>\n",
              "      <td>13.8</td>\n",
              "      <td>72.65</td>\n",
              "      <td>1002.5</td>\n",
              "      <td>1.0</td>\n",
              "      <td>4.9</td>\n",
              "      <td>1.0</td>\n",
              "      <td>0.0</td>\n",
              "      <td>32.0</td>\n",
              "      <td>3.0</td>\n",
              "      <td>150.5</td>\n",
              "      <td>37.0</td>\n",
              "      <td>2.0</td>\n",
              "      <td>0.0</td>\n",
              "      <td>1.0</td>\n",
              "      <td>3.4</td>\n",
              "      <td>610.0</td>\n",
              "      <td>74.8</td>\n",
              "      <td>606.0</td>\n",
              "      <td>2.0</td>\n",
              "    </tr>\n",
              "    <tr>\n",
              "      <th>2</th>\n",
              "      <td>98310.0</td>\n",
              "      <td>0.024405</td>\n",
              "      <td>0.060916</td>\n",
              "      <td>-0.026240</td>\n",
              "      <td>0.021904</td>\n",
              "      <td>0.080968</td>\n",
              "      <td>0.030698</td>\n",
              "      <td>0.032310</td>\n",
              "      <td>0.059482</td>\n",
              "      <td>0.101521</td>\n",
              "      <td>-0.012271</td>\n",
              "      <td>-0.015543</td>\n",
              "      <td>-0.016276</td>\n",
              "      <td>-0.039184</td>\n",
              "      <td>-0.092102</td>\n",
              "      <td>-0.005182</td>\n",
              "      <td>0.027718</td>\n",
              "      <td>-0.018830</td>\n",
              "      <td>0.103265</td>\n",
              "      <td>-0.021820</td>\n",
              "      <td>0.013832</td>\n",
              "      <td>0.071203</td>\n",
              "      <td>-0.038152</td>\n",
              "      <td>0.025562</td>\n",
              "      <td>0.082105</td>\n",
              "      <td>-0.059190</td>\n",
              "      <td>0.031065</td>\n",
              "      <td>-0.050113</td>\n",
              "      <td>-0.014605</td>\n",
              "      <td>-0.144139</td>\n",
              "      <td>0.020603</td>\n",
              "      <td>0.064529</td>\n",
              "      <td>0.017136</td>\n",
              "      <td>0.052589</td>\n",
              "      <td>0.030546</td>\n",
              "      <td>0.161288</td>\n",
              "      <td>-0.000127</td>\n",
              "      <td>-0.034574</td>\n",
              "      <td>-0.058918</td>\n",
              "      <td>0.058101</td>\n",
              "      <td>...</td>\n",
              "      <td>4.05</td>\n",
              "      <td>3.65</td>\n",
              "      <td>0.4</td>\n",
              "      <td>0.98</td>\n",
              "      <td>12.6</td>\n",
              "      <td>2.857143</td>\n",
              "      <td>1.0</td>\n",
              "      <td>109.125</td>\n",
              "      <td>2.5</td>\n",
              "      <td>52.5</td>\n",
              "      <td>1.0</td>\n",
              "      <td>1.0</td>\n",
              "      <td>0.4</td>\n",
              "      <td>3.0</td>\n",
              "      <td>10.0</td>\n",
              "      <td>40.5</td>\n",
              "      <td>78.0</td>\n",
              "      <td>1.009</td>\n",
              "      <td>55.5</td>\n",
              "      <td>8.958525</td>\n",
              "      <td>269.0</td>\n",
              "      <td>13.8</td>\n",
              "      <td>72.65</td>\n",
              "      <td>1002.5</td>\n",
              "      <td>1.0</td>\n",
              "      <td>4.9</td>\n",
              "      <td>1.0</td>\n",
              "      <td>0.0</td>\n",
              "      <td>32.0</td>\n",
              "      <td>3.0</td>\n",
              "      <td>150.5</td>\n",
              "      <td>37.0</td>\n",
              "      <td>2.0</td>\n",
              "      <td>0.0</td>\n",
              "      <td>1.0</td>\n",
              "      <td>3.4</td>\n",
              "      <td>610.0</td>\n",
              "      <td>74.8</td>\n",
              "      <td>606.0</td>\n",
              "      <td>2.0</td>\n",
              "    </tr>\n",
              "    <tr>\n",
              "      <th>3</th>\n",
              "      <td>32777.0</td>\n",
              "      <td>-0.058894</td>\n",
              "      <td>0.125515</td>\n",
              "      <td>-0.179003</td>\n",
              "      <td>-0.047523</td>\n",
              "      <td>0.103142</td>\n",
              "      <td>0.034124</td>\n",
              "      <td>0.132231</td>\n",
              "      <td>0.001654</td>\n",
              "      <td>0.015504</td>\n",
              "      <td>0.021795</td>\n",
              "      <td>-0.049052</td>\n",
              "      <td>-0.045138</td>\n",
              "      <td>-0.053557</td>\n",
              "      <td>-0.013687</td>\n",
              "      <td>-0.074895</td>\n",
              "      <td>0.009845</td>\n",
              "      <td>-0.089473</td>\n",
              "      <td>0.105494</td>\n",
              "      <td>-0.091908</td>\n",
              "      <td>0.024627</td>\n",
              "      <td>0.140748</td>\n",
              "      <td>-0.070351</td>\n",
              "      <td>0.037351</td>\n",
              "      <td>0.080342</td>\n",
              "      <td>-0.041521</td>\n",
              "      <td>-0.077045</td>\n",
              "      <td>-0.019391</td>\n",
              "      <td>0.137661</td>\n",
              "      <td>-0.091484</td>\n",
              "      <td>-0.001705</td>\n",
              "      <td>0.088464</td>\n",
              "      <td>0.063729</td>\n",
              "      <td>0.093147</td>\n",
              "      <td>-0.015200</td>\n",
              "      <td>0.032918</td>\n",
              "      <td>-0.033387</td>\n",
              "      <td>-0.048630</td>\n",
              "      <td>-0.008626</td>\n",
              "      <td>0.092127</td>\n",
              "      <td>...</td>\n",
              "      <td>4.05</td>\n",
              "      <td>3.65</td>\n",
              "      <td>0.4</td>\n",
              "      <td>0.98</td>\n",
              "      <td>12.6</td>\n",
              "      <td>2.857143</td>\n",
              "      <td>1.0</td>\n",
              "      <td>109.125</td>\n",
              "      <td>2.5</td>\n",
              "      <td>52.5</td>\n",
              "      <td>1.0</td>\n",
              "      <td>1.0</td>\n",
              "      <td>0.4</td>\n",
              "      <td>3.0</td>\n",
              "      <td>10.0</td>\n",
              "      <td>40.5</td>\n",
              "      <td>78.0</td>\n",
              "      <td>1.009</td>\n",
              "      <td>55.5</td>\n",
              "      <td>8.958525</td>\n",
              "      <td>269.0</td>\n",
              "      <td>13.8</td>\n",
              "      <td>72.65</td>\n",
              "      <td>1002.5</td>\n",
              "      <td>1.0</td>\n",
              "      <td>4.9</td>\n",
              "      <td>1.0</td>\n",
              "      <td>0.0</td>\n",
              "      <td>32.0</td>\n",
              "      <td>3.0</td>\n",
              "      <td>150.5</td>\n",
              "      <td>37.0</td>\n",
              "      <td>2.0</td>\n",
              "      <td>0.0</td>\n",
              "      <td>1.0</td>\n",
              "      <td>3.4</td>\n",
              "      <td>610.0</td>\n",
              "      <td>74.8</td>\n",
              "      <td>606.0</td>\n",
              "      <td>2.0</td>\n",
              "    </tr>\n",
              "    <tr>\n",
              "      <th>4</th>\n",
              "      <td>32779.0</td>\n",
              "      <td>0.297727</td>\n",
              "      <td>0.764129</td>\n",
              "      <td>-0.795565</td>\n",
              "      <td>0.136611</td>\n",
              "      <td>0.338586</td>\n",
              "      <td>0.258101</td>\n",
              "      <td>0.461119</td>\n",
              "      <td>-0.199550</td>\n",
              "      <td>-0.159668</td>\n",
              "      <td>-0.013619</td>\n",
              "      <td>-0.318710</td>\n",
              "      <td>-0.561159</td>\n",
              "      <td>0.275471</td>\n",
              "      <td>-0.868465</td>\n",
              "      <td>-0.381168</td>\n",
              "      <td>0.197238</td>\n",
              "      <td>-0.805438</td>\n",
              "      <td>0.215284</td>\n",
              "      <td>-0.492362</td>\n",
              "      <td>-0.644972</td>\n",
              "      <td>0.410759</td>\n",
              "      <td>-0.390505</td>\n",
              "      <td>0.617100</td>\n",
              "      <td>1.397771</td>\n",
              "      <td>-1.371298</td>\n",
              "      <td>-0.072344</td>\n",
              "      <td>-0.981251</td>\n",
              "      <td>0.457815</td>\n",
              "      <td>-0.734514</td>\n",
              "      <td>0.033783</td>\n",
              "      <td>1.371656</td>\n",
              "      <td>1.306443</td>\n",
              "      <td>-0.337575</td>\n",
              "      <td>0.030454</td>\n",
              "      <td>0.217532</td>\n",
              "      <td>-0.695523</td>\n",
              "      <td>-0.639070</td>\n",
              "      <td>-0.159521</td>\n",
              "      <td>1.796250</td>\n",
              "      <td>...</td>\n",
              "      <td>4.05</td>\n",
              "      <td>3.65</td>\n",
              "      <td>0.4</td>\n",
              "      <td>0.98</td>\n",
              "      <td>12.6</td>\n",
              "      <td>2.857143</td>\n",
              "      <td>1.0</td>\n",
              "      <td>109.125</td>\n",
              "      <td>2.5</td>\n",
              "      <td>52.5</td>\n",
              "      <td>1.0</td>\n",
              "      <td>1.0</td>\n",
              "      <td>0.4</td>\n",
              "      <td>3.0</td>\n",
              "      <td>10.0</td>\n",
              "      <td>40.5</td>\n",
              "      <td>78.0</td>\n",
              "      <td>1.009</td>\n",
              "      <td>55.5</td>\n",
              "      <td>8.958525</td>\n",
              "      <td>269.0</td>\n",
              "      <td>13.8</td>\n",
              "      <td>72.65</td>\n",
              "      <td>1002.5</td>\n",
              "      <td>1.0</td>\n",
              "      <td>4.9</td>\n",
              "      <td>1.0</td>\n",
              "      <td>0.0</td>\n",
              "      <td>32.0</td>\n",
              "      <td>3.0</td>\n",
              "      <td>150.5</td>\n",
              "      <td>37.0</td>\n",
              "      <td>2.0</td>\n",
              "      <td>0.0</td>\n",
              "      <td>1.0</td>\n",
              "      <td>3.4</td>\n",
              "      <td>610.0</td>\n",
              "      <td>74.8</td>\n",
              "      <td>606.0</td>\n",
              "      <td>2.0</td>\n",
              "    </tr>\n",
              "  </tbody>\n",
              "</table>\n",
              "<p>5 rows × 877 columns</p>\n",
              "</div>"
            ],
            "text/plain": [
              "   SUBJECT_ID         1         2         3  ...  Bleeding Time  CD10  CD19.1  CD20\n",
              "0         3.0  0.089619  0.052252 -0.021826  ...          610.0  74.8   606.0   2.0\n",
              "1     32773.0  0.037900  1.280599 -1.198802  ...          610.0  74.8   606.0   2.0\n",
              "2     98310.0  0.024405  0.060916 -0.026240  ...          610.0  74.8   606.0   2.0\n",
              "3     32777.0 -0.058894  0.125515 -0.179003  ...          610.0  74.8   606.0   2.0\n",
              "4     32779.0  0.297727  0.764129 -0.795565  ...          610.0  74.8   606.0   2.0\n",
              "\n",
              "[5 rows x 877 columns]"
            ]
          },
          "metadata": {
            "tags": []
          },
          "execution_count": 47
        }
      ]
    },
    {
      "cell_type": "markdown",
      "metadata": {
        "id": "GwW4iNLa9JUn"
      },
      "source": [
        "Let's create a csv from ```textNontextData```. "
      ]
    },
    {
      "cell_type": "code",
      "metadata": {
        "id": "ctbY7DF39N_c"
      },
      "source": [
        "textNontextData.to_csv(\"/content/drive/MyDrive/cbb 750 final/text_nontext_data.csv\")"
      ],
      "execution_count": null,
      "outputs": []
    },
    {
      "cell_type": "markdown",
      "metadata": {
        "id": "yPRlpqm0X07K"
      },
      "source": [
        "## From here we can start classifying our data. \n",
        "\n",
        "To reiterate from the beginning of the script, we'll be using the following classification approaches: \n",
        "\n",
        "* We classify using GLM [logistic regression], decision tree, SVM, random forest and majority vote\n",
        "  * We run GLM and decision tree with [AdaBoost](https://scikit-learn.org/stable/modules/generated/sklearn.ensemble.AdaBoostClassifier.html) to see if this will improve performance\n",
        "  * We run majority vote to see if a consensus approach will improve performance. We use all other classifiers for the vote, namely:\n",
        "    * GLM \n",
        "    * GLM with boosting\n",
        "    * Decision tree\n",
        "    * Decision tree with boosting\n",
        "    * SVM\n",
        "    * Random forest\n",
        "* We run k-fold cross validation [k=10] to more robustly assess classifier accuracy beyond counting misclassified points\n",
        "* We generate ROC curves/AUC for each classifier to provide another estimate of performance beyond accuracy \n",
        "* We check feature importance [when possible, not all models, like SVM with nonlinear kernel, allow] to better understand why our model performance is often not great "
      ]
    },
    {
      "cell_type": "markdown",
      "metadata": {
        "id": "Ick1RkWCMKjx"
      },
      "source": [
        "### Splitting data into train/test\n",
        "\n",
        "First we need to split the dataset into train/test. \n",
        "\n",
        "We'll use the same train/test sets for each classifier to ensure that our results are comparable and keep the partition size [70-30 train-test] the same across classification tasks [if I changed the train/test split in each iteration, we can't tell if performance is increased/decreased because of the train/test split or the model]. "
      ]
    },
    {
      "cell_type": "code",
      "metadata": {
        "id": "YquZ1dNRMNwX"
      },
      "source": [
        "# first split the dataset into train/test/split\n",
        "\n",
        "# this contains all the datasets/their associated labels, e.g. the label for dataset[0] is labels[0]\n",
        "# yes--if I were running this in a regular script I would loop over these instead of working on them one at a time\n",
        "datasets = [filledna_processed_nontext, textDataMat, textNontextData]\n",
        "labels = [nontext_labels, text_labels, text_nontext_labels]\n",
        "\n",
        "# split into train/test sets\n",
        "\n",
        "# select the task index, e.g. datasets[taskind] = \"textDataMat\" for taskind = 1\n",
        "# the three \"tasks\" would be non-text-based classification, text-based classification and text+non-text-based classification\n",
        "taskind = 2\n",
        "\n",
        "# run a train-test split\n",
        "xtrain, xtest, ytrain, ytest = train_test_split(datasets[taskind],labels[taskind],train_size=0.7,random_state=3) #prev filledna_processed_nontext"
      ],
      "execution_count": 78,
      "outputs": []
    },
    {
      "cell_type": "markdown",
      "metadata": {
        "id": "4AR-s-sqgQyO"
      },
      "source": [
        "## Non-ensemble classification approaches\n",
        "\n",
        "We'll be running the following approaches: \n",
        "\n",
        "\n",
        "\n",
        "*   GLM [logistic regression]\n",
        "*   GLM with AdaBoost\n",
        "*   Decision tree\n",
        "*   Decision tree with AdaBoost\n",
        "*   SVM\n",
        "\n"
      ]
    },
    {
      "cell_type": "markdown",
      "metadata": {
        "id": "D0sZpx54Yboc"
      },
      "source": [
        "### GLM classification\n",
        "\n",
        "We're going to just run logistic regression here since that's pretty standard for a GLM. For a deeper look into logistic regression for machine learning, [this](https://kambria.io/blog/logistic-regression-for-machine-learning/) site can help. "
      ]
    },
    {
      "cell_type": "code",
      "metadata": {
        "id": "XdkpFIQCJmhp",
        "colab": {
          "base_uri": "https://localhost:8080/"
        },
        "outputId": "b470886b-f915-43f9-cc6c-c9974186fa5b"
      },
      "source": [
        "# initialize the regression --random_state just makes these results reproducible\n",
        "# the 'ovr' parameter makes this into a binary classification problem\n",
        "# liblinear is supposedly \"a good choice for smaller datasets\" https://scikit-learn.org/stable/modules/generated/sklearn.linear_model.LogisticRegression.html\n",
        "# lbfgs runs way faster for adaboost than liblinear, possibly because it doesn't shuffle the data\n",
        "LR = LogisticRegression(random_state = 0, solver='lbfgs', multi_class='ovr')\n",
        "\n",
        "# predict the test data's labels\n",
        "LRPred = LR.fit(xtrain, ytrain).predict(xtest)\n",
        "\n",
        "# compute the numerical error\n",
        "numLRError = (LRPred != ytest).sum()\n",
        "\n",
        "# calculate the percent error--errors/(size of test set)*100\n",
        "LRError = float(numLRError/len(xtest))*100"
      ],
      "execution_count": 79,
      "outputs": [
        {
          "output_type": "stream",
          "text": [
            "/usr/local/lib/python3.7/dist-packages/sklearn/linear_model/_logistic.py:940: ConvergenceWarning: lbfgs failed to converge (status=1):\n",
            "STOP: TOTAL NO. of ITERATIONS REACHED LIMIT.\n",
            "\n",
            "Increase the number of iterations (max_iter) or scale the data as shown in:\n",
            "    https://scikit-learn.org/stable/modules/preprocessing.html\n",
            "Please also refer to the documentation for alternative solver options:\n",
            "    https://scikit-learn.org/stable/modules/linear_model.html#logistic-regression\n",
            "  extra_warning_msg=_LOGISTIC_SOLVER_CONVERGENCE_MSG)\n"
          ],
          "name": "stderr"
        }
      ]
    },
    {
      "cell_type": "markdown",
      "metadata": {
        "id": "rGUApH_RAQBA"
      },
      "source": [
        "What's the error rate [running outside the previous block for legibility]?"
      ]
    },
    {
      "cell_type": "code",
      "metadata": {
        "colab": {
          "base_uri": "https://localhost:8080/"
        },
        "id": "gDIwPot9AW1S",
        "outputId": "0d586d46-2253-4b5e-c562-f8f8a352be40"
      },
      "source": [
        "# What's the error rate?\n",
        "print(\"Out of \"+str(len(xtest))+\" points the GLM produced \"+str(numLRError)+\" errors, resulting in an error rate of \" + str(LRError)+\"%.\")"
      ],
      "execution_count": 80,
      "outputs": [
        {
          "output_type": "stream",
          "text": [
            "Out of 3471 points the GLM produced 404 errors, resulting in an error rate of 11.63929703255546%.\n"
          ],
          "name": "stdout"
        }
      ]
    },
    {
      "cell_type": "markdown",
      "metadata": {
        "id": "_f4-Eafi_LXm"
      },
      "source": [
        "#### K-fold cross validation for GLM\n",
        "\n",
        "We'll use this to provide a more robust estimation of our model's accuracy beyond counting the number of misclassified points in our test run above and to mitigate any biases introduced by the train-test split we chose for our data. \n",
        "\n",
        "We use 10 folds as that is fairly standard. Code adapted from [here](https://machinelearningmastery.com/repeated-k-fold-cross-validation-with-python/). Additionally, I think k-fold is a confusing concept to understand without graphics. There are some nice ones [here](https://towardsdatascience.com/why-and-how-to-cross-validate-a-model-d6424b45261f) that I used to get a better sense of how it works. "
      ]
    },
    {
      "cell_type": "code",
      "metadata": {
        "colab": {
          "base_uri": "https://localhost:8080/"
        },
        "id": "z35pV05D_PP_",
        "outputId": "a9012c7a-649b-48ee-a7d0-35ce7648091c"
      },
      "source": [
        "# prepare the cross-validation procedure\n",
        "cv = KFold(n_splits=10, random_state=1, shuffle=True)\n",
        "\n",
        "# get the task and associated labels\n",
        "task = datasets[taskind]\n",
        "lab = labels[taskind]\n",
        "\n",
        "# evaluate model--n_jobs = -1 means to use all processors\n",
        "# see https://scikit-learn.org/stable/modules/generated/sklearn.model_selection.cross_val_score.html \n",
        "LRscores = cross_val_score(LR, task, lab, scoring='accuracy', cv=cv, n_jobs=-1)\n",
        "\n",
        "# report performance--we take the average accuracy over all folds. 1- just gives us the error rate\n",
        "print(\"The k-fold cross-validated error rate is \" + str((1-np.mean(LRscores))*100)+ \"%.\")"
      ],
      "execution_count": 81,
      "outputs": [
        {
          "output_type": "stream",
          "text": [
            "The k-fold cross-validated error rate is 11.662417420066816%.\n"
          ],
          "name": "stdout"
        }
      ]
    },
    {
      "cell_type": "markdown",
      "metadata": {
        "id": "yJFfNkYMvnqL"
      },
      "source": [
        "#### ROC/AUC measurements for GLM\n",
        "This can provide us with a [more reliable estimate](https://datascience.stackexchange.com/questions/806/advantages-of-auc-vs-standard-accuracy) of model performance compared to accuracy. Code adapted from [here](https://stackoverflow.com/questions/25009284/how-to-plot-roc-curve-in-python). "
      ]
    },
    {
      "cell_type": "code",
      "metadata": {
        "colab": {
          "base_uri": "https://localhost:8080/",
          "height": 314
        },
        "id": "imW9amBItDCL",
        "outputId": "bc411612-f0ed-4252-c682-37d69021af85"
      },
      "source": [
        "# get false positive/true positive rates\n",
        "fpr, tpr, threshold = metrics.roc_curve(ytest, LRPred)\n",
        "\n",
        "# get roc/auc measurements\n",
        "glm_auc = roc_auc_score(ytest, LRPred)\n",
        "print('GLM ROC AUC=%.3f' % (glm_auc))\n",
        "\n",
        "# plot ROC/AUC\n",
        "plt.title('ROC for GLM')\n",
        "plt.plot(fpr, tpr, 'b', label = 'AUC = %0.2f' % glm_auc)\n",
        "plt.legend(loc = 'lower right')\n",
        "\n",
        "# plot a dotted line for the threshold\n",
        "plt.plot([0, 1], [0, 1],'r--')\n",
        "\n",
        "# set axes limits and labels\n",
        "plt.xlim([0, 1])\n",
        "plt.ylim([0, 1])\n",
        "plt.ylabel('True Positive Rate')\n",
        "plt.xlabel('False Positive Rate')\n",
        "plt.show()"
      ],
      "execution_count": 82,
      "outputs": [
        {
          "output_type": "stream",
          "text": [
            "GLM ROC AUC=0.500\n"
          ],
          "name": "stdout"
        },
        {
          "output_type": "display_data",
          "data": {
            "image/png": "[encoded data removed]",
            "text/plain": [
              "<Figure size 432x288 with 1 Axes>"
            ]
          },
          "metadata": {
            "tags": [],
            "needs_background": "light"
          }
        }
      ]
    },
    {
      "cell_type": "markdown",
      "metadata": {
        "id": "T96FrjRQmO_m"
      },
      "source": [
        "##### Feature importance for GLM\n",
        "\n",
        "To what degree did each column [feature] contribute to the final output? Let me check feature importance [code adapted from [here](https://machinelearningmastery.com/calculate-feature-importance-with-python/)]. \n",
        "\n",
        "In this case, the positive features are those that predict class 1 [CAD] whereas the negative ones predict feature 0 [CM]. Logistic regression feature importance plots are the only ones that look like this [the rest only have positive values]. "
      ]
    },
    {
      "cell_type": "code",
      "metadata": {
        "colab": {
          "base_uri": "https://localhost:8080/",
          "height": 295
        },
        "id": "Ndp-5sofm4RR",
        "outputId": "bc8e0202-7061-4ce4-e853-7c0a2e74b32a"
      },
      "source": [
        "# get feature importance for GLM--i have to include the [0] because it's formatted as [[importance]]\n",
        "importance = LR.coef_[0]\n",
        " \n",
        "# visualize with bar plot\n",
        "plt.bar([x for x in range(len(importance))], importance)\n",
        "plt.title(\"Feature importance for GLM\")\n",
        "plt.xlabel(\"Feature\")\n",
        "plt.ylabel(\"Relative importance\")\n",
        "plt.show()"
      ],
      "execution_count": 83,
      "outputs": [
        {
          "output_type": "display_data",
          "data": {
            "image/png": "[encoded data removed]",
            "text/plain": [
              "<Figure size 432x288 with 1 Axes>"
            ]
          },
          "metadata": {
            "tags": [],
            "needs_background": "light"
          }
        }
      ]
    },
    {
      "cell_type": "markdown",
      "metadata": {
        "id": "VRddC74WO72A"
      },
      "source": [
        "### GLM with boosting\n",
        "\n",
        "We'll be using AdaBoost to potentially improve the performance of our GLM. We'll consider it to be a fairly weak classifier especially given the complexity of the data. The hope is that, by boosting, we'll be able to target points likely to have been misclassified by our non-boosting GLM and improve prediction accuracy. There's a nice description of AdaBoost [here](https://blog.paperspace.com/adaboost-optimizer/) as well as [here](https://codesachin.wordpress.com/tag/adaboost/). "
      ]
    },
    {
      "cell_type": "code",
      "metadata": {
        "id": "FoVXh41vO90C",
        "colab": {
          "base_uri": "https://localhost:8080/"
        },
        "outputId": "c5bcc5fa-a4c9-4732-9d92-d76870f84576"
      },
      "source": [
        "# set up the booster on the GLM classifier you previously made\n",
        "LRAda = AdaBoostClassifier(LR)\n",
        "\n",
        "# train the booster\n",
        "LRAdaPred = LRAda.fit(xtrain, ytrain).predict(xtest)\n",
        "\n",
        "# calculate the percent error--errors/(size of test set)*100\n",
        "LRAdaerror = float(((LRAdaPred != ytest).sum())/len(xtest))*100"
      ],
      "execution_count": 84,
      "outputs": [
        {
          "output_type": "stream",
          "text": [
            "/usr/local/lib/python3.7/dist-packages/sklearn/linear_model/_logistic.py:940: ConvergenceWarning: lbfgs failed to converge (status=1):\n",
            "STOP: TOTAL NO. of ITERATIONS REACHED LIMIT.\n",
            "\n",
            "Increase the number of iterations (max_iter) or scale the data as shown in:\n",
            "    https://scikit-learn.org/stable/modules/preprocessing.html\n",
            "Please also refer to the documentation for alternative solver options:\n",
            "    https://scikit-learn.org/stable/modules/linear_model.html#logistic-regression\n",
            "  extra_warning_msg=_LOGISTIC_SOLVER_CONVERGENCE_MSG)\n",
            "/usr/local/lib/python3.7/dist-packages/sklearn/linear_model/_logistic.py:940: ConvergenceWarning: lbfgs failed to converge (status=1):\n",
            "STOP: TOTAL NO. of ITERATIONS REACHED LIMIT.\n",
            "\n",
            "Increase the number of iterations (max_iter) or scale the data as shown in:\n",
            "    https://scikit-learn.org/stable/modules/preprocessing.html\n",
            "Please also refer to the documentation for alternative solver options:\n",
            "    https://scikit-learn.org/stable/modules/linear_model.html#logistic-regression\n",
            "  extra_warning_msg=_LOGISTIC_SOLVER_CONVERGENCE_MSG)\n",
            "/usr/local/lib/python3.7/dist-packages/sklearn/linear_model/_logistic.py:940: ConvergenceWarning: lbfgs failed to converge (status=1):\n",
            "STOP: TOTAL NO. of ITERATIONS REACHED LIMIT.\n",
            "\n",
            "Increase the number of iterations (max_iter) or scale the data as shown in:\n",
            "    https://scikit-learn.org/stable/modules/preprocessing.html\n",
            "Please also refer to the documentation for alternative solver options:\n",
            "    https://scikit-learn.org/stable/modules/linear_model.html#logistic-regression\n",
            "  extra_warning_msg=_LOGISTIC_SOLVER_CONVERGENCE_MSG)\n",
            "/usr/local/lib/python3.7/dist-packages/sklearn/linear_model/_logistic.py:940: ConvergenceWarning: lbfgs failed to converge (status=1):\n",
            "STOP: TOTAL NO. of ITERATIONS REACHED LIMIT.\n",
            "\n",
            "Increase the number of iterations (max_iter) or scale the data as shown in:\n",
            "    https://scikit-learn.org/stable/modules/preprocessing.html\n",
            "Please also refer to the documentation for alternative solver options:\n",
            "    https://scikit-learn.org/stable/modules/linear_model.html#logistic-regression\n",
            "  extra_warning_msg=_LOGISTIC_SOLVER_CONVERGENCE_MSG)\n",
            "/usr/local/lib/python3.7/dist-packages/sklearn/linear_model/_logistic.py:940: ConvergenceWarning: lbfgs failed to converge (status=1):\n",
            "STOP: TOTAL NO. of ITERATIONS REACHED LIMIT.\n",
            "\n",
            "Increase the number of iterations (max_iter) or scale the data as shown in:\n",
            "    https://scikit-learn.org/stable/modules/preprocessing.html\n",
            "Please also refer to the documentation for alternative solver options:\n",
            "    https://scikit-learn.org/stable/modules/linear_model.html#logistic-regression\n",
            "  extra_warning_msg=_LOGISTIC_SOLVER_CONVERGENCE_MSG)\n",
            "/usr/local/lib/python3.7/dist-packages/sklearn/linear_model/_logistic.py:940: ConvergenceWarning: lbfgs failed to converge (status=1):\n",
            "STOP: TOTAL NO. of ITERATIONS REACHED LIMIT.\n",
            "\n",
            "Increase the number of iterations (max_iter) or scale the data as shown in:\n",
            "    https://scikit-learn.org/stable/modules/preprocessing.html\n",
            "Please also refer to the documentation for alternative solver options:\n",
            "    https://scikit-learn.org/stable/modules/linear_model.html#logistic-regression\n",
            "  extra_warning_msg=_LOGISTIC_SOLVER_CONVERGENCE_MSG)\n",
            "/usr/local/lib/python3.7/dist-packages/sklearn/linear_model/_logistic.py:940: ConvergenceWarning: lbfgs failed to converge (status=1):\n",
            "STOP: TOTAL NO. of ITERATIONS REACHED LIMIT.\n",
            "\n",
            "Increase the number of iterations (max_iter) or scale the data as shown in:\n",
            "    https://scikit-learn.org/stable/modules/preprocessing.html\n",
            "Please also refer to the documentation for alternative solver options:\n",
            "    https://scikit-learn.org/stable/modules/linear_model.html#logistic-regression\n",
            "  extra_warning_msg=_LOGISTIC_SOLVER_CONVERGENCE_MSG)\n",
            "/usr/local/lib/python3.7/dist-packages/sklearn/linear_model/_logistic.py:940: ConvergenceWarning: lbfgs failed to converge (status=1):\n",
            "STOP: TOTAL NO. of ITERATIONS REACHED LIMIT.\n",
            "\n",
            "Increase the number of iterations (max_iter) or scale the data as shown in:\n",
            "    https://scikit-learn.org/stable/modules/preprocessing.html\n",
            "Please also refer to the documentation for alternative solver options:\n",
            "    https://scikit-learn.org/stable/modules/linear_model.html#logistic-regression\n",
            "  extra_warning_msg=_LOGISTIC_SOLVER_CONVERGENCE_MSG)\n",
            "/usr/local/lib/python3.7/dist-packages/sklearn/linear_model/_logistic.py:940: ConvergenceWarning: lbfgs failed to converge (status=1):\n",
            "STOP: TOTAL NO. of ITERATIONS REACHED LIMIT.\n",
            "\n",
            "Increase the number of iterations (max_iter) or scale the data as shown in:\n",
            "    https://scikit-learn.org/stable/modules/preprocessing.html\n",
            "Please also refer to the documentation for alternative solver options:\n",
            "    https://scikit-learn.org/stable/modules/linear_model.html#logistic-regression\n",
            "  extra_warning_msg=_LOGISTIC_SOLVER_CONVERGENCE_MSG)\n",
            "/usr/local/lib/python3.7/dist-packages/sklearn/linear_model/_logistic.py:940: ConvergenceWarning: lbfgs failed to converge (status=1):\n",
            "STOP: TOTAL NO. of ITERATIONS REACHED LIMIT.\n",
            "\n",
            "Increase the number of iterations (max_iter) or scale the data as shown in:\n",
            "    https://scikit-learn.org/stable/modules/preprocessing.html\n",
            "Please also refer to the documentation for alternative solver options:\n",
            "    https://scikit-learn.org/stable/modules/linear_model.html#logistic-regression\n",
            "  extra_warning_msg=_LOGISTIC_SOLVER_CONVERGENCE_MSG)\n",
            "/usr/local/lib/python3.7/dist-packages/sklearn/linear_model/_logistic.py:940: ConvergenceWarning: lbfgs failed to converge (status=1):\n",
            "STOP: TOTAL NO. of ITERATIONS REACHED LIMIT.\n",
            "\n",
            "Increase the number of iterations (max_iter) or scale the data as shown in:\n",
            "    https://scikit-learn.org/stable/modules/preprocessing.html\n",
            "Please also refer to the documentation for alternative solver options:\n",
            "    https://scikit-learn.org/stable/modules/linear_model.html#logistic-regression\n",
            "  extra_warning_msg=_LOGISTIC_SOLVER_CONVERGENCE_MSG)\n",
            "/usr/local/lib/python3.7/dist-packages/sklearn/linear_model/_logistic.py:940: ConvergenceWarning: lbfgs failed to converge (status=1):\n",
            "STOP: TOTAL NO. of ITERATIONS REACHED LIMIT.\n",
            "\n",
            "Increase the number of iterations (max_iter) or scale the data as shown in:\n",
            "    https://scikit-learn.org/stable/modules/preprocessing.html\n",
            "Please also refer to the documentation for alternative solver options:\n",
            "    https://scikit-learn.org/stable/modules/linear_model.html#logistic-regression\n",
            "  extra_warning_msg=_LOGISTIC_SOLVER_CONVERGENCE_MSG)\n",
            "/usr/local/lib/python3.7/dist-packages/sklearn/linear_model/_logistic.py:940: ConvergenceWarning: lbfgs failed to converge (status=1):\n",
            "STOP: TOTAL NO. of ITERATIONS REACHED LIMIT.\n",
            "\n",
            "Increase the number of iterations (max_iter) or scale the data as shown in:\n",
            "    https://scikit-learn.org/stable/modules/preprocessing.html\n",
            "Please also refer to the documentation for alternative solver options:\n",
            "    https://scikit-learn.org/stable/modules/linear_model.html#logistic-regression\n",
            "  extra_warning_msg=_LOGISTIC_SOLVER_CONVERGENCE_MSG)\n",
            "/usr/local/lib/python3.7/dist-packages/sklearn/linear_model/_logistic.py:940: ConvergenceWarning: lbfgs failed to converge (status=1):\n",
            "STOP: TOTAL NO. of ITERATIONS REACHED LIMIT.\n",
            "\n",
            "Increase the number of iterations (max_iter) or scale the data as shown in:\n",
            "    https://scikit-learn.org/stable/modules/preprocessing.html\n",
            "Please also refer to the documentation for alternative solver options:\n",
            "    https://scikit-learn.org/stable/modules/linear_model.html#logistic-regression\n",
            "  extra_warning_msg=_LOGISTIC_SOLVER_CONVERGENCE_MSG)\n",
            "/usr/local/lib/python3.7/dist-packages/sklearn/linear_model/_logistic.py:940: ConvergenceWarning: lbfgs failed to converge (status=1):\n",
            "STOP: TOTAL NO. of ITERATIONS REACHED LIMIT.\n",
            "\n",
            "Increase the number of iterations (max_iter) or scale the data as shown in:\n",
            "    https://scikit-learn.org/stable/modules/preprocessing.html\n",
            "Please also refer to the documentation for alternative solver options:\n",
            "    https://scikit-learn.org/stable/modules/linear_model.html#logistic-regression\n",
            "  extra_warning_msg=_LOGISTIC_SOLVER_CONVERGENCE_MSG)\n",
            "/usr/local/lib/python3.7/dist-packages/sklearn/linear_model/_logistic.py:940: ConvergenceWarning: lbfgs failed to converge (status=1):\n",
            "STOP: TOTAL NO. of ITERATIONS REACHED LIMIT.\n",
            "\n",
            "Increase the number of iterations (max_iter) or scale the data as shown in:\n",
            "    https://scikit-learn.org/stable/modules/preprocessing.html\n",
            "Please also refer to the documentation for alternative solver options:\n",
            "    https://scikit-learn.org/stable/modules/linear_model.html#logistic-regression\n",
            "  extra_warning_msg=_LOGISTIC_SOLVER_CONVERGENCE_MSG)\n",
            "/usr/local/lib/python3.7/dist-packages/sklearn/linear_model/_logistic.py:940: ConvergenceWarning: lbfgs failed to converge (status=1):\n",
            "STOP: TOTAL NO. of ITERATIONS REACHED LIMIT.\n",
            "\n",
            "Increase the number of iterations (max_iter) or scale the data as shown in:\n",
            "    https://scikit-learn.org/stable/modules/preprocessing.html\n",
            "Please also refer to the documentation for alternative solver options:\n",
            "    https://scikit-learn.org/stable/modules/linear_model.html#logistic-regression\n",
            "  extra_warning_msg=_LOGISTIC_SOLVER_CONVERGENCE_MSG)\n",
            "/usr/local/lib/python3.7/dist-packages/sklearn/linear_model/_logistic.py:940: ConvergenceWarning: lbfgs failed to converge (status=1):\n",
            "STOP: TOTAL NO. of ITERATIONS REACHED LIMIT.\n",
            "\n",
            "Increase the number of iterations (max_iter) or scale the data as shown in:\n",
            "    https://scikit-learn.org/stable/modules/preprocessing.html\n",
            "Please also refer to the documentation for alternative solver options:\n",
            "    https://scikit-learn.org/stable/modules/linear_model.html#logistic-regression\n",
            "  extra_warning_msg=_LOGISTIC_SOLVER_CONVERGENCE_MSG)\n",
            "/usr/local/lib/python3.7/dist-packages/sklearn/linear_model/_logistic.py:940: ConvergenceWarning: lbfgs failed to converge (status=1):\n",
            "STOP: TOTAL NO. of ITERATIONS REACHED LIMIT.\n",
            "\n",
            "Increase the number of iterations (max_iter) or scale the data as shown in:\n",
            "    https://scikit-learn.org/stable/modules/preprocessing.html\n",
            "Please also refer to the documentation for alternative solver options:\n",
            "    https://scikit-learn.org/stable/modules/linear_model.html#logistic-regression\n",
            "  extra_warning_msg=_LOGISTIC_SOLVER_CONVERGENCE_MSG)\n",
            "/usr/local/lib/python3.7/dist-packages/sklearn/linear_model/_logistic.py:940: ConvergenceWarning: lbfgs failed to converge (status=1):\n",
            "STOP: TOTAL NO. of ITERATIONS REACHED LIMIT.\n",
            "\n",
            "Increase the number of iterations (max_iter) or scale the data as shown in:\n",
            "    https://scikit-learn.org/stable/modules/preprocessing.html\n",
            "Please also refer to the documentation for alternative solver options:\n",
            "    https://scikit-learn.org/stable/modules/linear_model.html#logistic-regression\n",
            "  extra_warning_msg=_LOGISTIC_SOLVER_CONVERGENCE_MSG)\n",
            "/usr/local/lib/python3.7/dist-packages/sklearn/linear_model/_logistic.py:940: ConvergenceWarning: lbfgs failed to converge (status=1):\n",
            "STOP: TOTAL NO. of ITERATIONS REACHED LIMIT.\n",
            "\n",
            "Increase the number of iterations (max_iter) or scale the data as shown in:\n",
            "    https://scikit-learn.org/stable/modules/preprocessing.html\n",
            "Please also refer to the documentation for alternative solver options:\n",
            "    https://scikit-learn.org/stable/modules/linear_model.html#logistic-regression\n",
            "  extra_warning_msg=_LOGISTIC_SOLVER_CONVERGENCE_MSG)\n",
            "/usr/local/lib/python3.7/dist-packages/sklearn/linear_model/_logistic.py:940: ConvergenceWarning: lbfgs failed to converge (status=1):\n",
            "STOP: TOTAL NO. of ITERATIONS REACHED LIMIT.\n",
            "\n",
            "Increase the number of iterations (max_iter) or scale the data as shown in:\n",
            "    https://scikit-learn.org/stable/modules/preprocessing.html\n",
            "Please also refer to the documentation for alternative solver options:\n",
            "    https://scikit-learn.org/stable/modules/linear_model.html#logistic-regression\n",
            "  extra_warning_msg=_LOGISTIC_SOLVER_CONVERGENCE_MSG)\n",
            "/usr/local/lib/python3.7/dist-packages/sklearn/linear_model/_logistic.py:940: ConvergenceWarning: lbfgs failed to converge (status=1):\n",
            "STOP: TOTAL NO. of ITERATIONS REACHED LIMIT.\n",
            "\n",
            "Increase the number of iterations (max_iter) or scale the data as shown in:\n",
            "    https://scikit-learn.org/stable/modules/preprocessing.html\n",
            "Please also refer to the documentation for alternative solver options:\n",
            "    https://scikit-learn.org/stable/modules/linear_model.html#logistic-regression\n",
            "  extra_warning_msg=_LOGISTIC_SOLVER_CONVERGENCE_MSG)\n",
            "/usr/local/lib/python3.7/dist-packages/sklearn/linear_model/_logistic.py:940: ConvergenceWarning: lbfgs failed to converge (status=1):\n",
            "STOP: TOTAL NO. of ITERATIONS REACHED LIMIT.\n",
            "\n",
            "Increase the number of iterations (max_iter) or scale the data as shown in:\n",
            "    https://scikit-learn.org/stable/modules/preprocessing.html\n",
            "Please also refer to the documentation for alternative solver options:\n",
            "    https://scikit-learn.org/stable/modules/linear_model.html#logistic-regression\n",
            "  extra_warning_msg=_LOGISTIC_SOLVER_CONVERGENCE_MSG)\n",
            "/usr/local/lib/python3.7/dist-packages/sklearn/linear_model/_logistic.py:940: ConvergenceWarning: lbfgs failed to converge (status=1):\n",
            "STOP: TOTAL NO. of ITERATIONS REACHED LIMIT.\n",
            "\n",
            "Increase the number of iterations (max_iter) or scale the data as shown in:\n",
            "    https://scikit-learn.org/stable/modules/preprocessing.html\n",
            "Please also refer to the documentation for alternative solver options:\n",
            "    https://scikit-learn.org/stable/modules/linear_model.html#logistic-regression\n",
            "  extra_warning_msg=_LOGISTIC_SOLVER_CONVERGENCE_MSG)\n",
            "/usr/local/lib/python3.7/dist-packages/sklearn/linear_model/_logistic.py:940: ConvergenceWarning: lbfgs failed to converge (status=1):\n",
            "STOP: TOTAL NO. of ITERATIONS REACHED LIMIT.\n",
            "\n",
            "Increase the number of iterations (max_iter) or scale the data as shown in:\n",
            "    https://scikit-learn.org/stable/modules/preprocessing.html\n",
            "Please also refer to the documentation for alternative solver options:\n",
            "    https://scikit-learn.org/stable/modules/linear_model.html#logistic-regression\n",
            "  extra_warning_msg=_LOGISTIC_SOLVER_CONVERGENCE_MSG)\n",
            "/usr/local/lib/python3.7/dist-packages/sklearn/linear_model/_logistic.py:940: ConvergenceWarning: lbfgs failed to converge (status=1):\n",
            "STOP: TOTAL NO. of ITERATIONS REACHED LIMIT.\n",
            "\n",
            "Increase the number of iterations (max_iter) or scale the data as shown in:\n",
            "    https://scikit-learn.org/stable/modules/preprocessing.html\n",
            "Please also refer to the documentation for alternative solver options:\n",
            "    https://scikit-learn.org/stable/modules/linear_model.html#logistic-regression\n",
            "  extra_warning_msg=_LOGISTIC_SOLVER_CONVERGENCE_MSG)\n",
            "/usr/local/lib/python3.7/dist-packages/sklearn/linear_model/_logistic.py:940: ConvergenceWarning: lbfgs failed to converge (status=1):\n",
            "STOP: TOTAL NO. of ITERATIONS REACHED LIMIT.\n",
            "\n",
            "Increase the number of iterations (max_iter) or scale the data as shown in:\n",
            "    https://scikit-learn.org/stable/modules/preprocessing.html\n",
            "Please also refer to the documentation for alternative solver options:\n",
            "    https://scikit-learn.org/stable/modules/linear_model.html#logistic-regression\n",
            "  extra_warning_msg=_LOGISTIC_SOLVER_CONVERGENCE_MSG)\n",
            "/usr/local/lib/python3.7/dist-packages/sklearn/linear_model/_logistic.py:940: ConvergenceWarning: lbfgs failed to converge (status=1):\n",
            "STOP: TOTAL NO. of ITERATIONS REACHED LIMIT.\n",
            "\n",
            "Increase the number of iterations (max_iter) or scale the data as shown in:\n",
            "    https://scikit-learn.org/stable/modules/preprocessing.html\n",
            "Please also refer to the documentation for alternative solver options:\n",
            "    https://scikit-learn.org/stable/modules/linear_model.html#logistic-regression\n",
            "  extra_warning_msg=_LOGISTIC_SOLVER_CONVERGENCE_MSG)\n",
            "/usr/local/lib/python3.7/dist-packages/sklearn/linear_model/_logistic.py:940: ConvergenceWarning: lbfgs failed to converge (status=1):\n",
            "STOP: TOTAL NO. of ITERATIONS REACHED LIMIT.\n",
            "\n",
            "Increase the number of iterations (max_iter) or scale the data as shown in:\n",
            "    https://scikit-learn.org/stable/modules/preprocessing.html\n",
            "Please also refer to the documentation for alternative solver options:\n",
            "    https://scikit-learn.org/stable/modules/linear_model.html#logistic-regression\n",
            "  extra_warning_msg=_LOGISTIC_SOLVER_CONVERGENCE_MSG)\n",
            "/usr/local/lib/python3.7/dist-packages/sklearn/linear_model/_logistic.py:940: ConvergenceWarning: lbfgs failed to converge (status=1):\n",
            "STOP: TOTAL NO. of ITERATIONS REACHED LIMIT.\n",
            "\n",
            "Increase the number of iterations (max_iter) or scale the data as shown in:\n",
            "    https://scikit-learn.org/stable/modules/preprocessing.html\n",
            "Please also refer to the documentation for alternative solver options:\n",
            "    https://scikit-learn.org/stable/modules/linear_model.html#logistic-regression\n",
            "  extra_warning_msg=_LOGISTIC_SOLVER_CONVERGENCE_MSG)\n",
            "/usr/local/lib/python3.7/dist-packages/sklearn/linear_model/_logistic.py:940: ConvergenceWarning: lbfgs failed to converge (status=1):\n",
            "STOP: TOTAL NO. of ITERATIONS REACHED LIMIT.\n",
            "\n",
            "Increase the number of iterations (max_iter) or scale the data as shown in:\n",
            "    https://scikit-learn.org/stable/modules/preprocessing.html\n",
            "Please also refer to the documentation for alternative solver options:\n",
            "    https://scikit-learn.org/stable/modules/linear_model.html#logistic-regression\n",
            "  extra_warning_msg=_LOGISTIC_SOLVER_CONVERGENCE_MSG)\n",
            "/usr/local/lib/python3.7/dist-packages/sklearn/linear_model/_logistic.py:940: ConvergenceWarning: lbfgs failed to converge (status=1):\n",
            "STOP: TOTAL NO. of ITERATIONS REACHED LIMIT.\n",
            "\n",
            "Increase the number of iterations (max_iter) or scale the data as shown in:\n",
            "    https://scikit-learn.org/stable/modules/preprocessing.html\n",
            "Please also refer to the documentation for alternative solver options:\n",
            "    https://scikit-learn.org/stable/modules/linear_model.html#logistic-regression\n",
            "  extra_warning_msg=_LOGISTIC_SOLVER_CONVERGENCE_MSG)\n",
            "/usr/local/lib/python3.7/dist-packages/sklearn/linear_model/_logistic.py:940: ConvergenceWarning: lbfgs failed to converge (status=1):\n",
            "STOP: TOTAL NO. of ITERATIONS REACHED LIMIT.\n",
            "\n",
            "Increase the number of iterations (max_iter) or scale the data as shown in:\n",
            "    https://scikit-learn.org/stable/modules/preprocessing.html\n",
            "Please also refer to the documentation for alternative solver options:\n",
            "    https://scikit-learn.org/stable/modules/linear_model.html#logistic-regression\n",
            "  extra_warning_msg=_LOGISTIC_SOLVER_CONVERGENCE_MSG)\n",
            "/usr/local/lib/python3.7/dist-packages/sklearn/linear_model/_logistic.py:940: ConvergenceWarning: lbfgs failed to converge (status=1):\n",
            "STOP: TOTAL NO. of ITERATIONS REACHED LIMIT.\n",
            "\n",
            "Increase the number of iterations (max_iter) or scale the data as shown in:\n",
            "    https://scikit-learn.org/stable/modules/preprocessing.html\n",
            "Please also refer to the documentation for alternative solver options:\n",
            "    https://scikit-learn.org/stable/modules/linear_model.html#logistic-regression\n",
            "  extra_warning_msg=_LOGISTIC_SOLVER_CONVERGENCE_MSG)\n",
            "/usr/local/lib/python3.7/dist-packages/sklearn/linear_model/_logistic.py:940: ConvergenceWarning: lbfgs failed to converge (status=1):\n",
            "STOP: TOTAL NO. of ITERATIONS REACHED LIMIT.\n",
            "\n",
            "Increase the number of iterations (max_iter) or scale the data as shown in:\n",
            "    https://scikit-learn.org/stable/modules/preprocessing.html\n",
            "Please also refer to the documentation for alternative solver options:\n",
            "    https://scikit-learn.org/stable/modules/linear_model.html#logistic-regression\n",
            "  extra_warning_msg=_LOGISTIC_SOLVER_CONVERGENCE_MSG)\n",
            "/usr/local/lib/python3.7/dist-packages/sklearn/linear_model/_logistic.py:940: ConvergenceWarning: lbfgs failed to converge (status=1):\n",
            "STOP: TOTAL NO. of ITERATIONS REACHED LIMIT.\n",
            "\n",
            "Increase the number of iterations (max_iter) or scale the data as shown in:\n",
            "    https://scikit-learn.org/stable/modules/preprocessing.html\n",
            "Please also refer to the documentation for alternative solver options:\n",
            "    https://scikit-learn.org/stable/modules/linear_model.html#logistic-regression\n",
            "  extra_warning_msg=_LOGISTIC_SOLVER_CONVERGENCE_MSG)\n",
            "/usr/local/lib/python3.7/dist-packages/sklearn/linear_model/_logistic.py:940: ConvergenceWarning: lbfgs failed to converge (status=1):\n",
            "STOP: TOTAL NO. of ITERATIONS REACHED LIMIT.\n",
            "\n",
            "Increase the number of iterations (max_iter) or scale the data as shown in:\n",
            "    https://scikit-learn.org/stable/modules/preprocessing.html\n",
            "Please also refer to the documentation for alternative solver options:\n",
            "    https://scikit-learn.org/stable/modules/linear_model.html#logistic-regression\n",
            "  extra_warning_msg=_LOGISTIC_SOLVER_CONVERGENCE_MSG)\n",
            "/usr/local/lib/python3.7/dist-packages/sklearn/linear_model/_logistic.py:940: ConvergenceWarning: lbfgs failed to converge (status=1):\n",
            "STOP: TOTAL NO. of ITERATIONS REACHED LIMIT.\n",
            "\n",
            "Increase the number of iterations (max_iter) or scale the data as shown in:\n",
            "    https://scikit-learn.org/stable/modules/preprocessing.html\n",
            "Please also refer to the documentation for alternative solver options:\n",
            "    https://scikit-learn.org/stable/modules/linear_model.html#logistic-regression\n",
            "  extra_warning_msg=_LOGISTIC_SOLVER_CONVERGENCE_MSG)\n",
            "/usr/local/lib/python3.7/dist-packages/sklearn/linear_model/_logistic.py:940: ConvergenceWarning: lbfgs failed to converge (status=1):\n",
            "STOP: TOTAL NO. of ITERATIONS REACHED LIMIT.\n",
            "\n",
            "Increase the number of iterations (max_iter) or scale the data as shown in:\n",
            "    https://scikit-learn.org/stable/modules/preprocessing.html\n",
            "Please also refer to the documentation for alternative solver options:\n",
            "    https://scikit-learn.org/stable/modules/linear_model.html#logistic-regression\n",
            "  extra_warning_msg=_LOGISTIC_SOLVER_CONVERGENCE_MSG)\n",
            "/usr/local/lib/python3.7/dist-packages/sklearn/linear_model/_logistic.py:940: ConvergenceWarning: lbfgs failed to converge (status=1):\n",
            "STOP: TOTAL NO. of ITERATIONS REACHED LIMIT.\n",
            "\n",
            "Increase the number of iterations (max_iter) or scale the data as shown in:\n",
            "    https://scikit-learn.org/stable/modules/preprocessing.html\n",
            "Please also refer to the documentation for alternative solver options:\n",
            "    https://scikit-learn.org/stable/modules/linear_model.html#logistic-regression\n",
            "  extra_warning_msg=_LOGISTIC_SOLVER_CONVERGENCE_MSG)\n",
            "/usr/local/lib/python3.7/dist-packages/sklearn/linear_model/_logistic.py:940: ConvergenceWarning: lbfgs failed to converge (status=1):\n",
            "STOP: TOTAL NO. of ITERATIONS REACHED LIMIT.\n",
            "\n",
            "Increase the number of iterations (max_iter) or scale the data as shown in:\n",
            "    https://scikit-learn.org/stable/modules/preprocessing.html\n",
            "Please also refer to the documentation for alternative solver options:\n",
            "    https://scikit-learn.org/stable/modules/linear_model.html#logistic-regression\n",
            "  extra_warning_msg=_LOGISTIC_SOLVER_CONVERGENCE_MSG)\n",
            "/usr/local/lib/python3.7/dist-packages/sklearn/linear_model/_logistic.py:940: ConvergenceWarning: lbfgs failed to converge (status=1):\n",
            "STOP: TOTAL NO. of ITERATIONS REACHED LIMIT.\n",
            "\n",
            "Increase the number of iterations (max_iter) or scale the data as shown in:\n",
            "    https://scikit-learn.org/stable/modules/preprocessing.html\n",
            "Please also refer to the documentation for alternative solver options:\n",
            "    https://scikit-learn.org/stable/modules/linear_model.html#logistic-regression\n",
            "  extra_warning_msg=_LOGISTIC_SOLVER_CONVERGENCE_MSG)\n",
            "/usr/local/lib/python3.7/dist-packages/sklearn/linear_model/_logistic.py:940: ConvergenceWarning: lbfgs failed to converge (status=1):\n",
            "STOP: TOTAL NO. of ITERATIONS REACHED LIMIT.\n",
            "\n",
            "Increase the number of iterations (max_iter) or scale the data as shown in:\n",
            "    https://scikit-learn.org/stable/modules/preprocessing.html\n",
            "Please also refer to the documentation for alternative solver options:\n",
            "    https://scikit-learn.org/stable/modules/linear_model.html#logistic-regression\n",
            "  extra_warning_msg=_LOGISTIC_SOLVER_CONVERGENCE_MSG)\n",
            "/usr/local/lib/python3.7/dist-packages/sklearn/linear_model/_logistic.py:940: ConvergenceWarning: lbfgs failed to converge (status=1):\n",
            "STOP: TOTAL NO. of ITERATIONS REACHED LIMIT.\n",
            "\n",
            "Increase the number of iterations (max_iter) or scale the data as shown in:\n",
            "    https://scikit-learn.org/stable/modules/preprocessing.html\n",
            "Please also refer to the documentation for alternative solver options:\n",
            "    https://scikit-learn.org/stable/modules/linear_model.html#logistic-regression\n",
            "  extra_warning_msg=_LOGISTIC_SOLVER_CONVERGENCE_MSG)\n",
            "/usr/local/lib/python3.7/dist-packages/sklearn/linear_model/_logistic.py:940: ConvergenceWarning: lbfgs failed to converge (status=1):\n",
            "STOP: TOTAL NO. of ITERATIONS REACHED LIMIT.\n",
            "\n",
            "Increase the number of iterations (max_iter) or scale the data as shown in:\n",
            "    https://scikit-learn.org/stable/modules/preprocessing.html\n",
            "Please also refer to the documentation for alternative solver options:\n",
            "    https://scikit-learn.org/stable/modules/linear_model.html#logistic-regression\n",
            "  extra_warning_msg=_LOGISTIC_SOLVER_CONVERGENCE_MSG)\n",
            "/usr/local/lib/python3.7/dist-packages/sklearn/linear_model/_logistic.py:940: ConvergenceWarning: lbfgs failed to converge (status=1):\n",
            "STOP: TOTAL NO. of ITERATIONS REACHED LIMIT.\n",
            "\n",
            "Increase the number of iterations (max_iter) or scale the data as shown in:\n",
            "    https://scikit-learn.org/stable/modules/preprocessing.html\n",
            "Please also refer to the documentation for alternative solver options:\n",
            "    https://scikit-learn.org/stable/modules/linear_model.html#logistic-regression\n",
            "  extra_warning_msg=_LOGISTIC_SOLVER_CONVERGENCE_MSG)\n",
            "/usr/local/lib/python3.7/dist-packages/sklearn/linear_model/_logistic.py:940: ConvergenceWarning: lbfgs failed to converge (status=1):\n",
            "STOP: TOTAL NO. of ITERATIONS REACHED LIMIT.\n",
            "\n",
            "Increase the number of iterations (max_iter) or scale the data as shown in:\n",
            "    https://scikit-learn.org/stable/modules/preprocessing.html\n",
            "Please also refer to the documentation for alternative solver options:\n",
            "    https://scikit-learn.org/stable/modules/linear_model.html#logistic-regression\n",
            "  extra_warning_msg=_LOGISTIC_SOLVER_CONVERGENCE_MSG)\n",
            "/usr/local/lib/python3.7/dist-packages/sklearn/linear_model/_logistic.py:940: ConvergenceWarning: lbfgs failed to converge (status=1):\n",
            "STOP: TOTAL NO. of ITERATIONS REACHED LIMIT.\n",
            "\n",
            "Increase the number of iterations (max_iter) or scale the data as shown in:\n",
            "    https://scikit-learn.org/stable/modules/preprocessing.html\n",
            "Please also refer to the documentation for alternative solver options:\n",
            "    https://scikit-learn.org/stable/modules/linear_model.html#logistic-regression\n",
            "  extra_warning_msg=_LOGISTIC_SOLVER_CONVERGENCE_MSG)\n",
            "/usr/local/lib/python3.7/dist-packages/sklearn/linear_model/_logistic.py:940: ConvergenceWarning: lbfgs failed to converge (status=1):\n",
            "STOP: TOTAL NO. of ITERATIONS REACHED LIMIT.\n",
            "\n",
            "Increase the number of iterations (max_iter) or scale the data as shown in:\n",
            "    https://scikit-learn.org/stable/modules/preprocessing.html\n",
            "Please also refer to the documentation for alternative solver options:\n",
            "    https://scikit-learn.org/stable/modules/linear_model.html#logistic-regression\n",
            "  extra_warning_msg=_LOGISTIC_SOLVER_CONVERGENCE_MSG)\n"
          ],
          "name": "stderr"
        }
      ]
    },
    {
      "cell_type": "markdown",
      "metadata": {
        "id": "TRD1n-Z9QxEb"
      },
      "source": [
        "What was our error rate? [I'm printing this outside the previous code block because of all the \"failed to converge\" warnings]"
      ]
    },
    {
      "cell_type": "code",
      "metadata": {
        "colab": {
          "base_uri": "https://localhost:8080/"
        },
        "id": "3WSWTPnQQDGu",
        "outputId": "f8a4317a-2be3-4395-bbe7-b3e4b1c60366"
      },
      "source": [
        "print(\"With AdaBoost, we get an GLM error rate of {}%.\".format(LRAdaerror))"
      ],
      "execution_count": 85,
      "outputs": [
        {
          "output_type": "stream",
          "text": [
            "With AdaBoost, we get an GLM error rate of 11.81215787957361%.\n"
          ],
          "name": "stdout"
        }
      ]
    },
    {
      "cell_type": "markdown",
      "metadata": {
        "id": "zJvG8cb_A52T"
      },
      "source": [
        "#### K-fold cross validation for GLM with boosting\n",
        "\n",
        "This code is nearly identical to our previous k-fold runs. Yes -- one way to avoid this redundancy would have been to loop over the model names -- so in this case instead of hard-coding ```LRAda``` in ```cross_val_score(LRAda, model, lab, scoring='accuracy', cv=cv, n_jobs=-1)``` we could generate scores for each classifier and print them out next to their associated model name. \n",
        "\n",
        "One benefit of this approach is that a loop would rely on us having run each model beforehand, whereas here we can run each model to completion mostly independent of the others. This is helpful to save on runtime--of course boosting/majority vote rely on running other models, but if I just wanted to run the GLM and gather all its performance metrics I can do so here. "
      ]
    },
    {
      "cell_type": "code",
      "metadata": {
        "colab": {
          "base_uri": "https://localhost:8080/"
        },
        "id": "sybQxpUnA8jT",
        "outputId": "f8543c58-cfb2-442e-89c8-4cba66088aa2"
      },
      "source": [
        "# prepare the cross-validation procedure\n",
        "cv = KFold(n_splits=10, random_state=1, shuffle=True)\n",
        "\n",
        "# get the task and associated labels\n",
        "task = datasets[taskind]\n",
        "lab = labels[taskind]\n",
        "\n",
        "# evaluate model--n_jobs = -1 means to use all processors\n",
        "# see https://scikit-learn.org/stable/modules/generated/sklearn.model_selection.cross_val_score.html \n",
        "LRAdascores = cross_val_score(LRAda, task, lab, scoring='accuracy', cv=cv, n_jobs=-1)\n",
        "\n",
        "# report performance--we take the average accuracy over all folds. 1- just gives us the error rate\n",
        "print(\"The k-fold cross-validated error rate is \" + str((1-np.mean(LRAdascores))*100)+ \"%.\")"
      ],
      "execution_count": 86,
      "outputs": [
        {
          "output_type": "stream",
          "text": [
            "The k-fold cross-validated error rate is 11.86990277325023%.\n"
          ],
          "name": "stdout"
        }
      ]
    },
    {
      "cell_type": "markdown",
      "metadata": {
        "id": "7daW7W0Xv0Dh"
      },
      "source": [
        "#### ROC/AUC measurements for GLM with boosting\n",
        "\n",
        "Same code as previously. Again we could've looped over each trained model to avoid this redundancy, e.g. loop over ```LRAdaPred``` in ```metrics.roc_curve(ytest, LRAdaPred)``` and ```roc_auc_score(ytest, LRAdaPred)```. "
      ]
    },
    {
      "cell_type": "code",
      "metadata": {
        "colab": {
          "base_uri": "https://localhost:8080/",
          "height": 314
        },
        "id": "C8rK94YkuBSS",
        "outputId": "460e3540-12d2-41a5-e4e4-09b6c5162bdc"
      },
      "source": [
        "# get false positive/true positive rates\n",
        "fpr, tpr, threshold = metrics.roc_curve(ytest, LRAdaPred)\n",
        "\n",
        "# get roc/auc measurements\n",
        "glm_ada_auc = roc_auc_score(ytest, LRAdaPred)\n",
        "print('GLM with adaboost ROC AUC=%.3f' % (glm_ada_auc))\n",
        "\n",
        "# plot ROC/AUC\n",
        "plt.title('ROC for GLM with boosting')\n",
        "plt.plot(fpr, tpr, 'b', label = 'AUC = %0.2f' % glm_ada_auc)\n",
        "plt.legend(loc = 'lower right')\n",
        "\n",
        "# plot a dotted line for the threshold\n",
        "plt.plot([0, 1], [0, 1],'r--')\n",
        "\n",
        "# set axes limits and labels\n",
        "plt.xlim([0, 1])\n",
        "plt.ylim([0, 1])\n",
        "plt.ylabel('True Positive Rate')\n",
        "plt.xlabel('False Positive Rate')\n",
        "plt.show()"
      ],
      "execution_count": 87,
      "outputs": [
        {
          "output_type": "stream",
          "text": [
            "GLM with adaboost ROC AUC=0.504\n"
          ],
          "name": "stdout"
        },
        {
          "output_type": "display_data",
          "data": {
            "image/png": "[encoded data removed]",
            "text/plain": [
              "<Figure size 432x288 with 1 Axes>"
            ]
          },
          "metadata": {
            "tags": [],
            "needs_background": "light"
          }
        }
      ]
    },
    {
      "cell_type": "markdown",
      "metadata": {
        "id": "Ml8h6m4wmTXc"
      },
      "source": [
        "##### Feature importance for GLM with boosting\n",
        "\n",
        "We have not found a way to get this to work. Feature importance can be calculated for AdaBoost with a decision tree but we could not find an attribute of this classifier that displayed feature importance for us. The parameter we used to calculate feature importance for the GLM [```coef_```] is not present in the AdaBoostClassifier model type and the feature importance parameter it does have [```feature_importances_```] is not present in LogisticRegression model types. "
      ]
    },
    {
      "cell_type": "markdown",
      "metadata": {
        "id": "0xqT95gRWiop"
      },
      "source": [
        "### Decision tree classification\n",
        "\n",
        "This is a common approach used for binary classification so we'll try it out. Now, effective classification here is contingent on our model being able to identify high-quality rules it can use to split/classify our data. For a nice graphical description of decision trees in machine learning, I found [this](https://towardsdatascience.com/decision-trees-in-machine-learning-641b9c4e8052) site to be useful. \n",
        "\n",
        "You'll note that this code block looks very similar to the GLM code block. That will be the case for all non-boosting classifiers with the exception of majority vote [additionally the boosting code blocks looks nearly identical to one another]. As a result we won't be commenting too much on each individual code block. In terms of setup/implementation, they are all slightly different variations of the same general theme. "
      ]
    },
    {
      "cell_type": "code",
      "metadata": {
        "colab": {
          "base_uri": "https://localhost:8080/"
        },
        "id": "uHf-QmMEWlts",
        "outputId": "a85f373c-8f24-4bbc-eaf1-5f8f42994973"
      },
      "source": [
        "# set up your decision tree \n",
        "dectree = tree.DecisionTreeClassifier()\n",
        "\n",
        "# predict the test data's labels\n",
        "decpred = dectree.fit(xtrain, ytrain).predict(xtest)\n",
        "\n",
        "# compute the error\n",
        "# number of errors\n",
        "numDecError = (decpred != ytest).sum()\n",
        "\n",
        "# calculate the percent error--errors/(size of test set)*100\n",
        "decerror = float(numDecError/len(xtest))*100\n",
        "\n",
        "# How many errors did we get?\n",
        "print(\"Out of \"+str(len(xtest))+\" points, the decision tree produced \"+str(numDecError)+\" errors, resulting in an error rate of \" + str(decerror)+\"%.\")"
      ],
      "execution_count": 88,
      "outputs": [
        {
          "output_type": "stream",
          "text": [
            "Out of 3471 points, the decision tree produced 642 errors, resulting in an error rate of 18.49611063094209%.\n"
          ],
          "name": "stdout"
        }
      ]
    },
    {
      "cell_type": "markdown",
      "metadata": {
        "id": "gE7qSUC1BiBJ"
      },
      "source": [
        "#### K-fold cross validation for decision tree\n",
        "\n",
        "This code is nearly identical to our previous k-fold runs. "
      ]
    },
    {
      "cell_type": "code",
      "metadata": {
        "colab": {
          "base_uri": "https://localhost:8080/"
        },
        "id": "-iE10ykfBkc8",
        "outputId": "26252e4e-5bb8-4184-bc53-122f5f31d64d"
      },
      "source": [
        "# prepare the cross-validation procedure\n",
        "cv = KFold(n_splits=10, random_state=1, shuffle=True)\n",
        "\n",
        "# get the task and associated labels\n",
        "task = datasets[taskind]\n",
        "lab = labels[taskind]\n",
        "\n",
        "# evaluate model--n_jobs = -1 means to use all processors\n",
        "# see https://scikit-learn.org/stable/modules/generated/sklearn.model_selection.cross_val_score.html \n",
        "decTreeScores = cross_val_score(dectree, task, lab, scoring='accuracy', cv=cv, n_jobs=-1)\n",
        "\n",
        "# report performance--we take the average accuracy over all folds. 1- just gives us the error rate\n",
        "print(\"The k-fold cross-validated error rate is \" + str((1-np.mean(decTreeScores))*100)+ \"%.\")"
      ],
      "execution_count": 89,
      "outputs": [
        {
          "output_type": "stream",
          "text": [
            "The k-fold cross-validated error rate is 17.947598938909547%.\n"
          ],
          "name": "stdout"
        }
      ]
    },
    {
      "cell_type": "markdown",
      "metadata": {
        "id": "2mpsOggQnjzP"
      },
      "source": [
        "#### ROC/AUC measurements for decision tree\n",
        "\n"
      ]
    },
    {
      "cell_type": "code",
      "metadata": {
        "colab": {
          "base_uri": "https://localhost:8080/",
          "height": 314
        },
        "id": "9DWQvDxknjHf",
        "outputId": "f7bcb8d6-0d2b-4f6e-d79a-aa638ab2a6a3"
      },
      "source": [
        "# get false positive/true positive rates\n",
        "fpr, tpr, threshold = metrics.roc_curve(ytest, decpred)\n",
        "\n",
        "# get roc/auc measurements\n",
        "dectree_auc = roc_auc_score(ytest, decpred)\n",
        "print('Decision tree ROC AUC=%.3f' % (dectree_auc))\n",
        "\n",
        "# plot ROC/AUC\n",
        "plt.title('ROC for decision tree')\n",
        "plt.plot(fpr, tpr, 'b', label = 'AUC = %0.2f' % dectree_auc)\n",
        "plt.legend(loc = 'lower right')\n",
        "\n",
        "# plot a dotted line for the threshold\n",
        "plt.plot([0, 1], [0, 1],'r--')\n",
        "\n",
        "# set axes limits and labels\n",
        "plt.xlim([0, 1])\n",
        "plt.ylim([0, 1])\n",
        "plt.ylabel('True Positive Rate')\n",
        "plt.xlabel('False Positive Rate')\n",
        "plt.show()"
      ],
      "execution_count": 90,
      "outputs": [
        {
          "output_type": "stream",
          "text": [
            "Decision tree ROC AUC=0.572\n"
          ],
          "name": "stdout"
        },
        {
          "output_type": "display_data",
          "data": {
            "image/png": "[encoded data removed]",
            "text/plain": [
              "<Figure size 432x288 with 1 Axes>"
            ]
          },
          "metadata": {
            "tags": [],
            "needs_background": "light"
          }
        }
      ]
    },
    {
      "cell_type": "markdown",
      "metadata": {
        "id": "MrBboYxky0wU"
      },
      "source": [
        "##### Feature importance for decision tree\n",
        "\n",
        "Same as the previous feature importance calculation. Code from [here](https://machinelearningmastery.com/calculate-feature-importance-with-python/)]. This would be less efficient to loop over as 1) not every model can produce feature importance plots like this and 2) they rely on different parameters to produce this output. "
      ]
    },
    {
      "cell_type": "code",
      "metadata": {
        "colab": {
          "base_uri": "https://localhost:8080/",
          "height": 295
        },
        "id": "KJiSaLPhxvFY",
        "outputId": "92d77cf3-3175-47e0-cd12-c02d415ccfba"
      },
      "source": [
        "# get feature importance for decision tree\n",
        "importance = dectree.feature_importances_\n",
        "\n",
        "# visualize results w bar plot\n",
        "plt.bar([x for x in range(len(importance))], importance)\n",
        "plt.title(\"Feature importance for decision tree\")\n",
        "plt.xlabel(\"Feature\")\n",
        "plt.ylabel(\"Relative importance\")\n",
        "plt.show()"
      ],
      "execution_count": 91,
      "outputs": [
        {
          "output_type": "display_data",
          "data": {
            "image/png": "[encoded data removed]",
            "text/plain": [
              "<Figure size 432x288 with 1 Axes>"
            ]
          },
          "metadata": {
            "tags": [],
            "needs_background": "light"
          }
        }
      ]
    },
    {
      "cell_type": "markdown",
      "metadata": {
        "id": "_wOF0AllWl9l"
      },
      "source": [
        "### Decision tree with boosting\n",
        "\n",
        "Since AdaBoost is generally performed with decision trees, this is particularly salient to try out. "
      ]
    },
    {
      "cell_type": "code",
      "metadata": {
        "colab": {
          "base_uri": "https://localhost:8080/"
        },
        "id": "SPEkM_DoWx7p",
        "outputId": "75e5f4d5-af38-4ca7-ba1c-b54f34cbc95d"
      },
      "source": [
        "# set up the booster on the decision tree classifier you already made\n",
        "decAda = AdaBoostClassifier(dectree)\n",
        "\n",
        "# fit it to the data\n",
        "decAdaPred = decAda.fit(xtrain, ytrain).predict(xtest)\n",
        "\n",
        "# calculate the percent error--errors/(size of test set)*100\n",
        "decAdaerror = float((decAdaPred != ytest).sum()/len(xtest))*100\n",
        "\n",
        "# What was the error?\n",
        "print(\"With AdaBoost, we get an decision tree error rate of {}%.\".format(decAdaerror))"
      ],
      "execution_count": 92,
      "outputs": [
        {
          "output_type": "stream",
          "text": [
            "With AdaBoost, we get an decision tree error rate of 18.49611063094209%.\n"
          ],
          "name": "stdout"
        }
      ]
    },
    {
      "cell_type": "markdown",
      "metadata": {
        "id": "OpFMCirbB6aR"
      },
      "source": [
        "#### K-fold cross validation for decision tree with boosting"
      ]
    },
    {
      "cell_type": "code",
      "metadata": {
        "colab": {
          "base_uri": "https://localhost:8080/"
        },
        "id": "Kc28C9j1CB3z",
        "outputId": "450f2f6d-bcdb-46ba-9f17-bafc6ce2864b"
      },
      "source": [
        "# prepare the cross-validation procedure\n",
        "cv = KFold(n_splits=10, random_state=1, shuffle=True)\n",
        "\n",
        "# get the task and associated labels\n",
        "task = datasets[taskind]\n",
        "lab = labels[taskind]\n",
        "\n",
        "# evaluate model--n_jobs = -1 means to use all processors\n",
        "# see https://scikit-learn.org/stable/modules/generated/sklearn.model_selection.cross_val_score.html \n",
        "decAdaTreeScores = cross_val_score(decAda, model, lab, scoring='accuracy', cv=cv, n_jobs=-1)\n",
        "\n",
        "# report performance--we take the average accuracy over all folds. 1- just gives us the error rate\n",
        "print(\"The k-fold cross-validated error rate is \" + str((1-np.mean(decAdaTreeScores))*100)+ \"%.\")"
      ],
      "execution_count": 108,
      "outputs": [
        {
          "output_type": "stream",
          "text": [
            "The k-fold cross-validated error rate is 17.740225735929638%.\n"
          ],
          "name": "stdout"
        }
      ]
    },
    {
      "cell_type": "markdown",
      "metadata": {
        "id": "XScT3C8SwBFF"
      },
      "source": [
        "#### ROC/AUC measurements for decision tree with boosting\n"
      ]
    },
    {
      "cell_type": "code",
      "metadata": {
        "colab": {
          "base_uri": "https://localhost:8080/",
          "height": 314
        },
        "id": "6amcvZ7YtOpR",
        "outputId": "42a75022-506e-449c-f9e6-ab4d23e5224f"
      },
      "source": [
        "# get false positive/true positive rates\n",
        "fpr, tpr, threshold = metrics.roc_curve(ytest, decAdaPred)\n",
        "\n",
        "# get roc/auc measurements\n",
        "decAda_auc = roc_auc_score(ytest, decAdaPred)\n",
        "print('Decision tree with adaboost ROC AUC=%.3f' % (decAda_auc))\n",
        "\n",
        "# plot ROC/AUC\n",
        "plt.title('ROC for decision tree with boosting')\n",
        "plt.plot(fpr, tpr, 'b', label = 'AUC = %0.2f' % decAda_auc)\n",
        "plt.legend(loc = 'lower right')\n",
        "\n",
        "# plot a dotted line for the threshold\n",
        "plt.plot([0, 1], [0, 1],'r--')\n",
        "\n",
        "# set axes limits and labels\n",
        "plt.xlim([0, 1])\n",
        "plt.ylim([0, 1])\n",
        "plt.ylabel('True Positive Rate')\n",
        "plt.xlabel('False Positive Rate')\n",
        "plt.show()"
      ],
      "execution_count": 94,
      "outputs": [
        {
          "output_type": "stream",
          "text": [
            "Decision tree with adaboost ROC AUC=0.580\n"
          ],
          "name": "stdout"
        },
        {
          "output_type": "display_data",
          "data": {
            "image/png": "[encoded data removed]",
            "text/plain": [
              "<Figure size 432x288 with 1 Axes>"
            ]
          },
          "metadata": {
            "tags": [],
            "needs_background": "light"
          }
        }
      ]
    },
    {
      "cell_type": "markdown",
      "metadata": {
        "id": "wODImlWSmYfj"
      },
      "source": [
        "##### Feature importance for decision tree with boosting\n",
        "\n",
        "To what degree did each column [feature] contribute to the final output? Let me check feature importance [from [here](https://machinelearningmastery.com/calculate-feature-importance-with-python/)]"
      ]
    },
    {
      "cell_type": "code",
      "metadata": {
        "colab": {
          "base_uri": "https://localhost:8080/",
          "height": 295
        },
        "id": "xPYBOStcsMtO",
        "outputId": "481775ba-dfbf-490e-9fa6-06b6a5ee7022"
      },
      "source": [
        "# get feature importance for decision tree\n",
        "importance = decAda.feature_importances_\n",
        "\n",
        "# visualize results w bar plot\n",
        "plt.bar([x for x in range(len(importance))], importance)\n",
        "plt.title(\"Feature importance for decision tree with adaboost\")\n",
        "plt.xlabel(\"Feature\")\n",
        "plt.ylabel(\"Relative importance\")\n",
        "plt.show()"
      ],
      "execution_count": 95,
      "outputs": [
        {
          "output_type": "display_data",
          "data": {
            "image/png": "[encoded data removed]",
            "text/plain": [
              "<Figure size 432x288 with 1 Axes>"
            ]
          },
          "metadata": {
            "tags": [],
            "needs_background": "light"
          }
        }
      ]
    },
    {
      "cell_type": "markdown",
      "metadata": {
        "id": "IuTd56VeUiii"
      },
      "source": [
        "### SVM classification\n",
        "\n",
        "SVMs are a powerful tool and we hope that the kernel trick [some nice visualizations [here](https://towardsdatascience.com/the-kernel-trick-c98cdbcaeb3f)] will work in our favor here, especially if the data is not linearly separable. Having said that, we are not optimizing for kernel choice here. As a result, these results aren't necessarily an indication that there exists some function that can transform our data into a space where it is linearly separable. "
      ]
    },
    {
      "cell_type": "code",
      "metadata": {
        "colab": {
          "base_uri": "https://localhost:8080/"
        },
        "id": "V11oXEuE10Ym",
        "outputId": "b48bf4d4-a0d5-43bc-a072-e4bde8b7fc2e"
      },
      "source": [
        "# set up the svm\n",
        "supportvm = svm.SVC()\n",
        "\n",
        "# predict the test data's labels\n",
        "svmpred = supportvm.fit(xtrain, ytrain).predict(xtest)\n",
        "\n",
        "# compute the error\n",
        "# number of errors\n",
        "numSVMError = (svmpred != ytest).sum()\n",
        "\n",
        "# calculate the percent error--errors/(size of test set)*100\n",
        "svmerror = float(numSVMError/len(xtest))*100\n",
        "\n",
        "# How many errors did we get?\n",
        "print(\"Out of \"+str(len(xtest))+\" points, the SVM produced \"+str(numSVMError)+\" errors, resulting in an error rate of \" + str(svmerror)+\"%.\")"
      ],
      "execution_count": 96,
      "outputs": [
        {
          "output_type": "stream",
          "text": [
            "Out of 3471 points, the SVM produced 402 errors, resulting in an error rate of 11.581676750216076%.\n"
          ],
          "name": "stdout"
        }
      ]
    },
    {
      "cell_type": "markdown",
      "metadata": {
        "id": "oqzg6Y5uDTcv"
      },
      "source": [
        "#### K-fold cross validation for SVM"
      ]
    },
    {
      "cell_type": "code",
      "metadata": {
        "colab": {
          "base_uri": "https://localhost:8080/"
        },
        "id": "p3zLui5tDWKi",
        "outputId": "c7ab6dc5-bbe5-4273-e678-06696202f5e4"
      },
      "source": [
        "# prepare the cross-validation procedure\n",
        "cv = KFold(n_splits=10, random_state=1, shuffle=True)\n",
        "\n",
        "# get the task and associated labels\n",
        "task = datasets[taskind]\n",
        "lab = labels[taskind]\n",
        "\n",
        "# evaluate model--n_jobs = -1 means to use all processors\n",
        "# see https://scikit-learn.org/stable/modules/generated/sklearn.model_selection.cross_val_score.html \n",
        "svmScores = cross_val_score(supportvm, task, lab, scoring='accuracy', cv=cv, n_jobs=-1)\n",
        "\n",
        "# report performance--we take the average accuracy over all folds. 1- just gives us the error rate\n",
        "print(\"The k-fold cross-validated error rate is \" + str((1-np.mean(svmScores))*100)+ \"%.\")"
      ],
      "execution_count": 97,
      "outputs": [
        {
          "output_type": "stream",
          "text": [
            "/usr/local/lib/python3.7/dist-packages/joblib/externals/loky/process_executor.py:691: UserWarning: A worker stopped while some jobs were given to the executor. This can be caused by a too short worker timeout or by a memory leak.\n",
            "  \"timeout or by a memory leak.\", UserWarning\n"
          ],
          "name": "stderr"
        },
        {
          "output_type": "stream",
          "text": [
            "The k-fold cross-validated error rate is 11.619179778271583%.\n"
          ],
          "name": "stdout"
        }
      ]
    },
    {
      "cell_type": "markdown",
      "metadata": {
        "id": "toOcad9ywKXh"
      },
      "source": [
        "#### ROC/AUC measurements for SVM"
      ]
    },
    {
      "cell_type": "code",
      "metadata": {
        "colab": {
          "base_uri": "https://localhost:8080/",
          "height": 314
        },
        "id": "nFtc32basIj3",
        "outputId": "8521fbac-8888-4a34-a951-b2f5e729fc51"
      },
      "source": [
        "# get false positive/true positive rates\n",
        "fpr, tpr, threshold = metrics.roc_curve(ytest, svmpred)\n",
        "\n",
        "# get roc/auc measurements\n",
        "svm_auc = roc_auc_score(ytest, svmpred)\n",
        "print('SVM ROC AUC=%.3f' % (svm_auc))\n",
        "\n",
        "# plot ROC/AUC\n",
        "plt.title('ROC for SVM')\n",
        "plt.plot(fpr, tpr, 'b', label = 'AUC = %0.2f' % svm_auc)\n",
        "plt.legend(loc = 'lower right')\n",
        "\n",
        "# plot a dotted line for the threshold\n",
        "plt.plot([0, 1], [0, 1],'r--')\n",
        "\n",
        "# set axes limits and labels\n",
        "plt.xlim([0, 1])\n",
        "plt.ylim([0, 1])\n",
        "plt.ylabel('True Positive Rate')\n",
        "plt.xlabel('False Positive Rate')\n",
        "plt.show()"
      ],
      "execution_count": 98,
      "outputs": [
        {
          "output_type": "stream",
          "text": [
            "SVM ROC AUC=0.501\n"
          ],
          "name": "stdout"
        },
        {
          "output_type": "display_data",
          "data": {
            "image/png": "[encoded data removed]",
            "text/plain": [
              "<Figure size 432x288 with 1 Axes>"
            ]
          },
          "metadata": {
            "tags": [],
            "needs_background": "light"
          }
        }
      ]
    },
    {
      "cell_type": "markdown",
      "metadata": {
        "id": "ryonYRCkmd9k"
      },
      "source": [
        "##### Feature importance for SVM\n",
        "\n",
        "Unfortunately the only SVM setting that produces feature importance measurements is a linear kernel. Linear kernels take prohibitively long to run so we're not using them here. Since the separating hyperplane used by a nonlinear-kernel SVM acts on a transformed feature space not drectly related to the input, it doesn't make sense to calculate feature importance. For more information see [here](https://stackoverflow.com/questions/21260691/how-to-obtain-features-weights)."
      ]
    },
    {
      "cell_type": "markdown",
      "metadata": {
        "id": "HP5kvkLFgVr9"
      },
      "source": [
        "## Ensemble classification approaches\n",
        "\n",
        "Perhaps ensemble classification approaches can leverage the power of multiple classifiers to produce a consensus classifcation that outperforms our other models. We'll use two standard approaches -- random forest and a majority vote combining all previous classifiers. \n",
        "\n",
        "Yes, AdaBoost is an ensemble classification approach. Since we were using it with a non-ensemble classifier that we had run, however, we left it in the section above. "
      ]
    },
    {
      "cell_type": "markdown",
      "metadata": {
        "id": "LtvpHZ_6UlWp"
      },
      "source": [
        "### Random forest classification\n",
        "\n",
        "This has some superficial similarities with our \"AdaBoost with decision tree\" approach as it uses an ensemble of decision trees to classify. The difference is in the way those decision trees are utilized to facilitate that classification. There is a nice description of random forest [here](https://towardsdatascience.com/understanding-random-forest-58381e0602d2) along with some images. "
      ]
    },
    {
      "cell_type": "code",
      "metadata": {
        "colab": {
          "base_uri": "https://localhost:8080/"
        },
        "id": "QI8kJdq3gc-k",
        "outputId": "f43ffb6e-c8ea-4075-e2f8-8b3f0b3452d1"
      },
      "source": [
        "# set up your random forest--I'll try these default parameters and see if I need to tune them\n",
        "randomforest = RandomForestClassifier(n_estimators = 50, max_depth = None, random_state = 10, max_features = 'auto')\n",
        "\n",
        "# predict the test data's labels\n",
        "rfpred = randomforest.fit(xtrain, ytrain).predict(xtest)\n",
        "\n",
        "# calculate the percent error--errors/(size of test set)*100\n",
        "numRFError = (rfpred != ytest).sum()\n",
        "rferror = float(numRFError/len(xtest))*100\n",
        "\n",
        "# How many errors did we get?\n",
        "print(\"Out of \"+str(len(xtest))+\" points, the random forest produced \"+str(numRFError)+\" errors, resulting in an error rate of \" + str(rferror)+\"%.\")"
      ],
      "execution_count": 99,
      "outputs": [
        {
          "output_type": "stream",
          "text": [
            "Out of 3471 points, the random forest produced 397 errors, resulting in an error rate of 11.437626044367617%.\n"
          ],
          "name": "stdout"
        }
      ]
    },
    {
      "cell_type": "markdown",
      "metadata": {
        "id": "qUig0vRUDmN3"
      },
      "source": [
        "#### K-fold cross validation for random forest"
      ]
    },
    {
      "cell_type": "code",
      "metadata": {
        "colab": {
          "base_uri": "https://localhost:8080/"
        },
        "id": "gOF_S7jRDo5G",
        "outputId": "20b9d582-4c8b-4d8d-a351-a80fb871491b"
      },
      "source": [
        "# prepare the cross-validation procedure\n",
        "cv = KFold(n_splits=10, random_state=1, shuffle=True)\n",
        "\n",
        "# get the task and associated labels\n",
        "task = datasets[taskind]\n",
        "lab = labels[taskind]\n",
        "\n",
        "# evaluate model--n_jobs = -1 means to use all processors\n",
        "# see https://scikit-learn.org/stable/modules/generated/sklearn.model_selection.cross_val_score.html \n",
        "rfScores = cross_val_score(randomforest, task, lab, scoring='accuracy', cv=cv, n_jobs=-1)\n",
        "\n",
        "#report performance--we take the average accuracy over all folds. 1- just gives us the error rate\n",
        "print(\"The k-fold cross-validated error rate is \" + str((1-np.mean(rfScores))*100)+ \"%.\")"
      ],
      "execution_count": 100,
      "outputs": [
        {
          "output_type": "stream",
          "text": [
            "The k-fold cross-validated error rate is 11.325338768381421%.\n"
          ],
          "name": "stdout"
        }
      ]
    },
    {
      "cell_type": "markdown",
      "metadata": {
        "id": "d9x7zWYBwRqg"
      },
      "source": [
        "#### ROC/AUC measurements for random forest"
      ]
    },
    {
      "cell_type": "code",
      "metadata": {
        "colab": {
          "base_uri": "https://localhost:8080/",
          "height": 314
        },
        "id": "S-VPSwxntyXq",
        "outputId": "73e4d021-173d-4170-a2c5-44d2cbc97ff6"
      },
      "source": [
        "# get false positive/true positive rates\n",
        "fpr, tpr, threshold = metrics.roc_curve(ytest, rfpred)\n",
        "\n",
        "# get roc/auc measurements\n",
        "rf_auc = roc_auc_score(ytest, rfpred)\n",
        "print('Random forest ROC AUC=%.3f' % (rf_auc))\n",
        "\n",
        "# plot ROC/AUC\n",
        "plt.title('ROC for random forest')\n",
        "plt.plot(fpr, tpr, 'b', label = 'AUC = %0.2f' % rf_auc)\n",
        "plt.legend(loc = 'lower right')\n",
        "\n",
        "# plot a dotted line for the threshold\n",
        "plt.plot([0, 1], [0, 1],'r--')\n",
        "\n",
        "# set axes limits and labels\n",
        "plt.xlim([0, 1])\n",
        "plt.ylim([0, 1])\n",
        "plt.ylabel('True Positive Rate')\n",
        "plt.xlabel('False Positive Rate')\n",
        "plt.show()"
      ],
      "execution_count": 101,
      "outputs": [
        {
          "output_type": "stream",
          "text": [
            "Random forest ROC AUC=0.515\n"
          ],
          "name": "stdout"
        },
        {
          "output_type": "display_data",
          "data": {
            "image/png": "[encoded data removed]",
            "text/plain": [
              "<Figure size 432x288 with 1 Axes>"
            ]
          },
          "metadata": {
            "tags": [],
            "needs_background": "light"
          }
        }
      ]
    },
    {
      "cell_type": "markdown",
      "metadata": {
        "id": "oSLYMOWPmjov"
      },
      "source": [
        "##### Feature importance for random forest\n",
        "\n",
        "To what degree did each column [feature] contribute to the final output? Let me check feature importance [from [here](https://machinelearningmastery.com/calculate-feature-importance-with-python/)]"
      ]
    },
    {
      "cell_type": "code",
      "metadata": {
        "colab": {
          "base_uri": "https://localhost:8080/",
          "height": 295
        },
        "id": "pCGal9mm0TYY",
        "outputId": "8a7ec3de-6acb-499e-b9e0-f770bcccdd82"
      },
      "source": [
        "# get feature importance for random forest\n",
        "importance = randomforest.feature_importances_\n",
        "\n",
        "# visualize results w bar plot\n",
        "plt.bar([x for x in range(len(importance))], importance)\n",
        "plt.title(\"Feature importance for random forest\")\n",
        "plt.xlabel(\"Feature\")\n",
        "plt.ylabel(\"Relative importance\")\n",
        "plt.show()"
      ],
      "execution_count": 102,
      "outputs": [
        {
          "output_type": "display_data",
          "data": {
            "image/png": "[encoded data removed]",
            "text/plain": [
              "<Figure size 432x288 with 1 Axes>"
            ]
          },
          "metadata": {
            "tags": [],
            "needs_background": "light"
          }
        }
      ]
    },
    {
      "cell_type": "markdown",
      "metadata": {
        "id": "5LZVQAiJhSyw"
      },
      "source": [
        "### Majority vote classification\n",
        "\n",
        "We'll just take all our previous models [GLM, GLM+adaboost, decision tree, decision tree+adaboost, SVM and random forest] and produce an ensemble -- see if that improves performance. \n",
        "\n",
        "\n",
        "As a small note -- we did try a \"soft\" voting approach [predicts class based on _argmax(sum(predicted class probabilities))_ ] but found that it did not execute properly, so we use \"hard\" voting here. "
      ]
    },
    {
      "cell_type": "code",
      "metadata": {
        "id": "X6SX6dqWhSj6",
        "colab": {
          "base_uri": "https://localhost:8080/"
        },
        "outputId": "3813d511-c296-4ba5-a730-7b9c8bbd3325"
      },
      "source": [
        "# set up the majority vote from all our previous models [without adaboost]\n",
        "# \"hard\" voting just means that we predict the label for each data point using the labels from each constituent classifier\n",
        "majvote = VotingClassifier(estimators=[('glm', LR), ('LA', LRAda), ('dt', dectree), ('da', decAda), ('svm', supportvm), ('rf', randomforest)], voting='hard')\n",
        "\n",
        "# predict the test data's labels\n",
        "majpred = majvote.fit(xtrain, ytrain).predict(xtest)\n",
        "\n",
        "# calculate the percent error--errors/(size of test set)*100\n",
        "majerror = ((majpred != ytest).sum()/len(xtest))*100"
      ],
      "execution_count": 103,
      "outputs": [
        {
          "output_type": "stream",
          "text": [
            "/usr/local/lib/python3.7/dist-packages/sklearn/linear_model/_logistic.py:940: ConvergenceWarning: lbfgs failed to converge (status=1):\n",
            "STOP: TOTAL NO. of ITERATIONS REACHED LIMIT.\n",
            "\n",
            "Increase the number of iterations (max_iter) or scale the data as shown in:\n",
            "    https://scikit-learn.org/stable/modules/preprocessing.html\n",
            "Please also refer to the documentation for alternative solver options:\n",
            "    https://scikit-learn.org/stable/modules/linear_model.html#logistic-regression\n",
            "  extra_warning_msg=_LOGISTIC_SOLVER_CONVERGENCE_MSG)\n",
            "/usr/local/lib/python3.7/dist-packages/sklearn/linear_model/_logistic.py:940: ConvergenceWarning: lbfgs failed to converge (status=1):\n",
            "STOP: TOTAL NO. of ITERATIONS REACHED LIMIT.\n",
            "\n",
            "Increase the number of iterations (max_iter) or scale the data as shown in:\n",
            "    https://scikit-learn.org/stable/modules/preprocessing.html\n",
            "Please also refer to the documentation for alternative solver options:\n",
            "    https://scikit-learn.org/stable/modules/linear_model.html#logistic-regression\n",
            "  extra_warning_msg=_LOGISTIC_SOLVER_CONVERGENCE_MSG)\n",
            "/usr/local/lib/python3.7/dist-packages/sklearn/linear_model/_logistic.py:940: ConvergenceWarning: lbfgs failed to converge (status=1):\n",
            "STOP: TOTAL NO. of ITERATIONS REACHED LIMIT.\n",
            "\n",
            "Increase the number of iterations (max_iter) or scale the data as shown in:\n",
            "    https://scikit-learn.org/stable/modules/preprocessing.html\n",
            "Please also refer to the documentation for alternative solver options:\n",
            "    https://scikit-learn.org/stable/modules/linear_model.html#logistic-regression\n",
            "  extra_warning_msg=_LOGISTIC_SOLVER_CONVERGENCE_MSG)\n",
            "/usr/local/lib/python3.7/dist-packages/sklearn/linear_model/_logistic.py:940: ConvergenceWarning: lbfgs failed to converge (status=1):\n",
            "STOP: TOTAL NO. of ITERATIONS REACHED LIMIT.\n",
            "\n",
            "Increase the number of iterations (max_iter) or scale the data as shown in:\n",
            "    https://scikit-learn.org/stable/modules/preprocessing.html\n",
            "Please also refer to the documentation for alternative solver options:\n",
            "    https://scikit-learn.org/stable/modules/linear_model.html#logistic-regression\n",
            "  extra_warning_msg=_LOGISTIC_SOLVER_CONVERGENCE_MSG)\n",
            "/usr/local/lib/python3.7/dist-packages/sklearn/linear_model/_logistic.py:940: ConvergenceWarning: lbfgs failed to converge (status=1):\n",
            "STOP: TOTAL NO. of ITERATIONS REACHED LIMIT.\n",
            "\n",
            "Increase the number of iterations (max_iter) or scale the data as shown in:\n",
            "    https://scikit-learn.org/stable/modules/preprocessing.html\n",
            "Please also refer to the documentation for alternative solver options:\n",
            "    https://scikit-learn.org/stable/modules/linear_model.html#logistic-regression\n",
            "  extra_warning_msg=_LOGISTIC_SOLVER_CONVERGENCE_MSG)\n",
            "/usr/local/lib/python3.7/dist-packages/sklearn/linear_model/_logistic.py:940: ConvergenceWarning: lbfgs failed to converge (status=1):\n",
            "STOP: TOTAL NO. of ITERATIONS REACHED LIMIT.\n",
            "\n",
            "Increase the number of iterations (max_iter) or scale the data as shown in:\n",
            "    https://scikit-learn.org/stable/modules/preprocessing.html\n",
            "Please also refer to the documentation for alternative solver options:\n",
            "    https://scikit-learn.org/stable/modules/linear_model.html#logistic-regression\n",
            "  extra_warning_msg=_LOGISTIC_SOLVER_CONVERGENCE_MSG)\n",
            "/usr/local/lib/python3.7/dist-packages/sklearn/linear_model/_logistic.py:940: ConvergenceWarning: lbfgs failed to converge (status=1):\n",
            "STOP: TOTAL NO. of ITERATIONS REACHED LIMIT.\n",
            "\n",
            "Increase the number of iterations (max_iter) or scale the data as shown in:\n",
            "    https://scikit-learn.org/stable/modules/preprocessing.html\n",
            "Please also refer to the documentation for alternative solver options:\n",
            "    https://scikit-learn.org/stable/modules/linear_model.html#logistic-regression\n",
            "  extra_warning_msg=_LOGISTIC_SOLVER_CONVERGENCE_MSG)\n",
            "/usr/local/lib/python3.7/dist-packages/sklearn/linear_model/_logistic.py:940: ConvergenceWarning: lbfgs failed to converge (status=1):\n",
            "STOP: TOTAL NO. of ITERATIONS REACHED LIMIT.\n",
            "\n",
            "Increase the number of iterations (max_iter) or scale the data as shown in:\n",
            "    https://scikit-learn.org/stable/modules/preprocessing.html\n",
            "Please also refer to the documentation for alternative solver options:\n",
            "    https://scikit-learn.org/stable/modules/linear_model.html#logistic-regression\n",
            "  extra_warning_msg=_LOGISTIC_SOLVER_CONVERGENCE_MSG)\n",
            "/usr/local/lib/python3.7/dist-packages/sklearn/linear_model/_logistic.py:940: ConvergenceWarning: lbfgs failed to converge (status=1):\n",
            "STOP: TOTAL NO. of ITERATIONS REACHED LIMIT.\n",
            "\n",
            "Increase the number of iterations (max_iter) or scale the data as shown in:\n",
            "    https://scikit-learn.org/stable/modules/preprocessing.html\n",
            "Please also refer to the documentation for alternative solver options:\n",
            "    https://scikit-learn.org/stable/modules/linear_model.html#logistic-regression\n",
            "  extra_warning_msg=_LOGISTIC_SOLVER_CONVERGENCE_MSG)\n",
            "/usr/local/lib/python3.7/dist-packages/sklearn/linear_model/_logistic.py:940: ConvergenceWarning: lbfgs failed to converge (status=1):\n",
            "STOP: TOTAL NO. of ITERATIONS REACHED LIMIT.\n",
            "\n",
            "Increase the number of iterations (max_iter) or scale the data as shown in:\n",
            "    https://scikit-learn.org/stable/modules/preprocessing.html\n",
            "Please also refer to the documentation for alternative solver options:\n",
            "    https://scikit-learn.org/stable/modules/linear_model.html#logistic-regression\n",
            "  extra_warning_msg=_LOGISTIC_SOLVER_CONVERGENCE_MSG)\n",
            "/usr/local/lib/python3.7/dist-packages/sklearn/linear_model/_logistic.py:940: ConvergenceWarning: lbfgs failed to converge (status=1):\n",
            "STOP: TOTAL NO. of ITERATIONS REACHED LIMIT.\n",
            "\n",
            "Increase the number of iterations (max_iter) or scale the data as shown in:\n",
            "    https://scikit-learn.org/stable/modules/preprocessing.html\n",
            "Please also refer to the documentation for alternative solver options:\n",
            "    https://scikit-learn.org/stable/modules/linear_model.html#logistic-regression\n",
            "  extra_warning_msg=_LOGISTIC_SOLVER_CONVERGENCE_MSG)\n",
            "/usr/local/lib/python3.7/dist-packages/sklearn/linear_model/_logistic.py:940: ConvergenceWarning: lbfgs failed to converge (status=1):\n",
            "STOP: TOTAL NO. of ITERATIONS REACHED LIMIT.\n",
            "\n",
            "Increase the number of iterations (max_iter) or scale the data as shown in:\n",
            "    https://scikit-learn.org/stable/modules/preprocessing.html\n",
            "Please also refer to the documentation for alternative solver options:\n",
            "    https://scikit-learn.org/stable/modules/linear_model.html#logistic-regression\n",
            "  extra_warning_msg=_LOGISTIC_SOLVER_CONVERGENCE_MSG)\n",
            "/usr/local/lib/python3.7/dist-packages/sklearn/linear_model/_logistic.py:940: ConvergenceWarning: lbfgs failed to converge (status=1):\n",
            "STOP: TOTAL NO. of ITERATIONS REACHED LIMIT.\n",
            "\n",
            "Increase the number of iterations (max_iter) or scale the data as shown in:\n",
            "    https://scikit-learn.org/stable/modules/preprocessing.html\n",
            "Please also refer to the documentation for alternative solver options:\n",
            "    https://scikit-learn.org/stable/modules/linear_model.html#logistic-regression\n",
            "  extra_warning_msg=_LOGISTIC_SOLVER_CONVERGENCE_MSG)\n",
            "/usr/local/lib/python3.7/dist-packages/sklearn/linear_model/_logistic.py:940: ConvergenceWarning: lbfgs failed to converge (status=1):\n",
            "STOP: TOTAL NO. of ITERATIONS REACHED LIMIT.\n",
            "\n",
            "Increase the number of iterations (max_iter) or scale the data as shown in:\n",
            "    https://scikit-learn.org/stable/modules/preprocessing.html\n",
            "Please also refer to the documentation for alternative solver options:\n",
            "    https://scikit-learn.org/stable/modules/linear_model.html#logistic-regression\n",
            "  extra_warning_msg=_LOGISTIC_SOLVER_CONVERGENCE_MSG)\n",
            "/usr/local/lib/python3.7/dist-packages/sklearn/linear_model/_logistic.py:940: ConvergenceWarning: lbfgs failed to converge (status=1):\n",
            "STOP: TOTAL NO. of ITERATIONS REACHED LIMIT.\n",
            "\n",
            "Increase the number of iterations (max_iter) or scale the data as shown in:\n",
            "    https://scikit-learn.org/stable/modules/preprocessing.html\n",
            "Please also refer to the documentation for alternative solver options:\n",
            "    https://scikit-learn.org/stable/modules/linear_model.html#logistic-regression\n",
            "  extra_warning_msg=_LOGISTIC_SOLVER_CONVERGENCE_MSG)\n",
            "/usr/local/lib/python3.7/dist-packages/sklearn/linear_model/_logistic.py:940: ConvergenceWarning: lbfgs failed to converge (status=1):\n",
            "STOP: TOTAL NO. of ITERATIONS REACHED LIMIT.\n",
            "\n",
            "Increase the number of iterations (max_iter) or scale the data as shown in:\n",
            "    https://scikit-learn.org/stable/modules/preprocessing.html\n",
            "Please also refer to the documentation for alternative solver options:\n",
            "    https://scikit-learn.org/stable/modules/linear_model.html#logistic-regression\n",
            "  extra_warning_msg=_LOGISTIC_SOLVER_CONVERGENCE_MSG)\n",
            "/usr/local/lib/python3.7/dist-packages/sklearn/linear_model/_logistic.py:940: ConvergenceWarning: lbfgs failed to converge (status=1):\n",
            "STOP: TOTAL NO. of ITERATIONS REACHED LIMIT.\n",
            "\n",
            "Increase the number of iterations (max_iter) or scale the data as shown in:\n",
            "    https://scikit-learn.org/stable/modules/preprocessing.html\n",
            "Please also refer to the documentation for alternative solver options:\n",
            "    https://scikit-learn.org/stable/modules/linear_model.html#logistic-regression\n",
            "  extra_warning_msg=_LOGISTIC_SOLVER_CONVERGENCE_MSG)\n",
            "/usr/local/lib/python3.7/dist-packages/sklearn/linear_model/_logistic.py:940: ConvergenceWarning: lbfgs failed to converge (status=1):\n",
            "STOP: TOTAL NO. of ITERATIONS REACHED LIMIT.\n",
            "\n",
            "Increase the number of iterations (max_iter) or scale the data as shown in:\n",
            "    https://scikit-learn.org/stable/modules/preprocessing.html\n",
            "Please also refer to the documentation for alternative solver options:\n",
            "    https://scikit-learn.org/stable/modules/linear_model.html#logistic-regression\n",
            "  extra_warning_msg=_LOGISTIC_SOLVER_CONVERGENCE_MSG)\n",
            "/usr/local/lib/python3.7/dist-packages/sklearn/linear_model/_logistic.py:940: ConvergenceWarning: lbfgs failed to converge (status=1):\n",
            "STOP: TOTAL NO. of ITERATIONS REACHED LIMIT.\n",
            "\n",
            "Increase the number of iterations (max_iter) or scale the data as shown in:\n",
            "    https://scikit-learn.org/stable/modules/preprocessing.html\n",
            "Please also refer to the documentation for alternative solver options:\n",
            "    https://scikit-learn.org/stable/modules/linear_model.html#logistic-regression\n",
            "  extra_warning_msg=_LOGISTIC_SOLVER_CONVERGENCE_MSG)\n",
            "/usr/local/lib/python3.7/dist-packages/sklearn/linear_model/_logistic.py:940: ConvergenceWarning: lbfgs failed to converge (status=1):\n",
            "STOP: TOTAL NO. of ITERATIONS REACHED LIMIT.\n",
            "\n",
            "Increase the number of iterations (max_iter) or scale the data as shown in:\n",
            "    https://scikit-learn.org/stable/modules/preprocessing.html\n",
            "Please also refer to the documentation for alternative solver options:\n",
            "    https://scikit-learn.org/stable/modules/linear_model.html#logistic-regression\n",
            "  extra_warning_msg=_LOGISTIC_SOLVER_CONVERGENCE_MSG)\n",
            "/usr/local/lib/python3.7/dist-packages/sklearn/linear_model/_logistic.py:940: ConvergenceWarning: lbfgs failed to converge (status=1):\n",
            "STOP: TOTAL NO. of ITERATIONS REACHED LIMIT.\n",
            "\n",
            "Increase the number of iterations (max_iter) or scale the data as shown in:\n",
            "    https://scikit-learn.org/stable/modules/preprocessing.html\n",
            "Please also refer to the documentation for alternative solver options:\n",
            "    https://scikit-learn.org/stable/modules/linear_model.html#logistic-regression\n",
            "  extra_warning_msg=_LOGISTIC_SOLVER_CONVERGENCE_MSG)\n",
            "/usr/local/lib/python3.7/dist-packages/sklearn/linear_model/_logistic.py:940: ConvergenceWarning: lbfgs failed to converge (status=1):\n",
            "STOP: TOTAL NO. of ITERATIONS REACHED LIMIT.\n",
            "\n",
            "Increase the number of iterations (max_iter) or scale the data as shown in:\n",
            "    https://scikit-learn.org/stable/modules/preprocessing.html\n",
            "Please also refer to the documentation for alternative solver options:\n",
            "    https://scikit-learn.org/stable/modules/linear_model.html#logistic-regression\n",
            "  extra_warning_msg=_LOGISTIC_SOLVER_CONVERGENCE_MSG)\n",
            "/usr/local/lib/python3.7/dist-packages/sklearn/linear_model/_logistic.py:940: ConvergenceWarning: lbfgs failed to converge (status=1):\n",
            "STOP: TOTAL NO. of ITERATIONS REACHED LIMIT.\n",
            "\n",
            "Increase the number of iterations (max_iter) or scale the data as shown in:\n",
            "    https://scikit-learn.org/stable/modules/preprocessing.html\n",
            "Please also refer to the documentation for alternative solver options:\n",
            "    https://scikit-learn.org/stable/modules/linear_model.html#logistic-regression\n",
            "  extra_warning_msg=_LOGISTIC_SOLVER_CONVERGENCE_MSG)\n",
            "/usr/local/lib/python3.7/dist-packages/sklearn/linear_model/_logistic.py:940: ConvergenceWarning: lbfgs failed to converge (status=1):\n",
            "STOP: TOTAL NO. of ITERATIONS REACHED LIMIT.\n",
            "\n",
            "Increase the number of iterations (max_iter) or scale the data as shown in:\n",
            "    https://scikit-learn.org/stable/modules/preprocessing.html\n",
            "Please also refer to the documentation for alternative solver options:\n",
            "    https://scikit-learn.org/stable/modules/linear_model.html#logistic-regression\n",
            "  extra_warning_msg=_LOGISTIC_SOLVER_CONVERGENCE_MSG)\n",
            "/usr/local/lib/python3.7/dist-packages/sklearn/linear_model/_logistic.py:940: ConvergenceWarning: lbfgs failed to converge (status=1):\n",
            "STOP: TOTAL NO. of ITERATIONS REACHED LIMIT.\n",
            "\n",
            "Increase the number of iterations (max_iter) or scale the data as shown in:\n",
            "    https://scikit-learn.org/stable/modules/preprocessing.html\n",
            "Please also refer to the documentation for alternative solver options:\n",
            "    https://scikit-learn.org/stable/modules/linear_model.html#logistic-regression\n",
            "  extra_warning_msg=_LOGISTIC_SOLVER_CONVERGENCE_MSG)\n",
            "/usr/local/lib/python3.7/dist-packages/sklearn/linear_model/_logistic.py:940: ConvergenceWarning: lbfgs failed to converge (status=1):\n",
            "STOP: TOTAL NO. of ITERATIONS REACHED LIMIT.\n",
            "\n",
            "Increase the number of iterations (max_iter) or scale the data as shown in:\n",
            "    https://scikit-learn.org/stable/modules/preprocessing.html\n",
            "Please also refer to the documentation for alternative solver options:\n",
            "    https://scikit-learn.org/stable/modules/linear_model.html#logistic-regression\n",
            "  extra_warning_msg=_LOGISTIC_SOLVER_CONVERGENCE_MSG)\n",
            "/usr/local/lib/python3.7/dist-packages/sklearn/linear_model/_logistic.py:940: ConvergenceWarning: lbfgs failed to converge (status=1):\n",
            "STOP: TOTAL NO. of ITERATIONS REACHED LIMIT.\n",
            "\n",
            "Increase the number of iterations (max_iter) or scale the data as shown in:\n",
            "    https://scikit-learn.org/stable/modules/preprocessing.html\n",
            "Please also refer to the documentation for alternative solver options:\n",
            "    https://scikit-learn.org/stable/modules/linear_model.html#logistic-regression\n",
            "  extra_warning_msg=_LOGISTIC_SOLVER_CONVERGENCE_MSG)\n",
            "/usr/local/lib/python3.7/dist-packages/sklearn/linear_model/_logistic.py:940: ConvergenceWarning: lbfgs failed to converge (status=1):\n",
            "STOP: TOTAL NO. of ITERATIONS REACHED LIMIT.\n",
            "\n",
            "Increase the number of iterations (max_iter) or scale the data as shown in:\n",
            "    https://scikit-learn.org/stable/modules/preprocessing.html\n",
            "Please also refer to the documentation for alternative solver options:\n",
            "    https://scikit-learn.org/stable/modules/linear_model.html#logistic-regression\n",
            "  extra_warning_msg=_LOGISTIC_SOLVER_CONVERGENCE_MSG)\n",
            "/usr/local/lib/python3.7/dist-packages/sklearn/linear_model/_logistic.py:940: ConvergenceWarning: lbfgs failed to converge (status=1):\n",
            "STOP: TOTAL NO. of ITERATIONS REACHED LIMIT.\n",
            "\n",
            "Increase the number of iterations (max_iter) or scale the data as shown in:\n",
            "    https://scikit-learn.org/stable/modules/preprocessing.html\n",
            "Please also refer to the documentation for alternative solver options:\n",
            "    https://scikit-learn.org/stable/modules/linear_model.html#logistic-regression\n",
            "  extra_warning_msg=_LOGISTIC_SOLVER_CONVERGENCE_MSG)\n",
            "/usr/local/lib/python3.7/dist-packages/sklearn/linear_model/_logistic.py:940: ConvergenceWarning: lbfgs failed to converge (status=1):\n",
            "STOP: TOTAL NO. of ITERATIONS REACHED LIMIT.\n",
            "\n",
            "Increase the number of iterations (max_iter) or scale the data as shown in:\n",
            "    https://scikit-learn.org/stable/modules/preprocessing.html\n",
            "Please also refer to the documentation for alternative solver options:\n",
            "    https://scikit-learn.org/stable/modules/linear_model.html#logistic-regression\n",
            "  extra_warning_msg=_LOGISTIC_SOLVER_CONVERGENCE_MSG)\n",
            "/usr/local/lib/python3.7/dist-packages/sklearn/linear_model/_logistic.py:940: ConvergenceWarning: lbfgs failed to converge (status=1):\n",
            "STOP: TOTAL NO. of ITERATIONS REACHED LIMIT.\n",
            "\n",
            "Increase the number of iterations (max_iter) or scale the data as shown in:\n",
            "    https://scikit-learn.org/stable/modules/preprocessing.html\n",
            "Please also refer to the documentation for alternative solver options:\n",
            "    https://scikit-learn.org/stable/modules/linear_model.html#logistic-regression\n",
            "  extra_warning_msg=_LOGISTIC_SOLVER_CONVERGENCE_MSG)\n",
            "/usr/local/lib/python3.7/dist-packages/sklearn/linear_model/_logistic.py:940: ConvergenceWarning: lbfgs failed to converge (status=1):\n",
            "STOP: TOTAL NO. of ITERATIONS REACHED LIMIT.\n",
            "\n",
            "Increase the number of iterations (max_iter) or scale the data as shown in:\n",
            "    https://scikit-learn.org/stable/modules/preprocessing.html\n",
            "Please also refer to the documentation for alternative solver options:\n",
            "    https://scikit-learn.org/stable/modules/linear_model.html#logistic-regression\n",
            "  extra_warning_msg=_LOGISTIC_SOLVER_CONVERGENCE_MSG)\n",
            "/usr/local/lib/python3.7/dist-packages/sklearn/linear_model/_logistic.py:940: ConvergenceWarning: lbfgs failed to converge (status=1):\n",
            "STOP: TOTAL NO. of ITERATIONS REACHED LIMIT.\n",
            "\n",
            "Increase the number of iterations (max_iter) or scale the data as shown in:\n",
            "    https://scikit-learn.org/stable/modules/preprocessing.html\n",
            "Please also refer to the documentation for alternative solver options:\n",
            "    https://scikit-learn.org/stable/modules/linear_model.html#logistic-regression\n",
            "  extra_warning_msg=_LOGISTIC_SOLVER_CONVERGENCE_MSG)\n",
            "/usr/local/lib/python3.7/dist-packages/sklearn/linear_model/_logistic.py:940: ConvergenceWarning: lbfgs failed to converge (status=1):\n",
            "STOP: TOTAL NO. of ITERATIONS REACHED LIMIT.\n",
            "\n",
            "Increase the number of iterations (max_iter) or scale the data as shown in:\n",
            "    https://scikit-learn.org/stable/modules/preprocessing.html\n",
            "Please also refer to the documentation for alternative solver options:\n",
            "    https://scikit-learn.org/stable/modules/linear_model.html#logistic-regression\n",
            "  extra_warning_msg=_LOGISTIC_SOLVER_CONVERGENCE_MSG)\n",
            "/usr/local/lib/python3.7/dist-packages/sklearn/linear_model/_logistic.py:940: ConvergenceWarning: lbfgs failed to converge (status=1):\n",
            "STOP: TOTAL NO. of ITERATIONS REACHED LIMIT.\n",
            "\n",
            "Increase the number of iterations (max_iter) or scale the data as shown in:\n",
            "    https://scikit-learn.org/stable/modules/preprocessing.html\n",
            "Please also refer to the documentation for alternative solver options:\n",
            "    https://scikit-learn.org/stable/modules/linear_model.html#logistic-regression\n",
            "  extra_warning_msg=_LOGISTIC_SOLVER_CONVERGENCE_MSG)\n",
            "/usr/local/lib/python3.7/dist-packages/sklearn/linear_model/_logistic.py:940: ConvergenceWarning: lbfgs failed to converge (status=1):\n",
            "STOP: TOTAL NO. of ITERATIONS REACHED LIMIT.\n",
            "\n",
            "Increase the number of iterations (max_iter) or scale the data as shown in:\n",
            "    https://scikit-learn.org/stable/modules/preprocessing.html\n",
            "Please also refer to the documentation for alternative solver options:\n",
            "    https://scikit-learn.org/stable/modules/linear_model.html#logistic-regression\n",
            "  extra_warning_msg=_LOGISTIC_SOLVER_CONVERGENCE_MSG)\n",
            "/usr/local/lib/python3.7/dist-packages/sklearn/linear_model/_logistic.py:940: ConvergenceWarning: lbfgs failed to converge (status=1):\n",
            "STOP: TOTAL NO. of ITERATIONS REACHED LIMIT.\n",
            "\n",
            "Increase the number of iterations (max_iter) or scale the data as shown in:\n",
            "    https://scikit-learn.org/stable/modules/preprocessing.html\n",
            "Please also refer to the documentation for alternative solver options:\n",
            "    https://scikit-learn.org/stable/modules/linear_model.html#logistic-regression\n",
            "  extra_warning_msg=_LOGISTIC_SOLVER_CONVERGENCE_MSG)\n",
            "/usr/local/lib/python3.7/dist-packages/sklearn/linear_model/_logistic.py:940: ConvergenceWarning: lbfgs failed to converge (status=1):\n",
            "STOP: TOTAL NO. of ITERATIONS REACHED LIMIT.\n",
            "\n",
            "Increase the number of iterations (max_iter) or scale the data as shown in:\n",
            "    https://scikit-learn.org/stable/modules/preprocessing.html\n",
            "Please also refer to the documentation for alternative solver options:\n",
            "    https://scikit-learn.org/stable/modules/linear_model.html#logistic-regression\n",
            "  extra_warning_msg=_LOGISTIC_SOLVER_CONVERGENCE_MSG)\n",
            "/usr/local/lib/python3.7/dist-packages/sklearn/linear_model/_logistic.py:940: ConvergenceWarning: lbfgs failed to converge (status=1):\n",
            "STOP: TOTAL NO. of ITERATIONS REACHED LIMIT.\n",
            "\n",
            "Increase the number of iterations (max_iter) or scale the data as shown in:\n",
            "    https://scikit-learn.org/stable/modules/preprocessing.html\n",
            "Please also refer to the documentation for alternative solver options:\n",
            "    https://scikit-learn.org/stable/modules/linear_model.html#logistic-regression\n",
            "  extra_warning_msg=_LOGISTIC_SOLVER_CONVERGENCE_MSG)\n",
            "/usr/local/lib/python3.7/dist-packages/sklearn/linear_model/_logistic.py:940: ConvergenceWarning: lbfgs failed to converge (status=1):\n",
            "STOP: TOTAL NO. of ITERATIONS REACHED LIMIT.\n",
            "\n",
            "Increase the number of iterations (max_iter) or scale the data as shown in:\n",
            "    https://scikit-learn.org/stable/modules/preprocessing.html\n",
            "Please also refer to the documentation for alternative solver options:\n",
            "    https://scikit-learn.org/stable/modules/linear_model.html#logistic-regression\n",
            "  extra_warning_msg=_LOGISTIC_SOLVER_CONVERGENCE_MSG)\n",
            "/usr/local/lib/python3.7/dist-packages/sklearn/linear_model/_logistic.py:940: ConvergenceWarning: lbfgs failed to converge (status=1):\n",
            "STOP: TOTAL NO. of ITERATIONS REACHED LIMIT.\n",
            "\n",
            "Increase the number of iterations (max_iter) or scale the data as shown in:\n",
            "    https://scikit-learn.org/stable/modules/preprocessing.html\n",
            "Please also refer to the documentation for alternative solver options:\n",
            "    https://scikit-learn.org/stable/modules/linear_model.html#logistic-regression\n",
            "  extra_warning_msg=_LOGISTIC_SOLVER_CONVERGENCE_MSG)\n",
            "/usr/local/lib/python3.7/dist-packages/sklearn/linear_model/_logistic.py:940: ConvergenceWarning: lbfgs failed to converge (status=1):\n",
            "STOP: TOTAL NO. of ITERATIONS REACHED LIMIT.\n",
            "\n",
            "Increase the number of iterations (max_iter) or scale the data as shown in:\n",
            "    https://scikit-learn.org/stable/modules/preprocessing.html\n",
            "Please also refer to the documentation for alternative solver options:\n",
            "    https://scikit-learn.org/stable/modules/linear_model.html#logistic-regression\n",
            "  extra_warning_msg=_LOGISTIC_SOLVER_CONVERGENCE_MSG)\n",
            "/usr/local/lib/python3.7/dist-packages/sklearn/linear_model/_logistic.py:940: ConvergenceWarning: lbfgs failed to converge (status=1):\n",
            "STOP: TOTAL NO. of ITERATIONS REACHED LIMIT.\n",
            "\n",
            "Increase the number of iterations (max_iter) or scale the data as shown in:\n",
            "    https://scikit-learn.org/stable/modules/preprocessing.html\n",
            "Please also refer to the documentation for alternative solver options:\n",
            "    https://scikit-learn.org/stable/modules/linear_model.html#logistic-regression\n",
            "  extra_warning_msg=_LOGISTIC_SOLVER_CONVERGENCE_MSG)\n",
            "/usr/local/lib/python3.7/dist-packages/sklearn/linear_model/_logistic.py:940: ConvergenceWarning: lbfgs failed to converge (status=1):\n",
            "STOP: TOTAL NO. of ITERATIONS REACHED LIMIT.\n",
            "\n",
            "Increase the number of iterations (max_iter) or scale the data as shown in:\n",
            "    https://scikit-learn.org/stable/modules/preprocessing.html\n",
            "Please also refer to the documentation for alternative solver options:\n",
            "    https://scikit-learn.org/stable/modules/linear_model.html#logistic-regression\n",
            "  extra_warning_msg=_LOGISTIC_SOLVER_CONVERGENCE_MSG)\n",
            "/usr/local/lib/python3.7/dist-packages/sklearn/linear_model/_logistic.py:940: ConvergenceWarning: lbfgs failed to converge (status=1):\n",
            "STOP: TOTAL NO. of ITERATIONS REACHED LIMIT.\n",
            "\n",
            "Increase the number of iterations (max_iter) or scale the data as shown in:\n",
            "    https://scikit-learn.org/stable/modules/preprocessing.html\n",
            "Please also refer to the documentation for alternative solver options:\n",
            "    https://scikit-learn.org/stable/modules/linear_model.html#logistic-regression\n",
            "  extra_warning_msg=_LOGISTIC_SOLVER_CONVERGENCE_MSG)\n",
            "/usr/local/lib/python3.7/dist-packages/sklearn/linear_model/_logistic.py:940: ConvergenceWarning: lbfgs failed to converge (status=1):\n",
            "STOP: TOTAL NO. of ITERATIONS REACHED LIMIT.\n",
            "\n",
            "Increase the number of iterations (max_iter) or scale the data as shown in:\n",
            "    https://scikit-learn.org/stable/modules/preprocessing.html\n",
            "Please also refer to the documentation for alternative solver options:\n",
            "    https://scikit-learn.org/stable/modules/linear_model.html#logistic-regression\n",
            "  extra_warning_msg=_LOGISTIC_SOLVER_CONVERGENCE_MSG)\n",
            "/usr/local/lib/python3.7/dist-packages/sklearn/linear_model/_logistic.py:940: ConvergenceWarning: lbfgs failed to converge (status=1):\n",
            "STOP: TOTAL NO. of ITERATIONS REACHED LIMIT.\n",
            "\n",
            "Increase the number of iterations (max_iter) or scale the data as shown in:\n",
            "    https://scikit-learn.org/stable/modules/preprocessing.html\n",
            "Please also refer to the documentation for alternative solver options:\n",
            "    https://scikit-learn.org/stable/modules/linear_model.html#logistic-regression\n",
            "  extra_warning_msg=_LOGISTIC_SOLVER_CONVERGENCE_MSG)\n",
            "/usr/local/lib/python3.7/dist-packages/sklearn/linear_model/_logistic.py:940: ConvergenceWarning: lbfgs failed to converge (status=1):\n",
            "STOP: TOTAL NO. of ITERATIONS REACHED LIMIT.\n",
            "\n",
            "Increase the number of iterations (max_iter) or scale the data as shown in:\n",
            "    https://scikit-learn.org/stable/modules/preprocessing.html\n",
            "Please also refer to the documentation for alternative solver options:\n",
            "    https://scikit-learn.org/stable/modules/linear_model.html#logistic-regression\n",
            "  extra_warning_msg=_LOGISTIC_SOLVER_CONVERGENCE_MSG)\n",
            "/usr/local/lib/python3.7/dist-packages/sklearn/linear_model/_logistic.py:940: ConvergenceWarning: lbfgs failed to converge (status=1):\n",
            "STOP: TOTAL NO. of ITERATIONS REACHED LIMIT.\n",
            "\n",
            "Increase the number of iterations (max_iter) or scale the data as shown in:\n",
            "    https://scikit-learn.org/stable/modules/preprocessing.html\n",
            "Please also refer to the documentation for alternative solver options:\n",
            "    https://scikit-learn.org/stable/modules/linear_model.html#logistic-regression\n",
            "  extra_warning_msg=_LOGISTIC_SOLVER_CONVERGENCE_MSG)\n",
            "/usr/local/lib/python3.7/dist-packages/sklearn/linear_model/_logistic.py:940: ConvergenceWarning: lbfgs failed to converge (status=1):\n",
            "STOP: TOTAL NO. of ITERATIONS REACHED LIMIT.\n",
            "\n",
            "Increase the number of iterations (max_iter) or scale the data as shown in:\n",
            "    https://scikit-learn.org/stable/modules/preprocessing.html\n",
            "Please also refer to the documentation for alternative solver options:\n",
            "    https://scikit-learn.org/stable/modules/linear_model.html#logistic-regression\n",
            "  extra_warning_msg=_LOGISTIC_SOLVER_CONVERGENCE_MSG)\n",
            "/usr/local/lib/python3.7/dist-packages/sklearn/linear_model/_logistic.py:940: ConvergenceWarning: lbfgs failed to converge (status=1):\n",
            "STOP: TOTAL NO. of ITERATIONS REACHED LIMIT.\n",
            "\n",
            "Increase the number of iterations (max_iter) or scale the data as shown in:\n",
            "    https://scikit-learn.org/stable/modules/preprocessing.html\n",
            "Please also refer to the documentation for alternative solver options:\n",
            "    https://scikit-learn.org/stable/modules/linear_model.html#logistic-regression\n",
            "  extra_warning_msg=_LOGISTIC_SOLVER_CONVERGENCE_MSG)\n"
          ],
          "name": "stderr"
        }
      ]
    },
    {
      "cell_type": "markdown",
      "metadata": {
        "id": "7KB0QUZ4AEgC"
      },
      "source": [
        "What's our error rate?"
      ]
    },
    {
      "cell_type": "code",
      "metadata": {
        "colab": {
          "base_uri": "https://localhost:8080/"
        },
        "id": "tw5zryAMAFog",
        "outputId": "b9fbe227-b858-4e53-9a78-389e3691d36f"
      },
      "source": [
        "# How many errors did we get?\n",
        "print(\"Out of \"+str(len(xtest))+\" points, the majority vote produced \"+str((majpred != ytest).sum())+\" errors, resulting in an error rate of \" + str(majerror)+\"%.\")"
      ],
      "execution_count": 104,
      "outputs": [
        {
          "output_type": "stream",
          "text": [
            "Out of 3471 points, the majority vote produced 403 errors, resulting in an error rate of 11.610486891385769%.\n"
          ],
          "name": "stdout"
        }
      ]
    },
    {
      "cell_type": "markdown",
      "metadata": {
        "id": "YN9enJ19EFMm"
      },
      "source": [
        "#### K-fold cross validation for majority vote"
      ]
    },
    {
      "cell_type": "code",
      "metadata": {
        "colab": {
          "base_uri": "https://localhost:8080/"
        },
        "id": "rwYc8Xx9EJR3",
        "outputId": "731b5714-022a-47cc-8d6c-ce30c4760e6c"
      },
      "source": [
        "# prepare the cross-validation procedure\n",
        "cv = KFold(n_splits=10, random_state=1, shuffle=True)\n",
        "\n",
        "# get the task and associated labels\n",
        "task = datasets[taskind]\n",
        "lab = labels[taskind]\n",
        "\n",
        "# evaluate model--n_jobs = -1 means to use all processors\n",
        "# see https://scikit-learn.org/stable/modules/generated/sklearn.model_selection.cross_val_score.html \n",
        "rfScores = cross_val_score(majvote, taskind, lab, scoring='accuracy', cv=cv, n_jobs=-1)\n",
        "\n",
        "# report performance--we take the average accuracy over all folds. 1- just gives us the error rate\n",
        "print(\"The k-fold cross-validated error rate is \" + str((1-np.mean(rfScores))*100)+ \"%.\")"
      ],
      "execution_count": 107,
      "outputs": [
        {
          "output_type": "stream",
          "text": [
            "The k-fold cross-validated error rate is 11.472233104945673%.\n"
          ],
          "name": "stdout"
        }
      ]
    },
    {
      "cell_type": "markdown",
      "metadata": {
        "id": "RN5x0V2wwVIz"
      },
      "source": [
        "#### ROC/AUC measurements for majority vote\n"
      ]
    },
    {
      "cell_type": "code",
      "metadata": {
        "colab": {
          "base_uri": "https://localhost:8080/",
          "height": 314
        },
        "id": "NIF8fDO_qYUY",
        "outputId": "651ef252-dc96-4acd-d3bb-a3af423743bc"
      },
      "source": [
        "# get false positive/true positive rates\n",
        "fpr, tpr, threshold = metrics.roc_curve(ytest, majpred)\n",
        "\n",
        "# get roc/auc measurements\n",
        "majvote_auc = roc_auc_score(ytest, majpred)\n",
        "print('Majority vote: ROC AUC=%.3f' % (majvote_auc))\n",
        "\n",
        "# plot ROC/AUC\n",
        "plt.title('ROC for majority vote')\n",
        "plt.plot(fpr, tpr, 'b', label = 'AUC = %0.2f' % majvote_auc)\n",
        "plt.legend(loc = 'lower right')\n",
        "\n",
        "# plot a dotted line for the threshold\n",
        "plt.plot([0, 1], [0, 1],'r--')\n",
        "\n",
        "# set axes limits and labels\n",
        "plt.xlim([0, 1])\n",
        "plt.ylim([0, 1])\n",
        "plt.ylabel('True Positive Rate')\n",
        "plt.xlabel('False Positive Rate')\n",
        "plt.show()"
      ],
      "execution_count": 109,
      "outputs": [
        {
          "output_type": "stream",
          "text": [
            "Majority vote: ROC AUC=0.506\n"
          ],
          "name": "stdout"
        },
        {
          "output_type": "display_data",
          "data": {
            "image/png": "[encoded data removed]",
            "text/plain": [
              "<Figure size 432x288 with 1 Axes>"
            ]
          },
          "metadata": {
            "tags": [],
            "needs_background": "light"
          }
        }
      ]
    },
    {
      "cell_type": "markdown",
      "metadata": {
        "id": "9f06p0JZmnac"
      },
      "source": [
        "##### Feature importance for majority vote\n",
        "\n",
        "We couldn't find a way to calculate feature importance here. Additionally, since we are using a SVM with nonlinear kernel as part of the majority voter it doesn't make much sense to do so anyway. "
      ]
    },
    {
      "cell_type": "markdown",
      "metadata": {
        "id": "SUYZranaXDuE"
      },
      "source": [
        "## Analyzing data structure and labels from the non-text LABEVENTS data matrix\n",
        "\n",
        "We wanted to take a look at the data matrix structure to understand why its performance was so poor. We thought that it may have been due to a large amount of NA values throughout the matrix. Coupled with our imputation procedure [substitute NA with column mean] it seems that the LABEVENTS data is not very effective at classifying. \n"
      ]
    },
    {
      "cell_type": "markdown",
      "metadata": {
        "id": "0u4EXYmwlIIt"
      },
      "source": [
        "### Looking at NA values throughout the matrix\n",
        "\n",
        "We noticed that our non-text matrix has a lot of NA values. We calculated  the percent of non-NA values by column as a result -- we realized that a lot of values are either all-NA or are nearly all-NA. This is a caveat of our work! When we fill NA values with the mean from each column it looks like, in the case of many columns, those means are based on a small fraction of values and most of the column consists of these imputed values. "
      ]
    },
    {
      "cell_type": "code",
      "metadata": {
        "colab": {
          "base_uri": "https://localhost:8080/",
          "height": 295
        },
        "id": "lKGEypHNXCZQ",
        "outputId": "8af4ca34-2aa4-44a1-850e-6ebc4a2a2f9a"
      },
      "source": [
        "# looks like all the rows have na values somewhere...so we'll have to deal with that\n",
        "n = nontext.dropna()\n",
        "\n",
        "# figure out the % of non-NAs per column and plot it\n",
        "# see here https://stackoverflow.com/questions/22257527/how-do-i-get-a-summary-count-of-missing-nan-data-by-column-in-pandas\n",
        "\n",
        "# calculate % non-NA [hence the 1-]\n",
        "nacount = (1-(nontext.isnull().sum()/len(nontext)))*100\n",
        "\n",
        "# plot as a bar chart\n",
        "plt.bar([x for x in range(len(nacount))], nacount, color=\"r\")\n",
        "plt.xlabel(\"Features\")\n",
        "plt.ylabel(\"Percent non-NA\")\n",
        "plt.title(\"Percent non-NA values for LABEVENTS data matrix\")\n",
        "plt.show()"
      ],
      "execution_count": 77,
      "outputs": [
        {
          "output_type": "display_data",
          "data": {
            "image/png": "[encoded data removed]",
            "text/plain": [
              "<Figure size 432x288 with 1 Axes>"
            ]
          },
          "metadata": {
            "tags": [],
            "needs_background": "light"
          }
        }
      ]
    }
  ]
}